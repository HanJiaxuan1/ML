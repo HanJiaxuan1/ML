{
 "cells": [
  {
   "cell_type": "markdown",
   "id": "f54a0689",
   "metadata": {},
   "source": [
    "# CEGE0004: Assignment 1\n",
    "\n",
    "## Decision Tree\n",
    "\n",
    "In this notebook I will implement the Decision Tree in scikit-learn and predict the default of credit card client.\n",
    "\n",
    "## The Dataset\n",
    "\n",
    "I am working with the default of credit card clients Data Set from UCI Machine Learning Repository, to to classify and predict customer defaults. The link of dataset is shown below:\n",
    "\n",
    "https://archive.ics.uci.edu/ml/datasets/default+of+credit+card+clients\n",
    "\n",
    "The dataset employes a binary variable, default (Yes = 1, No = 0), as the response variable. At the same time, the following 23 variables are used as explanatory variables:\n",
    "\n",
    "X1: Amount of the given credit: it includes both the individual consumer credit and his/her family credit.\n",
    "\n",
    "X2: Gender (1 = male; 2 = female).\n",
    "\n",
    "X3: Education (1 = graduate school; 2 = university; 3 = high school; 4 = others).\n",
    "\n",
    "X4: Marital status (1 = married; 2 = single; 3 = others).\n",
    "\n",
    "X5: Age (year).\n",
    "\n",
    "X6 - X11: History of past payment from April to September. (e.g. X6 = the repayment status in September; X7 = the repayment status in August; . . .) The measurement scale for the repayment status is: -1 = pay duly; 1 = payment delay for one month; . . .; 9 = payment delay for nine months and above.\n",
    "\n",
    "X12 - X17: Amount of bill statement. (e.g. X12 = amount of bill statement in September; X13 = amount of bill statement in August; . . .).\n",
    "\n",
    "X18 - X23: Amount of previous payment. (e.g. X18 = amount paid in September; X19 = amount paid in August, 2005; . . .).\n",
    "\n"
   ]
  },
  {
   "cell_type": "markdown",
   "id": "709b6bf6",
   "metadata": {},
   "source": [
    "## Start working by importing the required packages and dataset"
   ]
  },
  {
   "cell_type": "code",
   "execution_count": 1,
   "id": "27c2b34b",
   "metadata": {},
   "outputs": [],
   "source": [
    "import pandas as pd \n",
    "import numpy as np\n",
    "from sklearn import tree\n",
    "import matplotlib.pyplot as plt\n",
    "from sklearn.model_selection import cross_val_score\n",
    "from sklearn.model_selection import GridSearchCV\n",
    "from sklearn.metrics import accuracy_score\n",
    "from sklearn.tree import DecisionTreeClassifier"
   ]
  },
  {
   "cell_type": "code",
   "execution_count": 2,
   "id": "83983a8a",
   "metadata": {},
   "outputs": [],
   "source": [
    "x_train = pd.read_csv(\"x_train.csv\")\n",
    "x_test = pd.read_csv(\"x_test.csv\")\n",
    "y_train = pd.read_csv(\"y_train.csv\")\n",
    "y_test = pd.read_csv(\"y_test.csv\")"
   ]
  },
  {
   "cell_type": "markdown",
   "id": "24f6d904",
   "metadata": {},
   "source": [
    "Combine the training set and test set for future use when plot"
   ]
  },
  {
   "cell_type": "code",
   "execution_count": 3,
   "id": "818245a1",
   "metadata": {},
   "outputs": [],
   "source": [
    "x = pd.concat([x_train, x_test])\n",
    "y = pd.concat([y_train, y_test])"
   ]
  },
  {
   "cell_type": "markdown",
   "id": "c4f13442",
   "metadata": {},
   "source": [
    "### Let us first try to randomly fit a model to see the accuracy"
   ]
  },
  {
   "cell_type": "markdown",
   "id": "e8ab41ab",
   "metadata": {},
   "source": [
    "### Try ID3 algorithm (hype parameter: entropy)"
   ]
  },
  {
   "cell_type": "code",
   "execution_count": 4,
   "id": "4c1dcac4",
   "metadata": {},
   "outputs": [
    {
     "data": {
      "text/html": [
       "<style>#sk-container-id-1 {color: black;background-color: white;}#sk-container-id-1 pre{padding: 0;}#sk-container-id-1 div.sk-toggleable {background-color: white;}#sk-container-id-1 label.sk-toggleable__label {cursor: pointer;display: block;width: 100%;margin-bottom: 0;padding: 0.3em;box-sizing: border-box;text-align: center;}#sk-container-id-1 label.sk-toggleable__label-arrow:before {content: \"▸\";float: left;margin-right: 0.25em;color: #696969;}#sk-container-id-1 label.sk-toggleable__label-arrow:hover:before {color: black;}#sk-container-id-1 div.sk-estimator:hover label.sk-toggleable__label-arrow:before {color: black;}#sk-container-id-1 div.sk-toggleable__content {max-height: 0;max-width: 0;overflow: hidden;text-align: left;background-color: #f0f8ff;}#sk-container-id-1 div.sk-toggleable__content pre {margin: 0.2em;color: black;border-radius: 0.25em;background-color: #f0f8ff;}#sk-container-id-1 input.sk-toggleable__control:checked~div.sk-toggleable__content {max-height: 200px;max-width: 100%;overflow: auto;}#sk-container-id-1 input.sk-toggleable__control:checked~label.sk-toggleable__label-arrow:before {content: \"▾\";}#sk-container-id-1 div.sk-estimator input.sk-toggleable__control:checked~label.sk-toggleable__label {background-color: #d4ebff;}#sk-container-id-1 div.sk-label input.sk-toggleable__control:checked~label.sk-toggleable__label {background-color: #d4ebff;}#sk-container-id-1 input.sk-hidden--visually {border: 0;clip: rect(1px 1px 1px 1px);clip: rect(1px, 1px, 1px, 1px);height: 1px;margin: -1px;overflow: hidden;padding: 0;position: absolute;width: 1px;}#sk-container-id-1 div.sk-estimator {font-family: monospace;background-color: #f0f8ff;border: 1px dotted black;border-radius: 0.25em;box-sizing: border-box;margin-bottom: 0.5em;}#sk-container-id-1 div.sk-estimator:hover {background-color: #d4ebff;}#sk-container-id-1 div.sk-parallel-item::after {content: \"\";width: 100%;border-bottom: 1px solid gray;flex-grow: 1;}#sk-container-id-1 div.sk-label:hover label.sk-toggleable__label {background-color: #d4ebff;}#sk-container-id-1 div.sk-serial::before {content: \"\";position: absolute;border-left: 1px solid gray;box-sizing: border-box;top: 0;bottom: 0;left: 50%;z-index: 0;}#sk-container-id-1 div.sk-serial {display: flex;flex-direction: column;align-items: center;background-color: white;padding-right: 0.2em;padding-left: 0.2em;position: relative;}#sk-container-id-1 div.sk-item {position: relative;z-index: 1;}#sk-container-id-1 div.sk-parallel {display: flex;align-items: stretch;justify-content: center;background-color: white;position: relative;}#sk-container-id-1 div.sk-item::before, #sk-container-id-1 div.sk-parallel-item::before {content: \"\";position: absolute;border-left: 1px solid gray;box-sizing: border-box;top: 0;bottom: 0;left: 50%;z-index: -1;}#sk-container-id-1 div.sk-parallel-item {display: flex;flex-direction: column;z-index: 1;position: relative;background-color: white;}#sk-container-id-1 div.sk-parallel-item:first-child::after {align-self: flex-end;width: 50%;}#sk-container-id-1 div.sk-parallel-item:last-child::after {align-self: flex-start;width: 50%;}#sk-container-id-1 div.sk-parallel-item:only-child::after {width: 0;}#sk-container-id-1 div.sk-dashed-wrapped {border: 1px dashed gray;margin: 0 0.4em 0.5em 0.4em;box-sizing: border-box;padding-bottom: 0.4em;background-color: white;}#sk-container-id-1 div.sk-label label {font-family: monospace;font-weight: bold;display: inline-block;line-height: 1.2em;}#sk-container-id-1 div.sk-label-container {text-align: center;}#sk-container-id-1 div.sk-container {/* jupyter's `normalize.less` sets `[hidden] { display: none; }` but bootstrap.min.css set `[hidden] { display: none !important; }` so we also need the `!important` here to be able to override the default hidden behavior on the sphinx rendered scikit-learn.org. See: https://github.com/scikit-learn/scikit-learn/issues/21755 */display: inline-block !important;position: relative;}#sk-container-id-1 div.sk-text-repr-fallback {display: none;}</style><div id=\"sk-container-id-1\" class=\"sk-top-container\"><div class=\"sk-text-repr-fallback\"><pre>DecisionTreeClassifier(criterion=&#x27;entropy&#x27;, max_depth=6)</pre><b>In a Jupyter environment, please rerun this cell to show the HTML representation or trust the notebook. <br />On GitHub, the HTML representation is unable to render, please try loading this page with nbviewer.org.</b></div><div class=\"sk-container\" hidden><div class=\"sk-item\"><div class=\"sk-estimator sk-toggleable\"><input class=\"sk-toggleable__control sk-hidden--visually\" id=\"sk-estimator-id-1\" type=\"checkbox\" checked><label for=\"sk-estimator-id-1\" class=\"sk-toggleable__label sk-toggleable__label-arrow\">DecisionTreeClassifier</label><div class=\"sk-toggleable__content\"><pre>DecisionTreeClassifier(criterion=&#x27;entropy&#x27;, max_depth=6)</pre></div></div></div></div></div>"
      ],
      "text/plain": [
       "DecisionTreeClassifier(criterion='entropy', max_depth=6)"
      ]
     },
     "execution_count": 4,
     "metadata": {},
     "output_type": "execute_result"
    }
   ],
   "source": [
    "ID3_model = DecisionTreeClassifier(max_depth=6,criterion='entropy')\n",
    "ID3_model.fit(x_train,y_train)"
   ]
  },
  {
   "cell_type": "markdown",
   "id": "a249126e",
   "metadata": {},
   "source": [
    "Now predcit to see the accuracy"
   ]
  },
  {
   "cell_type": "code",
   "execution_count": 5,
   "id": "14fe9f93",
   "metadata": {},
   "outputs": [
    {
     "data": {
      "text/plain": [
       "0.8256666666666667"
      ]
     },
     "execution_count": 5,
     "metadata": {},
     "output_type": "execute_result"
    }
   ],
   "source": [
    "ID3_y_pred = ID3_model.predict(x_test)\n",
    "ID3_score =accuracy_score(ID3_y_pred, y_test)\n",
    "ID3_score"
   ]
  },
  {
   "cell_type": "markdown",
   "id": "4b064876",
   "metadata": {},
   "source": [
    "You can see that the accuracy is 0.8255"
   ]
  },
  {
   "cell_type": "markdown",
   "id": "177e5267",
   "metadata": {},
   "source": [
    "### Let us try to fit another model to see the accuracy"
   ]
  },
  {
   "cell_type": "markdown",
   "id": "ccb30e56",
   "metadata": {},
   "source": [
    "### Try CART algorithm (hype parameter: gini)"
   ]
  },
  {
   "cell_type": "code",
   "execution_count": 6,
   "id": "2b159f17",
   "metadata": {},
   "outputs": [
    {
     "data": {
      "text/html": [
       "<style>#sk-container-id-2 {color: black;background-color: white;}#sk-container-id-2 pre{padding: 0;}#sk-container-id-2 div.sk-toggleable {background-color: white;}#sk-container-id-2 label.sk-toggleable__label {cursor: pointer;display: block;width: 100%;margin-bottom: 0;padding: 0.3em;box-sizing: border-box;text-align: center;}#sk-container-id-2 label.sk-toggleable__label-arrow:before {content: \"▸\";float: left;margin-right: 0.25em;color: #696969;}#sk-container-id-2 label.sk-toggleable__label-arrow:hover:before {color: black;}#sk-container-id-2 div.sk-estimator:hover label.sk-toggleable__label-arrow:before {color: black;}#sk-container-id-2 div.sk-toggleable__content {max-height: 0;max-width: 0;overflow: hidden;text-align: left;background-color: #f0f8ff;}#sk-container-id-2 div.sk-toggleable__content pre {margin: 0.2em;color: black;border-radius: 0.25em;background-color: #f0f8ff;}#sk-container-id-2 input.sk-toggleable__control:checked~div.sk-toggleable__content {max-height: 200px;max-width: 100%;overflow: auto;}#sk-container-id-2 input.sk-toggleable__control:checked~label.sk-toggleable__label-arrow:before {content: \"▾\";}#sk-container-id-2 div.sk-estimator input.sk-toggleable__control:checked~label.sk-toggleable__label {background-color: #d4ebff;}#sk-container-id-2 div.sk-label input.sk-toggleable__control:checked~label.sk-toggleable__label {background-color: #d4ebff;}#sk-container-id-2 input.sk-hidden--visually {border: 0;clip: rect(1px 1px 1px 1px);clip: rect(1px, 1px, 1px, 1px);height: 1px;margin: -1px;overflow: hidden;padding: 0;position: absolute;width: 1px;}#sk-container-id-2 div.sk-estimator {font-family: monospace;background-color: #f0f8ff;border: 1px dotted black;border-radius: 0.25em;box-sizing: border-box;margin-bottom: 0.5em;}#sk-container-id-2 div.sk-estimator:hover {background-color: #d4ebff;}#sk-container-id-2 div.sk-parallel-item::after {content: \"\";width: 100%;border-bottom: 1px solid gray;flex-grow: 1;}#sk-container-id-2 div.sk-label:hover label.sk-toggleable__label {background-color: #d4ebff;}#sk-container-id-2 div.sk-serial::before {content: \"\";position: absolute;border-left: 1px solid gray;box-sizing: border-box;top: 0;bottom: 0;left: 50%;z-index: 0;}#sk-container-id-2 div.sk-serial {display: flex;flex-direction: column;align-items: center;background-color: white;padding-right: 0.2em;padding-left: 0.2em;position: relative;}#sk-container-id-2 div.sk-item {position: relative;z-index: 1;}#sk-container-id-2 div.sk-parallel {display: flex;align-items: stretch;justify-content: center;background-color: white;position: relative;}#sk-container-id-2 div.sk-item::before, #sk-container-id-2 div.sk-parallel-item::before {content: \"\";position: absolute;border-left: 1px solid gray;box-sizing: border-box;top: 0;bottom: 0;left: 50%;z-index: -1;}#sk-container-id-2 div.sk-parallel-item {display: flex;flex-direction: column;z-index: 1;position: relative;background-color: white;}#sk-container-id-2 div.sk-parallel-item:first-child::after {align-self: flex-end;width: 50%;}#sk-container-id-2 div.sk-parallel-item:last-child::after {align-self: flex-start;width: 50%;}#sk-container-id-2 div.sk-parallel-item:only-child::after {width: 0;}#sk-container-id-2 div.sk-dashed-wrapped {border: 1px dashed gray;margin: 0 0.4em 0.5em 0.4em;box-sizing: border-box;padding-bottom: 0.4em;background-color: white;}#sk-container-id-2 div.sk-label label {font-family: monospace;font-weight: bold;display: inline-block;line-height: 1.2em;}#sk-container-id-2 div.sk-label-container {text-align: center;}#sk-container-id-2 div.sk-container {/* jupyter's `normalize.less` sets `[hidden] { display: none; }` but bootstrap.min.css set `[hidden] { display: none !important; }` so we also need the `!important` here to be able to override the default hidden behavior on the sphinx rendered scikit-learn.org. See: https://github.com/scikit-learn/scikit-learn/issues/21755 */display: inline-block !important;position: relative;}#sk-container-id-2 div.sk-text-repr-fallback {display: none;}</style><div id=\"sk-container-id-2\" class=\"sk-top-container\"><div class=\"sk-text-repr-fallback\"><pre>DecisionTreeClassifier(max_depth=6)</pre><b>In a Jupyter environment, please rerun this cell to show the HTML representation or trust the notebook. <br />On GitHub, the HTML representation is unable to render, please try loading this page with nbviewer.org.</b></div><div class=\"sk-container\" hidden><div class=\"sk-item\"><div class=\"sk-estimator sk-toggleable\"><input class=\"sk-toggleable__control sk-hidden--visually\" id=\"sk-estimator-id-2\" type=\"checkbox\" checked><label for=\"sk-estimator-id-2\" class=\"sk-toggleable__label sk-toggleable__label-arrow\">DecisionTreeClassifier</label><div class=\"sk-toggleable__content\"><pre>DecisionTreeClassifier(max_depth=6)</pre></div></div></div></div></div>"
      ],
      "text/plain": [
       "DecisionTreeClassifier(max_depth=6)"
      ]
     },
     "execution_count": 6,
     "metadata": {},
     "output_type": "execute_result"
    }
   ],
   "source": [
    "CART_model = DecisionTreeClassifier(max_depth=6,criterion='gini')\n",
    "CART_model.fit(x_train,y_train)"
   ]
  },
  {
   "cell_type": "code",
   "execution_count": 7,
   "id": "da91503b",
   "metadata": {},
   "outputs": [
    {
     "data": {
      "text/plain": [
       "0.8253333333333334"
      ]
     },
     "execution_count": 7,
     "metadata": {},
     "output_type": "execute_result"
    }
   ],
   "source": [
    "CART_y_pred = CART_model.predict(x_test)\n",
    "CART_score =accuracy_score(CART_y_pred, y_test)\n",
    "CART_score"
   ]
  },
  {
   "cell_type": "markdown",
   "id": "60451a3f",
   "metadata": {},
   "source": [
    "Accuracy has not changed much. Now let us try to find the best hype parameters"
   ]
  },
  {
   "cell_type": "markdown",
   "id": "2c9f5ae4",
   "metadata": {},
   "source": [
    "### GridsearchCV for hype parameters and validation\n",
    "Find the best hyper-parameter values via grid search of scikit-learn. This will perform a k-fold cross-validation on the training set"
   ]
  },
  {
   "cell_type": "code",
   "execution_count": 8,
   "id": "f957e71a",
   "metadata": {},
   "outputs": [
    {
     "name": "stdout",
     "output_type": "stream",
     "text": [
      "{'criterion': 'gini', 'max_depth': 3}\n"
     ]
    }
   ],
   "source": [
    "parameters = {\"criterion\":(\"gini\",\"entropy\") ,\"max_depth\":[*range(1,10)]}\n",
    "clf = DecisionTreeClassifier(random_state=0)\n",
    "GS = GridSearchCV(clf,parameters,cv=10)\n",
    "GS = GS.fit(x_train,y_train)\n",
    "print(GS.best_params_)"
   ]
  },
  {
   "cell_type": "markdown",
   "id": "870545e7",
   "metadata": {},
   "source": [
    "### After performing the GridsearchCV, the best hype parameters are found for this dataset. Specifically, the criterion is gini and max_depth is 3. It is noted that the max_depth is 3, which is not a boundary value for the range, so this parameter is the best hype parameter for this model"
   ]
  },
  {
   "cell_type": "markdown",
   "id": "d4021cdf",
   "metadata": {},
   "source": [
    "Fit the best model and predict the result to see accuracy"
   ]
  },
  {
   "cell_type": "code",
   "execution_count": 9,
   "id": "977f9767",
   "metadata": {},
   "outputs": [
    {
     "data": {
      "text/plain": [
       "0.8263333333333334"
      ]
     },
     "execution_count": 9,
     "metadata": {},
     "output_type": "execute_result"
    }
   ],
   "source": [
    "best_model = DecisionTreeClassifier(max_depth=3,criterion='gini')\n",
    "best_model.fit(x_train,y_train)\n",
    "y_pred = best_model.predict(x_test)\n",
    "score =accuracy_score(y_pred, y_test)\n",
    "score"
   ]
  },
  {
   "cell_type": "markdown",
   "id": "4f660509",
   "metadata": {},
   "source": [
    "### The slight improvement in accuracy suggests that the hype parameter selection did help us improve the performance of the model"
   ]
  },
  {
   "cell_type": "markdown",
   "id": "1bc13d02",
   "metadata": {},
   "source": [
    "### Plots for the accuracies of ID3 and CART with different max_depth"
   ]
  },
  {
   "cell_type": "markdown",
   "id": "6a65133e",
   "metadata": {},
   "source": [
    "Let us plot the graph to directly show how the accuracy changes based on different max_depth"
   ]
  },
  {
   "cell_type": "markdown",
   "id": "a621fbf7",
   "metadata": {},
   "source": [
    "### For ID3 algorithm"
   ]
  },
  {
   "cell_type": "code",
   "execution_count": 10,
   "id": "37313268",
   "metadata": {},
   "outputs": [
    {
     "data": {
      "image/png": "[encoded data removed]",
      "text/plain": [
       "<Figure size 432x288 with 1 Axes>"
      ]
     },
     "metadata": {
      "needs_background": "light"
     },
     "output_type": "display_data"
    }
   ],
   "source": [
    "scoreTest = []\n",
    "scoreTrain = []\n",
    "for i in range(10):\n",
    "    clf = DecisionTreeClassifier(random_state=0, max_depth=i+1, criterion=\"entropy\")\n",
    "    clf = clf.fit(x_train,y_train)\n",
    "    onceTrain = clf.score(x_train,y_train)\n",
    "    onceTest = cross_val_score(clf,x,y,cv=10).mean()\n",
    "    scoreTest.append(onceTest)\n",
    "    scoreTrain.append(onceTrain)\n",
    "\n",
    "plt.figure()\n",
    "plt.plot(range(1,11),scoreTrain,color=\"red\",label=\"train\")\n",
    "plt.plot(range(1,11),scoreTest,color=\"blue\",label=\"test\")\n",
    "plt.xticks(range(1,11))\n",
    "plt.xlabel('Max_Depth')\n",
    "plt.ylabel('Accuracy')\n",
    "plt.legend()\n",
    "plt.show()"
   ]
  },
  {
   "cell_type": "markdown",
   "id": "2d2d84bd",
   "metadata": {},
   "source": [
    "### As shown in the figure, the accuracy reaches its highest value when max_depth is 3, which corresponds to the answer of GridsearchCV"
   ]
  },
  {
   "cell_type": "markdown",
   "id": "7e4c09ab",
   "metadata": {},
   "source": [
    "### For CART algorithm"
   ]
  },
  {
   "cell_type": "code",
   "execution_count": 11,
   "id": "c9c8f2a9",
   "metadata": {},
   "outputs": [
    {
     "data": {
      "image/png": "[encoded data removed]",
      "text/plain": [
       "<Figure size 432x288 with 1 Axes>"
      ]
     },
     "metadata": {
      "needs_background": "light"
     },
     "output_type": "display_data"
    }
   ],
   "source": [
    "scoreTest = []\n",
    "scoreTrain = []\n",
    "for i in range(10):\n",
    "    clf = DecisionTreeClassifier(random_state=0, max_depth=i+1, criterion=\"gini\")\n",
    "    clf = clf.fit(x_train,y_train)\n",
    "    onceTrain = clf.score(x_train,y_train)\n",
    "    onceTest = cross_val_score(clf,x,y,cv=10).mean()\n",
    "    scoreTest.append(onceTest)\n",
    "    scoreTrain.append(onceTrain)\n",
    "plt.figure()\n",
    "plt.plot(range(1,11),scoreTrain,color=\"red\",label=\"train\")\n",
    "plt.plot(range(1,11),scoreTest,color=\"blue\",label=\"test\")\n",
    "plt.xticks(range(1,11))\n",
    "plt.xlabel('Max_Depth')\n",
    "plt.ylabel('Accuracy')\n",
    "plt.legend()\n",
    "plt.show()"
   ]
  },
  {
   "cell_type": "markdown",
   "id": "7592066b",
   "metadata": {},
   "source": [
    "### As you can see here, the accuracy reaches its highest value when max_depth is 3. However, this accuracy is still smaller than those of ID3 algorithm. As a result, it is believed that the GridsearchCV indeed helps us to find the best model"
   ]
  },
  {
   "cell_type": "markdown",
   "id": "904dcfe2",
   "metadata": {},
   "source": [
    "### Next, let us plot the performance of different models to directly show the comparison\n",
    "\n",
    "### It is noted that after selecting the best hype parameters by using GridsearchCV, the accuracy is improved slightly"
   ]
  },
  {
   "cell_type": "code",
   "execution_count": 12,
   "id": "b837b717",
   "metadata": {},
   "outputs": [
    {
     "data": {
      "image/png": "[encoded data removed]",
      "text/plain": [
       "<Figure size 432x288 with 1 Axes>"
      ]
     },
     "metadata": {
      "needs_background": "light"
     },
     "output_type": "display_data"
    }
   ],
   "source": [
    "import matplotlib.pyplot as plt\n",
    "import numpy as np\n",
    "models = np.array(['DecisionTreeClassifier(max_depth=6,criterion=\\'entropy\\')',\n",
    "                   'DecisionTreeClassifier(max_depth=6,criterion=\\'gini\\')',\n",
    "                   'DecisionTreeClassifier(max_depth=3,criterion=\\'gini\\')'])\n",
    "accuracy = np.array([0.8255,0.8252,0.8263])\n",
    "colors = ['b', 'b', 'r']\n",
    "plt.bar(models, accuracy, color=colors)\n",
    "plt.xticks(np.arange(len(models)), models,rotation=90)\n",
    "plt.ylim(0.8, 0.84)\n",
    "plt.xlabel('Model')\n",
    "plt.ylabel('Accuracy')\n",
    "for i, v in enumerate(accuracy):\n",
    "    plt.text(i, v+0.001, str(v), ha='center', fontsize=10)\n",
    "plt.show()"
   ]
  },
  {
   "cell_type": "markdown",
   "id": "4ebab0ad",
   "metadata": {},
   "source": [
    "### Now let us save the best model for performance comparisons and ensemble model"
   ]
  },
  {
   "cell_type": "code",
   "execution_count": 13,
   "id": "7260112f",
   "metadata": {},
   "outputs": [],
   "source": [
    "import pickle\n",
    "filename = 'DecisionTree.sav'\n",
    "pickle.dump(best_model, open(filename, 'wb'))"
   ]
  },
  {
   "cell_type": "markdown",
   "id": "7a71bb4a",
   "metadata": {},
   "source": [
    "You can use the code below to load the model again"
   ]
  },
  {
   "cell_type": "code",
   "execution_count": 14,
   "id": "c02e50d6",
   "metadata": {},
   "outputs": [],
   "source": [
    "loaded_model = pickle.load(open(filename, 'rb'))"
   ]
  }
 ],
 "metadata": {
  "kernelspec": {
   "display_name": "Python 3 (ipykernel)",
   "language": "python",
   "name": "python3"
  },
  "language_info": {
   "codemirror_mode": {
    "name": "ipython",
    "version": 3
   },
   "file_extension": ".py",
   "mimetype": "text/x-python",
   "name": "python",
   "nbconvert_exporter": "python",
   "pygments_lexer": "ipython3",
   "version": "3.9.12"
  }
 },
 "nbformat": 4,
 "nbformat_minor": 5
}
