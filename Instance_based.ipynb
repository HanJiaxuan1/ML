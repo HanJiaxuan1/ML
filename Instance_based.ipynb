{
 "cells": [
  {
   "cell_type": "markdown",
   "metadata": {},
   "source": [
    "# CEGE0004: Assignment 1"
   ]
  },
  {
   "cell_type": "markdown",
   "metadata": {},
   "source": [
    "# Instance-based Learning"
   ]
  },
  {
   "cell_type": "markdown",
   "metadata": {},
   "source": [
    "In this notebook we will implement the Instance-based Learning in scikit-learn and predict the default of credit card client."
   ]
  },
  {
   "cell_type": "markdown",
   "metadata": {},
   "source": [
    "## The Dataset"
   ]
  },
  {
   "cell_type": "markdown",
   "metadata": {},
   "source": [
    "I am working with the default of credit card clients Data Set from UCI Machine Learning Repository, to classify and predict customer defaults. The link of dataset is shown below:\n",
    "\n",
    "https://archive.ics.uci.edu/ml/datasets/default+of+credit+card+clients\n",
    "\n",
    "The dataset employes a binary variable, default (Yes = 1, No = 0), as the response variable. At the same time, the following 23 variables are used as explanatory variables:\n",
    "\n",
    "X1: Amount of the given credit: it includes both the individual consumer credit and his/her family credit.\n",
    "\n",
    "X2: Gender (1 = male; 2 = female).\n",
    "\n",
    "X3: Education (1 = graduate school; 2 = university; 3 = high school; 4 = others).\n",
    "\n",
    "X4: Marital status (1 = married; 2 = single; 3 = others).\n",
    "\n",
    "X5: Age (year).\n",
    "\n",
    "X6 - X11: History of past payment from April to September. (e.g. X6 = the repayment status in September; X7 = the repayment status in August; . . .) The measurement scale for the repayment status is: -1 = pay duly; 1 = payment delay for one month; . . .; 9 = payment delay for nine months and above.\n",
    "\n",
    "X12 - X17: Amount of bill statement. (e.g. X12 = amount of bill statement in September; X13 = amount of bill statement in August; . . .).\n",
    "\n",
    "X18 - X23: Amount of previous payment. (e.g. X18 = amount paid in September; X19 = amount paid in August, 2005; . . .)."
   ]
  },
  {
   "cell_type": "markdown",
   "metadata": {},
   "source": [
    "## Import the required packages and dataset"
   ]
  },
  {
   "cell_type": "code",
   "execution_count": 1,
   "metadata": {},
   "outputs": [],
   "source": [
    "import pandas as pd\n",
    "import numpy as np\n",
    "from sklearn.metrics import accuracy_score\n",
    "from sklearn.neighbors import KNeighborsClassifier"
   ]
  },
  {
   "cell_type": "code",
   "execution_count": 2,
   "metadata": {},
   "outputs": [],
   "source": [
    "x_train = pd.read_csv(\"x_train.csv\")\n",
    "x_test = pd.read_csv(\"x_test.csv\")\n",
    "y_train = pd.read_csv(\"y_train.csv\")\n",
    "y_test = pd.read_csv(\"y_test.csv\")"
   ]
  },
  {
   "cell_type": "markdown",
   "metadata": {},
   "source": [
    "Convert y_train and y_test from multi-dimensional array into one-dimensional array."
   ]
  },
  {
   "cell_type": "code",
   "execution_count": 3,
   "metadata": {},
   "outputs": [],
   "source": [
    "y_train = np.ravel(y_train)\n",
    "y_test = np.ravel(y_test)"
   ]
  },
  {
   "cell_type": "markdown",
   "metadata": {},
   "source": [
    "## Define the accuracy measure\n",
    "Accuracy is equal to the proportion of examples that the classifier predicted correctly"
   ]
  },
  {
   "cell_type": "code",
   "execution_count": 4,
   "metadata": {},
   "outputs": [],
   "source": [
    "def accuracy(ys, ys_hat):\n",
    "    res = 0\n",
    "    for y, y_hat in zip(ys, ys_hat):\n",
    "        if y == y_hat:\n",
    "            res += 1\n",
    "    res /= len(ys)\n",
    "    return res"
   ]
  },
  {
   "cell_type": "markdown",
   "metadata": {},
   "source": [
    "## kNN in Scikit-Learn\n",
    "\n",
    "Then use the kNN implementation of scikit-learn."
   ]
  },
  {
   "cell_type": "markdown",
   "metadata": {},
   "source": [
    "Import the packages needed and  creates an instance of the KNeighborsClassifier class from the sklearn.neighbors module.\n",
    "KNeighborsClassifier works by finding the k-nearest neighbors of a given data point in the feature space, and assigning it to the class that is most common among its neighbors. "
   ]
  },
  {
   "cell_type": "markdown",
   "metadata": {},
   "source": [
    "Firstly let's try the number of neighbors is 3 and use 'euclidean' as distance metric."
   ]
  },
  {
   "cell_type": "code",
   "execution_count": 5,
   "metadata": {},
   "outputs": [],
   "source": [
    "knn_clf = KNeighborsClassifier(n_neighbors=3, metric='euclidean')"
   ]
  },
  {
   "cell_type": "markdown",
   "metadata": {},
   "source": [
    "Train the model"
   ]
  },
  {
   "cell_type": "code",
   "execution_count": 6,
   "metadata": {
    "scrolled": true
   },
   "outputs": [
    {
     "data": {
      "text/html": [
       "<style>#sk-container-id-1 {color: black;background-color: white;}#sk-container-id-1 pre{padding: 0;}#sk-container-id-1 div.sk-toggleable {background-color: white;}#sk-container-id-1 label.sk-toggleable__label {cursor: pointer;display: block;width: 100%;margin-bottom: 0;padding: 0.3em;box-sizing: border-box;text-align: center;}#sk-container-id-1 label.sk-toggleable__label-arrow:before {content: \"▸\";float: left;margin-right: 0.25em;color: #696969;}#sk-container-id-1 label.sk-toggleable__label-arrow:hover:before {color: black;}#sk-container-id-1 div.sk-estimator:hover label.sk-toggleable__label-arrow:before {color: black;}#sk-container-id-1 div.sk-toggleable__content {max-height: 0;max-width: 0;overflow: hidden;text-align: left;background-color: #f0f8ff;}#sk-container-id-1 div.sk-toggleable__content pre {margin: 0.2em;color: black;border-radius: 0.25em;background-color: #f0f8ff;}#sk-container-id-1 input.sk-toggleable__control:checked~div.sk-toggleable__content {max-height: 200px;max-width: 100%;overflow: auto;}#sk-container-id-1 input.sk-toggleable__control:checked~label.sk-toggleable__label-arrow:before {content: \"▾\";}#sk-container-id-1 div.sk-estimator input.sk-toggleable__control:checked~label.sk-toggleable__label {background-color: #d4ebff;}#sk-container-id-1 div.sk-label input.sk-toggleable__control:checked~label.sk-toggleable__label {background-color: #d4ebff;}#sk-container-id-1 input.sk-hidden--visually {border: 0;clip: rect(1px 1px 1px 1px);clip: rect(1px, 1px, 1px, 1px);height: 1px;margin: -1px;overflow: hidden;padding: 0;position: absolute;width: 1px;}#sk-container-id-1 div.sk-estimator {font-family: monospace;background-color: #f0f8ff;border: 1px dotted black;border-radius: 0.25em;box-sizing: border-box;margin-bottom: 0.5em;}#sk-container-id-1 div.sk-estimator:hover {background-color: #d4ebff;}#sk-container-id-1 div.sk-parallel-item::after {content: \"\";width: 100%;border-bottom: 1px solid gray;flex-grow: 1;}#sk-container-id-1 div.sk-label:hover label.sk-toggleable__label {background-color: #d4ebff;}#sk-container-id-1 div.sk-serial::before {content: \"\";position: absolute;border-left: 1px solid gray;box-sizing: border-box;top: 0;bottom: 0;left: 50%;z-index: 0;}#sk-container-id-1 div.sk-serial {display: flex;flex-direction: column;align-items: center;background-color: white;padding-right: 0.2em;padding-left: 0.2em;position: relative;}#sk-container-id-1 div.sk-item {position: relative;z-index: 1;}#sk-container-id-1 div.sk-parallel {display: flex;align-items: stretch;justify-content: center;background-color: white;position: relative;}#sk-container-id-1 div.sk-item::before, #sk-container-id-1 div.sk-parallel-item::before {content: \"\";position: absolute;border-left: 1px solid gray;box-sizing: border-box;top: 0;bottom: 0;left: 50%;z-index: -1;}#sk-container-id-1 div.sk-parallel-item {display: flex;flex-direction: column;z-index: 1;position: relative;background-color: white;}#sk-container-id-1 div.sk-parallel-item:first-child::after {align-self: flex-end;width: 50%;}#sk-container-id-1 div.sk-parallel-item:last-child::after {align-self: flex-start;width: 50%;}#sk-container-id-1 div.sk-parallel-item:only-child::after {width: 0;}#sk-container-id-1 div.sk-dashed-wrapped {border: 1px dashed gray;margin: 0 0.4em 0.5em 0.4em;box-sizing: border-box;padding-bottom: 0.4em;background-color: white;}#sk-container-id-1 div.sk-label label {font-family: monospace;font-weight: bold;display: inline-block;line-height: 1.2em;}#sk-container-id-1 div.sk-label-container {text-align: center;}#sk-container-id-1 div.sk-container {/* jupyter's `normalize.less` sets `[hidden] { display: none; }` but bootstrap.min.css set `[hidden] { display: none !important; }` so we also need the `!important` here to be able to override the default hidden behavior on the sphinx rendered scikit-learn.org. See: https://github.com/scikit-learn/scikit-learn/issues/21755 */display: inline-block !important;position: relative;}#sk-container-id-1 div.sk-text-repr-fallback {display: none;}</style><div id=\"sk-container-id-1\" class=\"sk-top-container\"><div class=\"sk-text-repr-fallback\"><pre>KNeighborsClassifier(metric=&#x27;euclidean&#x27;, n_neighbors=3)</pre><b>In a Jupyter environment, please rerun this cell to show the HTML representation or trust the notebook. <br />On GitHub, the HTML representation is unable to render, please try loading this page with nbviewer.org.</b></div><div class=\"sk-container\" hidden><div class=\"sk-item\"><div class=\"sk-estimator sk-toggleable\"><input class=\"sk-toggleable__control sk-hidden--visually\" id=\"sk-estimator-id-1\" type=\"checkbox\" checked><label for=\"sk-estimator-id-1\" class=\"sk-toggleable__label sk-toggleable__label-arrow\">KNeighborsClassifier</label><div class=\"sk-toggleable__content\"><pre>KNeighborsClassifier(metric=&#x27;euclidean&#x27;, n_neighbors=3)</pre></div></div></div></div></div>"
      ],
      "text/plain": [
       "KNeighborsClassifier(metric='euclidean', n_neighbors=3)"
      ]
     },
     "execution_count": 6,
     "metadata": {},
     "output_type": "execute_result"
    }
   ],
   "source": [
    "knn_clf.fit(x_train, y_train)"
   ]
  },
  {
   "cell_type": "markdown",
   "metadata": {},
   "source": [
    "Evaluate the result of this classifier. "
   ]
  },
  {
   "cell_type": "code",
   "execution_count": 7,
   "metadata": {},
   "outputs": [
    {
     "name": "stdout",
     "output_type": "stream",
     "text": [
      "Test accuracy of kNN 0.744\n"
     ]
    }
   ],
   "source": [
    "y_test_pred = knn_clf.predict(x_test)\n",
    "print('Test accuracy of kNN', accuracy_score(y_test, y_test_pred))"
   ]
  },
  {
   "cell_type": "markdown",
   "metadata": {},
   "source": [
    "The accuracy is not very good. Try to fit another model with the hype parameters of n_neighbors=4, metric='cosine'"
   ]
  },
  {
   "cell_type": "code",
   "execution_count": 8,
   "metadata": {},
   "outputs": [
    {
     "name": "stdout",
     "output_type": "stream",
     "text": [
      "Test accuracy of kNN 0.7906666666666666\n"
     ]
    }
   ],
   "source": [
    "knn_clf = KNeighborsClassifier(n_neighbors=4, metric='cosine')\n",
    "knn_clf.fit(x_train, y_train)\n",
    "y_test_pred = knn_clf.predict(x_test)\n",
    "print('Test accuracy of kNN', accuracy_score(y_test, y_test_pred))"
   ]
  },
  {
   "cell_type": "markdown",
   "metadata": {},
   "source": [
    "This accuracy is relatively higher\n",
    "\n",
    "To further find the best hype parameters and perform cross-validation for the dataset, we will use GridsearchCV"
   ]
  },
  {
   "cell_type": "markdown",
   "metadata": {},
   "source": [
    "# GridsearchCV: Find the best hyper-parameters and perform cross-validation\n",
    "To find these hyper-parameter values we can exploit the grid search of scikit-learn. Then we could see the best hyper-parameter values found by the cross-validation."
   ]
  },
  {
   "cell_type": "markdown",
   "metadata": {},
   "source": [
    "First try to find the best parameter in range(1,11) for n_neighbors"
   ]
  },
  {
   "cell_type": "code",
   "execution_count": 9,
   "metadata": {},
   "outputs": [
    {
     "name": "stdout",
     "output_type": "stream",
     "text": [
      "Fitting 5 folds for each of 60 candidates, totalling 300 fits\n",
      "[CV] END ...metric=euclidean, n_neighbors=1, weights=uniform; total time=   0.1s\n",
      "[CV] END ...metric=euclidean, n_neighbors=1, weights=uniform; total time=   0.1s\n",
      "[CV] END ...metric=euclidean, n_neighbors=1, weights=uniform; total time=   0.1s\n",
      "[CV] END ...metric=euclidean, n_neighbors=1, weights=uniform; total time=   0.1s\n",
      "[CV] END ...metric=euclidean, n_neighbors=1, weights=uniform; total time=   0.1s\n",
      "[CV] END ..metric=euclidean, n_neighbors=1, weights=distance; total time=   0.0s\n",
      "[CV] END ..metric=euclidean, n_neighbors=1, weights=distance; total time=   0.0s\n",
      "[CV] END ..metric=euclidean, n_neighbors=1, weights=distance; total time=   0.0s\n",
      "[CV] END ..metric=euclidean, n_neighbors=1, weights=distance; total time=   0.0s\n",
      "[CV] END ..metric=euclidean, n_neighbors=1, weights=distance; total time=   0.0s\n",
      "[CV] END ...metric=euclidean, n_neighbors=2, weights=uniform; total time=   0.1s\n",
      "[CV] END ...metric=euclidean, n_neighbors=2, weights=uniform; total time=   0.1s\n",
      "[CV] END ...metric=euclidean, n_neighbors=2, weights=uniform; total time=   0.1s\n",
      "[CV] END ...metric=euclidean, n_neighbors=2, weights=uniform; total time=   0.1s\n",
      "[CV] END ...metric=euclidean, n_neighbors=2, weights=uniform; total time=   0.1s\n",
      "[CV] END ..metric=euclidean, n_neighbors=2, weights=distance; total time=   0.0s\n",
      "[CV] END ..metric=euclidean, n_neighbors=2, weights=distance; total time=   0.0s\n",
      "[CV] END ..metric=euclidean, n_neighbors=2, weights=distance; total time=   0.2s\n",
      "[CV] END ..metric=euclidean, n_neighbors=2, weights=distance; total time=   0.2s\n",
      "[CV] END ..metric=euclidean, n_neighbors=2, weights=distance; total time=   0.2s\n",
      "[CV] END ...metric=euclidean, n_neighbors=3, weights=uniform; total time=   0.3s\n",
      "[CV] END ...metric=euclidean, n_neighbors=3, weights=uniform; total time=   0.3s\n",
      "[CV] END ...metric=euclidean, n_neighbors=3, weights=uniform; total time=   0.3s\n",
      "[CV] END ...metric=euclidean, n_neighbors=3, weights=uniform; total time=   0.3s\n",
      "[CV] END ...metric=euclidean, n_neighbors=3, weights=uniform; total time=   0.3s\n",
      "[CV] END ..metric=euclidean, n_neighbors=3, weights=distance; total time=   0.2s\n",
      "[CV] END ..metric=euclidean, n_neighbors=3, weights=distance; total time=   0.2s\n",
      "[CV] END ..metric=euclidean, n_neighbors=3, weights=distance; total time=   0.2s\n",
      "[CV] END ..metric=euclidean, n_neighbors=3, weights=distance; total time=   0.2s\n",
      "[CV] END ..metric=euclidean, n_neighbors=3, weights=distance; total time=   0.2s\n",
      "[CV] END ...metric=euclidean, n_neighbors=4, weights=uniform; total time=   0.4s\n",
      "[CV] END ...metric=euclidean, n_neighbors=4, weights=uniform; total time=   0.3s\n",
      "[CV] END ...metric=euclidean, n_neighbors=4, weights=uniform; total time=   0.3s\n",
      "[CV] END ...metric=euclidean, n_neighbors=4, weights=uniform; total time=   0.3s\n",
      "[CV] END ...metric=euclidean, n_neighbors=4, weights=uniform; total time=   0.3s\n",
      "[CV] END ..metric=euclidean, n_neighbors=4, weights=distance; total time=   0.2s\n",
      "[CV] END ..metric=euclidean, n_neighbors=4, weights=distance; total time=   0.2s\n",
      "[CV] END ..metric=euclidean, n_neighbors=4, weights=distance; total time=   0.2s\n",
      "[CV] END ..metric=euclidean, n_neighbors=4, weights=distance; total time=   0.2s\n",
      "[CV] END ..metric=euclidean, n_neighbors=4, weights=distance; total time=   0.2s\n",
      "[CV] END ...metric=euclidean, n_neighbors=5, weights=uniform; total time=   0.3s\n",
      "[CV] END ...metric=euclidean, n_neighbors=5, weights=uniform; total time=   0.3s\n",
      "[CV] END ...metric=euclidean, n_neighbors=5, weights=uniform; total time=   0.3s\n",
      "[CV] END ...metric=euclidean, n_neighbors=5, weights=uniform; total time=   0.3s\n",
      "[CV] END ...metric=euclidean, n_neighbors=5, weights=uniform; total time=   0.3s\n",
      "[CV] END ..metric=euclidean, n_neighbors=5, weights=distance; total time=   0.2s\n",
      "[CV] END ..metric=euclidean, n_neighbors=5, weights=distance; total time=   0.2s\n",
      "[CV] END ..metric=euclidean, n_neighbors=5, weights=distance; total time=   0.2s\n",
      "[CV] END ..metric=euclidean, n_neighbors=5, weights=distance; total time=   0.2s\n",
      "[CV] END ..metric=euclidean, n_neighbors=5, weights=distance; total time=   0.2s\n",
      "[CV] END ...metric=euclidean, n_neighbors=6, weights=uniform; total time=   0.3s\n",
      "[CV] END ...metric=euclidean, n_neighbors=6, weights=uniform; total time=   0.3s\n",
      "[CV] END ...metric=euclidean, n_neighbors=6, weights=uniform; total time=   0.4s\n",
      "[CV] END ...metric=euclidean, n_neighbors=6, weights=uniform; total time=   0.3s\n",
      "[CV] END ...metric=euclidean, n_neighbors=6, weights=uniform; total time=   0.3s\n",
      "[CV] END ..metric=euclidean, n_neighbors=6, weights=distance; total time=   0.2s\n",
      "[CV] END ..metric=euclidean, n_neighbors=6, weights=distance; total time=   0.2s\n",
      "[CV] END ..metric=euclidean, n_neighbors=6, weights=distance; total time=   0.2s\n",
      "[CV] END ..metric=euclidean, n_neighbors=6, weights=distance; total time=   0.2s\n",
      "[CV] END ..metric=euclidean, n_neighbors=6, weights=distance; total time=   0.2s\n",
      "[CV] END ...metric=euclidean, n_neighbors=7, weights=uniform; total time=   0.3s\n",
      "[CV] END ...metric=euclidean, n_neighbors=7, weights=uniform; total time=   0.3s\n",
      "[CV] END ...metric=euclidean, n_neighbors=7, weights=uniform; total time=   0.3s\n",
      "[CV] END ...metric=euclidean, n_neighbors=7, weights=uniform; total time=   0.3s\n",
      "[CV] END ...metric=euclidean, n_neighbors=7, weights=uniform; total time=   0.3s\n",
      "[CV] END ..metric=euclidean, n_neighbors=7, weights=distance; total time=   0.2s\n",
      "[CV] END ..metric=euclidean, n_neighbors=7, weights=distance; total time=   0.2s\n",
      "[CV] END ..metric=euclidean, n_neighbors=7, weights=distance; total time=   0.2s\n",
      "[CV] END ..metric=euclidean, n_neighbors=7, weights=distance; total time=   0.2s\n",
      "[CV] END ..metric=euclidean, n_neighbors=7, weights=distance; total time=   0.2s\n",
      "[CV] END ...metric=euclidean, n_neighbors=8, weights=uniform; total time=   0.3s\n",
      "[CV] END ...metric=euclidean, n_neighbors=8, weights=uniform; total time=   0.3s\n",
      "[CV] END ...metric=euclidean, n_neighbors=8, weights=uniform; total time=   0.3s\n",
      "[CV] END ...metric=euclidean, n_neighbors=8, weights=uniform; total time=   0.3s\n",
      "[CV] END ...metric=euclidean, n_neighbors=8, weights=uniform; total time=   0.3s\n",
      "[CV] END ..metric=euclidean, n_neighbors=8, weights=distance; total time=   0.2s\n",
      "[CV] END ..metric=euclidean, n_neighbors=8, weights=distance; total time=   0.2s\n",
      "[CV] END ..metric=euclidean, n_neighbors=8, weights=distance; total time=   0.2s\n",
      "[CV] END ..metric=euclidean, n_neighbors=8, weights=distance; total time=   0.2s\n",
      "[CV] END ..metric=euclidean, n_neighbors=8, weights=distance; total time=   0.2s\n",
      "[CV] END ...metric=euclidean, n_neighbors=9, weights=uniform; total time=   0.4s\n",
      "[CV] END ...metric=euclidean, n_neighbors=9, weights=uniform; total time=   0.3s\n",
      "[CV] END ...metric=euclidean, n_neighbors=9, weights=uniform; total time=   0.3s\n",
      "[CV] END ...metric=euclidean, n_neighbors=9, weights=uniform; total time=   0.3s\n",
      "[CV] END ...metric=euclidean, n_neighbors=9, weights=uniform; total time=   0.3s\n",
      "[CV] END ..metric=euclidean, n_neighbors=9, weights=distance; total time=   0.3s\n",
      "[CV] END ..metric=euclidean, n_neighbors=9, weights=distance; total time=   0.2s\n",
      "[CV] END ..metric=euclidean, n_neighbors=9, weights=distance; total time=   0.2s\n",
      "[CV] END ..metric=euclidean, n_neighbors=9, weights=distance; total time=   0.2s\n",
      "[CV] END ..metric=euclidean, n_neighbors=9, weights=distance; total time=   0.2s\n",
      "[CV] END ..metric=euclidean, n_neighbors=10, weights=uniform; total time=   0.3s\n",
      "[CV] END ..metric=euclidean, n_neighbors=10, weights=uniform; total time=   0.3s\n",
      "[CV] END ..metric=euclidean, n_neighbors=10, weights=uniform; total time=   0.3s\n",
      "[CV] END ..metric=euclidean, n_neighbors=10, weights=uniform; total time=   0.3s\n",
      "[CV] END ..metric=euclidean, n_neighbors=10, weights=uniform; total time=   0.3s\n",
      "[CV] END .metric=euclidean, n_neighbors=10, weights=distance; total time=   0.2s\n",
      "[CV] END .metric=euclidean, n_neighbors=10, weights=distance; total time=   0.2s\n",
      "[CV] END .metric=euclidean, n_neighbors=10, weights=distance; total time=   0.2s\n",
      "[CV] END .metric=euclidean, n_neighbors=10, weights=distance; total time=   0.2s\n",
      "[CV] END .metric=euclidean, n_neighbors=10, weights=distance; total time=   0.2s\n",
      "[CV] END ...metric=manhattan, n_neighbors=1, weights=uniform; total time=   0.9s\n"
     ]
    },
    {
     "name": "stdout",
     "output_type": "stream",
     "text": [
      "[CV] END ...metric=manhattan, n_neighbors=1, weights=uniform; total time=   0.9s\n",
      "[CV] END ...metric=manhattan, n_neighbors=1, weights=uniform; total time=   0.9s\n",
      "[CV] END ...metric=manhattan, n_neighbors=1, weights=uniform; total time=   0.9s\n",
      "[CV] END ...metric=manhattan, n_neighbors=1, weights=uniform; total time=   0.9s\n",
      "[CV] END ..metric=manhattan, n_neighbors=1, weights=distance; total time=   0.8s\n",
      "[CV] END ..metric=manhattan, n_neighbors=1, weights=distance; total time=   0.8s\n",
      "[CV] END ..metric=manhattan, n_neighbors=1, weights=distance; total time=   0.8s\n",
      "[CV] END ..metric=manhattan, n_neighbors=1, weights=distance; total time=   0.7s\n",
      "[CV] END ..metric=manhattan, n_neighbors=1, weights=distance; total time=   0.7s\n",
      "[CV] END ...metric=manhattan, n_neighbors=2, weights=uniform; total time=   0.9s\n",
      "[CV] END ...metric=manhattan, n_neighbors=2, weights=uniform; total time=   0.6s\n",
      "[CV] END ...metric=manhattan, n_neighbors=2, weights=uniform; total time=   0.3s\n",
      "[CV] END ...metric=manhattan, n_neighbors=2, weights=uniform; total time=   0.2s\n",
      "[CV] END ...metric=manhattan, n_neighbors=2, weights=uniform; total time=   0.2s\n",
      "[CV] END ..metric=manhattan, n_neighbors=2, weights=distance; total time=   0.1s\n",
      "[CV] END ..metric=manhattan, n_neighbors=2, weights=distance; total time=   0.1s\n",
      "[CV] END ..metric=manhattan, n_neighbors=2, weights=distance; total time=   0.2s\n",
      "[CV] END ..metric=manhattan, n_neighbors=2, weights=distance; total time=   0.2s\n",
      "[CV] END ..metric=manhattan, n_neighbors=2, weights=distance; total time=   0.2s\n",
      "[CV] END ...metric=manhattan, n_neighbors=3, weights=uniform; total time=   0.3s\n",
      "[CV] END ...metric=manhattan, n_neighbors=3, weights=uniform; total time=   0.2s\n",
      "[CV] END ...metric=manhattan, n_neighbors=3, weights=uniform; total time=   0.2s\n",
      "[CV] END ...metric=manhattan, n_neighbors=3, weights=uniform; total time=   0.2s\n",
      "[CV] END ...metric=manhattan, n_neighbors=3, weights=uniform; total time=   0.2s\n",
      "[CV] END ..metric=manhattan, n_neighbors=3, weights=distance; total time=   0.1s\n",
      "[CV] END ..metric=manhattan, n_neighbors=3, weights=distance; total time=   0.1s\n",
      "[CV] END ..metric=manhattan, n_neighbors=3, weights=distance; total time=   0.1s\n",
      "[CV] END ..metric=manhattan, n_neighbors=3, weights=distance; total time=   0.2s\n",
      "[CV] END ..metric=manhattan, n_neighbors=3, weights=distance; total time=   0.1s\n",
      "[CV] END ...metric=manhattan, n_neighbors=4, weights=uniform; total time=   0.3s\n",
      "[CV] END ...metric=manhattan, n_neighbors=4, weights=uniform; total time=   0.2s\n",
      "[CV] END ...metric=manhattan, n_neighbors=4, weights=uniform; total time=   0.2s\n",
      "[CV] END ...metric=manhattan, n_neighbors=4, weights=uniform; total time=   0.2s\n",
      "[CV] END ...metric=manhattan, n_neighbors=4, weights=uniform; total time=   0.3s\n",
      "[CV] END ..metric=manhattan, n_neighbors=4, weights=distance; total time=   0.1s\n",
      "[CV] END ..metric=manhattan, n_neighbors=4, weights=distance; total time=   0.1s\n",
      "[CV] END ..metric=manhattan, n_neighbors=4, weights=distance; total time=   0.1s\n",
      "[CV] END ..metric=manhattan, n_neighbors=4, weights=distance; total time=   0.2s\n",
      "[CV] END ..metric=manhattan, n_neighbors=4, weights=distance; total time=   0.1s\n",
      "[CV] END ...metric=manhattan, n_neighbors=5, weights=uniform; total time=   0.2s\n",
      "[CV] END ...metric=manhattan, n_neighbors=5, weights=uniform; total time=   0.3s\n",
      "[CV] END ...metric=manhattan, n_neighbors=5, weights=uniform; total time=   0.2s\n",
      "[CV] END ...metric=manhattan, n_neighbors=5, weights=uniform; total time=   0.3s\n",
      "[CV] END ...metric=manhattan, n_neighbors=5, weights=uniform; total time=   0.2s\n",
      "[CV] END ..metric=manhattan, n_neighbors=5, weights=distance; total time=   0.1s\n",
      "[CV] END ..metric=manhattan, n_neighbors=5, weights=distance; total time=   0.1s\n",
      "[CV] END ..metric=manhattan, n_neighbors=5, weights=distance; total time=   0.1s\n",
      "[CV] END ..metric=manhattan, n_neighbors=5, weights=distance; total time=   0.1s\n",
      "[CV] END ..metric=manhattan, n_neighbors=5, weights=distance; total time=   0.1s\n",
      "[CV] END ...metric=manhattan, n_neighbors=6, weights=uniform; total time=   0.2s\n",
      "[CV] END ...metric=manhattan, n_neighbors=6, weights=uniform; total time=   0.3s\n",
      "[CV] END ...metric=manhattan, n_neighbors=6, weights=uniform; total time=   0.2s\n",
      "[CV] END ...metric=manhattan, n_neighbors=6, weights=uniform; total time=   0.3s\n",
      "[CV] END ...metric=manhattan, n_neighbors=6, weights=uniform; total time=   0.2s\n",
      "[CV] END ..metric=manhattan, n_neighbors=6, weights=distance; total time=   0.2s\n",
      "[CV] END ..metric=manhattan, n_neighbors=6, weights=distance; total time=   0.2s\n",
      "[CV] END ..metric=manhattan, n_neighbors=6, weights=distance; total time=   0.2s\n",
      "[CV] END ..metric=manhattan, n_neighbors=6, weights=distance; total time=   0.1s\n",
      "[CV] END ..metric=manhattan, n_neighbors=6, weights=distance; total time=   0.1s\n",
      "[CV] END ...metric=manhattan, n_neighbors=7, weights=uniform; total time=   0.2s\n",
      "[CV] END ...metric=manhattan, n_neighbors=7, weights=uniform; total time=   0.3s\n",
      "[CV] END ...metric=manhattan, n_neighbors=7, weights=uniform; total time=   0.2s\n",
      "[CV] END ...metric=manhattan, n_neighbors=7, weights=uniform; total time=   0.2s\n",
      "[CV] END ...metric=manhattan, n_neighbors=7, weights=uniform; total time=   0.3s\n",
      "[CV] END ..metric=manhattan, n_neighbors=7, weights=distance; total time=   0.1s\n",
      "[CV] END ..metric=manhattan, n_neighbors=7, weights=distance; total time=   0.1s\n",
      "[CV] END ..metric=manhattan, n_neighbors=7, weights=distance; total time=   0.1s\n",
      "[CV] END ..metric=manhattan, n_neighbors=7, weights=distance; total time=   0.1s\n",
      "[CV] END ..metric=manhattan, n_neighbors=7, weights=distance; total time=   0.1s\n",
      "[CV] END ...metric=manhattan, n_neighbors=8, weights=uniform; total time=   0.3s\n",
      "[CV] END ...metric=manhattan, n_neighbors=8, weights=uniform; total time=   0.2s\n",
      "[CV] END ...metric=manhattan, n_neighbors=8, weights=uniform; total time=   0.2s\n",
      "[CV] END ...metric=manhattan, n_neighbors=8, weights=uniform; total time=   0.3s\n",
      "[CV] END ...metric=manhattan, n_neighbors=8, weights=uniform; total time=   0.2s\n",
      "[CV] END ..metric=manhattan, n_neighbors=8, weights=distance; total time=   0.1s\n",
      "[CV] END ..metric=manhattan, n_neighbors=8, weights=distance; total time=   0.1s\n",
      "[CV] END ..metric=manhattan, n_neighbors=8, weights=distance; total time=   0.2s\n",
      "[CV] END ..metric=manhattan, n_neighbors=8, weights=distance; total time=   0.2s\n",
      "[CV] END ..metric=manhattan, n_neighbors=8, weights=distance; total time=   0.2s\n",
      "[CV] END ...metric=manhattan, n_neighbors=9, weights=uniform; total time=   0.3s\n",
      "[CV] END ...metric=manhattan, n_neighbors=9, weights=uniform; total time=   0.3s\n",
      "[CV] END ...metric=manhattan, n_neighbors=9, weights=uniform; total time=   0.2s\n",
      "[CV] END ...metric=manhattan, n_neighbors=9, weights=uniform; total time=   0.3s\n",
      "[CV] END ...metric=manhattan, n_neighbors=9, weights=uniform; total time=   0.2s\n",
      "[CV] END ..metric=manhattan, n_neighbors=9, weights=distance; total time=   0.1s\n",
      "[CV] END ..metric=manhattan, n_neighbors=9, weights=distance; total time=   0.2s\n",
      "[CV] END ..metric=manhattan, n_neighbors=9, weights=distance; total time=   0.2s\n",
      "[CV] END ..metric=manhattan, n_neighbors=9, weights=distance; total time=   0.2s\n",
      "[CV] END ..metric=manhattan, n_neighbors=9, weights=distance; total time=   0.1s\n",
      "[CV] END ..metric=manhattan, n_neighbors=10, weights=uniform; total time=   0.3s\n",
      "[CV] END ..metric=manhattan, n_neighbors=10, weights=uniform; total time=   0.2s\n",
      "[CV] END ..metric=manhattan, n_neighbors=10, weights=uniform; total time=   0.3s\n",
      "[CV] END ..metric=manhattan, n_neighbors=10, weights=uniform; total time=   0.2s\n",
      "[CV] END ..metric=manhattan, n_neighbors=10, weights=uniform; total time=   0.2s\n",
      "[CV] END .metric=manhattan, n_neighbors=10, weights=distance; total time=   0.1s\n",
      "[CV] END .metric=manhattan, n_neighbors=10, weights=distance; total time=   0.1s\n",
      "[CV] END .metric=manhattan, n_neighbors=10, weights=distance; total time=   0.2s\n",
      "[CV] END .metric=manhattan, n_neighbors=10, weights=distance; total time=   0.2s\n",
      "[CV] END .metric=manhattan, n_neighbors=10, weights=distance; total time=   0.1s\n",
      "[CV] END ......metric=cosine, n_neighbors=1, weights=uniform; total time=   1.2s\n",
      "[CV] END ......metric=cosine, n_neighbors=1, weights=uniform; total time=   1.2s\n",
      "[CV] END ......metric=cosine, n_neighbors=1, weights=uniform; total time=   1.2s\n"
     ]
    },
    {
     "name": "stdout",
     "output_type": "stream",
     "text": [
      "[CV] END ......metric=cosine, n_neighbors=1, weights=uniform; total time=   1.2s\n",
      "[CV] END ......metric=cosine, n_neighbors=1, weights=uniform; total time=   1.1s\n",
      "[CV] END .....metric=cosine, n_neighbors=1, weights=distance; total time=   1.2s\n",
      "[CV] END .....metric=cosine, n_neighbors=1, weights=distance; total time=   1.1s\n",
      "[CV] END .....metric=cosine, n_neighbors=1, weights=distance; total time=   1.2s\n",
      "[CV] END .....metric=cosine, n_neighbors=1, weights=distance; total time=   1.2s\n",
      "[CV] END .....metric=cosine, n_neighbors=1, weights=distance; total time=   1.2s\n",
      "[CV] END ......metric=cosine, n_neighbors=2, weights=uniform; total time=   1.2s\n",
      "[CV] END ......metric=cosine, n_neighbors=2, weights=uniform; total time=   1.3s\n",
      "[CV] END ......metric=cosine, n_neighbors=2, weights=uniform; total time=   1.3s\n",
      "[CV] END ......metric=cosine, n_neighbors=2, weights=uniform; total time=   1.2s\n",
      "[CV] END ......metric=cosine, n_neighbors=2, weights=uniform; total time=   1.2s\n",
      "[CV] END .....metric=cosine, n_neighbors=2, weights=distance; total time=   1.3s\n",
      "[CV] END .....metric=cosine, n_neighbors=2, weights=distance; total time=   1.2s\n",
      "[CV] END .....metric=cosine, n_neighbors=2, weights=distance; total time=   1.3s\n",
      "[CV] END .....metric=cosine, n_neighbors=2, weights=distance; total time=   1.3s\n",
      "[CV] END .....metric=cosine, n_neighbors=2, weights=distance; total time=   1.2s\n",
      "[CV] END ......metric=cosine, n_neighbors=3, weights=uniform; total time=   1.3s\n",
      "[CV] END ......metric=cosine, n_neighbors=3, weights=uniform; total time=   1.3s\n",
      "[CV] END ......metric=cosine, n_neighbors=3, weights=uniform; total time=   1.3s\n",
      "[CV] END ......metric=cosine, n_neighbors=3, weights=uniform; total time=   1.3s\n",
      "[CV] END ......metric=cosine, n_neighbors=3, weights=uniform; total time=   1.3s\n",
      "[CV] END .....metric=cosine, n_neighbors=3, weights=distance; total time=   1.2s\n",
      "[CV] END .....metric=cosine, n_neighbors=3, weights=distance; total time=   1.3s\n",
      "[CV] END .....metric=cosine, n_neighbors=3, weights=distance; total time=   1.3s\n",
      "[CV] END .....metric=cosine, n_neighbors=3, weights=distance; total time=   1.3s\n",
      "[CV] END .....metric=cosine, n_neighbors=3, weights=distance; total time=   1.4s\n",
      "[CV] END ......metric=cosine, n_neighbors=4, weights=uniform; total time=   1.6s\n",
      "[CV] END ......metric=cosine, n_neighbors=4, weights=uniform; total time=   1.6s\n",
      "[CV] END ......metric=cosine, n_neighbors=4, weights=uniform; total time=   1.7s\n",
      "[CV] END ......metric=cosine, n_neighbors=4, weights=uniform; total time=   1.9s\n",
      "[CV] END ......metric=cosine, n_neighbors=4, weights=uniform; total time=   1.9s\n",
      "[CV] END .....metric=cosine, n_neighbors=4, weights=distance; total time=   1.6s\n",
      "[CV] END .....metric=cosine, n_neighbors=4, weights=distance; total time=   1.6s\n",
      "[CV] END .....metric=cosine, n_neighbors=4, weights=distance; total time=   1.8s\n",
      "[CV] END .....metric=cosine, n_neighbors=4, weights=distance; total time=   1.8s\n",
      "[CV] END .....metric=cosine, n_neighbors=4, weights=distance; total time=   1.7s\n",
      "[CV] END ......metric=cosine, n_neighbors=5, weights=uniform; total time=   1.7s\n",
      "[CV] END ......metric=cosine, n_neighbors=5, weights=uniform; total time=   1.7s\n",
      "[CV] END ......metric=cosine, n_neighbors=5, weights=uniform; total time=   1.9s\n",
      "[CV] END ......metric=cosine, n_neighbors=5, weights=uniform; total time=   1.9s\n",
      "[CV] END ......metric=cosine, n_neighbors=5, weights=uniform; total time=   2.0s\n",
      "[CV] END .....metric=cosine, n_neighbors=5, weights=distance; total time=   1.7s\n",
      "[CV] END .....metric=cosine, n_neighbors=5, weights=distance; total time=   1.5s\n",
      "[CV] END .....metric=cosine, n_neighbors=5, weights=distance; total time=   1.7s\n",
      "[CV] END .....metric=cosine, n_neighbors=5, weights=distance; total time=   3.0s\n",
      "[CV] END .....metric=cosine, n_neighbors=5, weights=distance; total time=   3.3s\n",
      "[CV] END ......metric=cosine, n_neighbors=6, weights=uniform; total time=   2.7s\n",
      "[CV] END ......metric=cosine, n_neighbors=6, weights=uniform; total time=   1.8s\n",
      "[CV] END ......metric=cosine, n_neighbors=6, weights=uniform; total time=   1.8s\n",
      "[CV] END ......metric=cosine, n_neighbors=6, weights=uniform; total time=   1.9s\n",
      "[CV] END ......metric=cosine, n_neighbors=6, weights=uniform; total time=   1.8s\n",
      "[CV] END .....metric=cosine, n_neighbors=6, weights=distance; total time=   1.6s\n",
      "[CV] END .....metric=cosine, n_neighbors=6, weights=distance; total time=   1.7s\n",
      "[CV] END .....metric=cosine, n_neighbors=6, weights=distance; total time=   1.8s\n",
      "[CV] END .....metric=cosine, n_neighbors=6, weights=distance; total time=   1.8s\n",
      "[CV] END .....metric=cosine, n_neighbors=6, weights=distance; total time=   1.8s\n",
      "[CV] END ......metric=cosine, n_neighbors=7, weights=uniform; total time=   1.7s\n",
      "[CV] END ......metric=cosine, n_neighbors=7, weights=uniform; total time=   1.7s\n",
      "[CV] END ......metric=cosine, n_neighbors=7, weights=uniform; total time=   1.8s\n",
      "[CV] END ......metric=cosine, n_neighbors=7, weights=uniform; total time=   1.9s\n",
      "[CV] END ......metric=cosine, n_neighbors=7, weights=uniform; total time=   1.8s\n",
      "[CV] END .....metric=cosine, n_neighbors=7, weights=distance; total time=   1.7s\n",
      "[CV] END .....metric=cosine, n_neighbors=7, weights=distance; total time=   1.6s\n",
      "[CV] END .....metric=cosine, n_neighbors=7, weights=distance; total time=   1.8s\n",
      "[CV] END .....metric=cosine, n_neighbors=7, weights=distance; total time=   1.8s\n",
      "[CV] END .....metric=cosine, n_neighbors=7, weights=distance; total time=   1.8s\n",
      "[CV] END ......metric=cosine, n_neighbors=8, weights=uniform; total time=   1.7s\n",
      "[CV] END ......metric=cosine, n_neighbors=8, weights=uniform; total time=   1.7s\n",
      "[CV] END ......metric=cosine, n_neighbors=8, weights=uniform; total time=   1.8s\n",
      "[CV] END ......metric=cosine, n_neighbors=8, weights=uniform; total time=   1.9s\n",
      "[CV] END ......metric=cosine, n_neighbors=8, weights=uniform; total time=   1.8s\n",
      "[CV] END .....metric=cosine, n_neighbors=8, weights=distance; total time=   1.6s\n",
      "[CV] END .....metric=cosine, n_neighbors=8, weights=distance; total time=   1.6s\n",
      "[CV] END .....metric=cosine, n_neighbors=8, weights=distance; total time=   1.7s\n",
      "[CV] END .....metric=cosine, n_neighbors=8, weights=distance; total time=   1.8s\n",
      "[CV] END .....metric=cosine, n_neighbors=8, weights=distance; total time=   1.8s\n",
      "[CV] END ......metric=cosine, n_neighbors=9, weights=uniform; total time=   1.6s\n",
      "[CV] END ......metric=cosine, n_neighbors=9, weights=uniform; total time=   1.7s\n",
      "[CV] END ......metric=cosine, n_neighbors=9, weights=uniform; total time=   1.8s\n",
      "[CV] END ......metric=cosine, n_neighbors=9, weights=uniform; total time=   1.8s\n",
      "[CV] END ......metric=cosine, n_neighbors=9, weights=uniform; total time=   1.8s\n",
      "[CV] END .....metric=cosine, n_neighbors=9, weights=distance; total time=   1.5s\n",
      "[CV] END .....metric=cosine, n_neighbors=9, weights=distance; total time=   1.5s\n",
      "[CV] END .....metric=cosine, n_neighbors=9, weights=distance; total time=   1.8s\n",
      "[CV] END .....metric=cosine, n_neighbors=9, weights=distance; total time=   1.8s\n",
      "[CV] END .....metric=cosine, n_neighbors=9, weights=distance; total time=   1.7s\n",
      "[CV] END .....metric=cosine, n_neighbors=10, weights=uniform; total time=   1.6s\n",
      "[CV] END .....metric=cosine, n_neighbors=10, weights=uniform; total time=   1.6s\n",
      "[CV] END .....metric=cosine, n_neighbors=10, weights=uniform; total time=   1.8s\n",
      "[CV] END .....metric=cosine, n_neighbors=10, weights=uniform; total time=   1.8s\n",
      "[CV] END .....metric=cosine, n_neighbors=10, weights=uniform; total time=   1.8s\n",
      "[CV] END ....metric=cosine, n_neighbors=10, weights=distance; total time=   1.6s\n",
      "[CV] END ....metric=cosine, n_neighbors=10, weights=distance; total time=   1.6s\n",
      "[CV] END ....metric=cosine, n_neighbors=10, weights=distance; total time=   1.7s\n",
      "[CV] END ....metric=cosine, n_neighbors=10, weights=distance; total time=   1.8s\n",
      "[CV] END ....metric=cosine, n_neighbors=10, weights=distance; total time=   1.8s\n"
     ]
    },
    {
     "data": {
      "text/html": [
       "<style>#sk-container-id-2 {color: black;background-color: white;}#sk-container-id-2 pre{padding: 0;}#sk-container-id-2 div.sk-toggleable {background-color: white;}#sk-container-id-2 label.sk-toggleable__label {cursor: pointer;display: block;width: 100%;margin-bottom: 0;padding: 0.3em;box-sizing: border-box;text-align: center;}#sk-container-id-2 label.sk-toggleable__label-arrow:before {content: \"▸\";float: left;margin-right: 0.25em;color: #696969;}#sk-container-id-2 label.sk-toggleable__label-arrow:hover:before {color: black;}#sk-container-id-2 div.sk-estimator:hover label.sk-toggleable__label-arrow:before {color: black;}#sk-container-id-2 div.sk-toggleable__content {max-height: 0;max-width: 0;overflow: hidden;text-align: left;background-color: #f0f8ff;}#sk-container-id-2 div.sk-toggleable__content pre {margin: 0.2em;color: black;border-radius: 0.25em;background-color: #f0f8ff;}#sk-container-id-2 input.sk-toggleable__control:checked~div.sk-toggleable__content {max-height: 200px;max-width: 100%;overflow: auto;}#sk-container-id-2 input.sk-toggleable__control:checked~label.sk-toggleable__label-arrow:before {content: \"▾\";}#sk-container-id-2 div.sk-estimator input.sk-toggleable__control:checked~label.sk-toggleable__label {background-color: #d4ebff;}#sk-container-id-2 div.sk-label input.sk-toggleable__control:checked~label.sk-toggleable__label {background-color: #d4ebff;}#sk-container-id-2 input.sk-hidden--visually {border: 0;clip: rect(1px 1px 1px 1px);clip: rect(1px, 1px, 1px, 1px);height: 1px;margin: -1px;overflow: hidden;padding: 0;position: absolute;width: 1px;}#sk-container-id-2 div.sk-estimator {font-family: monospace;background-color: #f0f8ff;border: 1px dotted black;border-radius: 0.25em;box-sizing: border-box;margin-bottom: 0.5em;}#sk-container-id-2 div.sk-estimator:hover {background-color: #d4ebff;}#sk-container-id-2 div.sk-parallel-item::after {content: \"\";width: 100%;border-bottom: 1px solid gray;flex-grow: 1;}#sk-container-id-2 div.sk-label:hover label.sk-toggleable__label {background-color: #d4ebff;}#sk-container-id-2 div.sk-serial::before {content: \"\";position: absolute;border-left: 1px solid gray;box-sizing: border-box;top: 0;bottom: 0;left: 50%;z-index: 0;}#sk-container-id-2 div.sk-serial {display: flex;flex-direction: column;align-items: center;background-color: white;padding-right: 0.2em;padding-left: 0.2em;position: relative;}#sk-container-id-2 div.sk-item {position: relative;z-index: 1;}#sk-container-id-2 div.sk-parallel {display: flex;align-items: stretch;justify-content: center;background-color: white;position: relative;}#sk-container-id-2 div.sk-item::before, #sk-container-id-2 div.sk-parallel-item::before {content: \"\";position: absolute;border-left: 1px solid gray;box-sizing: border-box;top: 0;bottom: 0;left: 50%;z-index: -1;}#sk-container-id-2 div.sk-parallel-item {display: flex;flex-direction: column;z-index: 1;position: relative;background-color: white;}#sk-container-id-2 div.sk-parallel-item:first-child::after {align-self: flex-end;width: 50%;}#sk-container-id-2 div.sk-parallel-item:last-child::after {align-self: flex-start;width: 50%;}#sk-container-id-2 div.sk-parallel-item:only-child::after {width: 0;}#sk-container-id-2 div.sk-dashed-wrapped {border: 1px dashed gray;margin: 0 0.4em 0.5em 0.4em;box-sizing: border-box;padding-bottom: 0.4em;background-color: white;}#sk-container-id-2 div.sk-label label {font-family: monospace;font-weight: bold;display: inline-block;line-height: 1.2em;}#sk-container-id-2 div.sk-label-container {text-align: center;}#sk-container-id-2 div.sk-container {/* jupyter's `normalize.less` sets `[hidden] { display: none; }` but bootstrap.min.css set `[hidden] { display: none !important; }` so we also need the `!important` here to be able to override the default hidden behavior on the sphinx rendered scikit-learn.org. See: https://github.com/scikit-learn/scikit-learn/issues/21755 */display: inline-block !important;position: relative;}#sk-container-id-2 div.sk-text-repr-fallback {display: none;}</style><div id=\"sk-container-id-2\" class=\"sk-top-container\"><div class=\"sk-text-repr-fallback\"><pre>GridSearchCV(cv=5, estimator=KNeighborsClassifier(),\n",
       "             param_grid=[{&#x27;metric&#x27;: [&#x27;euclidean&#x27;, &#x27;manhattan&#x27;, &#x27;cosine&#x27;],\n",
       "                          &#x27;n_neighbors&#x27;: range(1, 11),\n",
       "                          &#x27;weights&#x27;: [&#x27;uniform&#x27;, &#x27;distance&#x27;]}],\n",
       "             verbose=2)</pre><b>In a Jupyter environment, please rerun this cell to show the HTML representation or trust the notebook. <br />On GitHub, the HTML representation is unable to render, please try loading this page with nbviewer.org.</b></div><div class=\"sk-container\" hidden><div class=\"sk-item sk-dashed-wrapped\"><div class=\"sk-label-container\"><div class=\"sk-label sk-toggleable\"><input class=\"sk-toggleable__control sk-hidden--visually\" id=\"sk-estimator-id-2\" type=\"checkbox\" ><label for=\"sk-estimator-id-2\" class=\"sk-toggleable__label sk-toggleable__label-arrow\">GridSearchCV</label><div class=\"sk-toggleable__content\"><pre>GridSearchCV(cv=5, estimator=KNeighborsClassifier(),\n",
       "             param_grid=[{&#x27;metric&#x27;: [&#x27;euclidean&#x27;, &#x27;manhattan&#x27;, &#x27;cosine&#x27;],\n",
       "                          &#x27;n_neighbors&#x27;: range(1, 11),\n",
       "                          &#x27;weights&#x27;: [&#x27;uniform&#x27;, &#x27;distance&#x27;]}],\n",
       "             verbose=2)</pre></div></div></div><div class=\"sk-parallel\"><div class=\"sk-parallel-item\"><div class=\"sk-item\"><div class=\"sk-label-container\"><div class=\"sk-label sk-toggleable\"><input class=\"sk-toggleable__control sk-hidden--visually\" id=\"sk-estimator-id-3\" type=\"checkbox\" ><label for=\"sk-estimator-id-3\" class=\"sk-toggleable__label sk-toggleable__label-arrow\">estimator: KNeighborsClassifier</label><div class=\"sk-toggleable__content\"><pre>KNeighborsClassifier()</pre></div></div></div><div class=\"sk-serial\"><div class=\"sk-item\"><div class=\"sk-estimator sk-toggleable\"><input class=\"sk-toggleable__control sk-hidden--visually\" id=\"sk-estimator-id-4\" type=\"checkbox\" ><label for=\"sk-estimator-id-4\" class=\"sk-toggleable__label sk-toggleable__label-arrow\">KNeighborsClassifier</label><div class=\"sk-toggleable__content\"><pre>KNeighborsClassifier()</pre></div></div></div></div></div></div></div></div></div></div>"
      ],
      "text/plain": [
       "GridSearchCV(cv=5, estimator=KNeighborsClassifier(),\n",
       "             param_grid=[{'metric': ['euclidean', 'manhattan', 'cosine'],\n",
       "                          'n_neighbors': range(1, 11),\n",
       "                          'weights': ['uniform', 'distance']}],\n",
       "             verbose=2)"
      ]
     },
     "execution_count": 9,
     "metadata": {},
     "output_type": "execute_result"
    }
   ],
   "source": [
    "from sklearn.model_selection import GridSearchCV\n",
    "\n",
    "param_grid = [{\n",
    "    'weights': [\"uniform\", \"distance\"],\n",
    "    'n_neighbors': range(1, 11),\n",
    "    'metric':['euclidean', 'manhattan', 'cosine']}]\n",
    "\n",
    "knn_clf = KNeighborsClassifier()\n",
    "grid_search = GridSearchCV(knn_clf, param_grid, cv=5, verbose=2)\n",
    "grid_search.fit(x_train, y_train)"
   ]
  },
  {
   "cell_type": "markdown",
   "metadata": {},
   "source": [
    "Then we get the best hyper-parameter values found by the cross-validation."
   ]
  },
  {
   "cell_type": "code",
   "execution_count": 10,
   "metadata": {
    "scrolled": false
   },
   "outputs": [
    {
     "data": {
      "text/html": [
       "<style>#sk-container-id-3 {color: black;background-color: white;}#sk-container-id-3 pre{padding: 0;}#sk-container-id-3 div.sk-toggleable {background-color: white;}#sk-container-id-3 label.sk-toggleable__label {cursor: pointer;display: block;width: 100%;margin-bottom: 0;padding: 0.3em;box-sizing: border-box;text-align: center;}#sk-container-id-3 label.sk-toggleable__label-arrow:before {content: \"▸\";float: left;margin-right: 0.25em;color: #696969;}#sk-container-id-3 label.sk-toggleable__label-arrow:hover:before {color: black;}#sk-container-id-3 div.sk-estimator:hover label.sk-toggleable__label-arrow:before {color: black;}#sk-container-id-3 div.sk-toggleable__content {max-height: 0;max-width: 0;overflow: hidden;text-align: left;background-color: #f0f8ff;}#sk-container-id-3 div.sk-toggleable__content pre {margin: 0.2em;color: black;border-radius: 0.25em;background-color: #f0f8ff;}#sk-container-id-3 input.sk-toggleable__control:checked~div.sk-toggleable__content {max-height: 200px;max-width: 100%;overflow: auto;}#sk-container-id-3 input.sk-toggleable__control:checked~label.sk-toggleable__label-arrow:before {content: \"▾\";}#sk-container-id-3 div.sk-estimator input.sk-toggleable__control:checked~label.sk-toggleable__label {background-color: #d4ebff;}#sk-container-id-3 div.sk-label input.sk-toggleable__control:checked~label.sk-toggleable__label {background-color: #d4ebff;}#sk-container-id-3 input.sk-hidden--visually {border: 0;clip: rect(1px 1px 1px 1px);clip: rect(1px, 1px, 1px, 1px);height: 1px;margin: -1px;overflow: hidden;padding: 0;position: absolute;width: 1px;}#sk-container-id-3 div.sk-estimator {font-family: monospace;background-color: #f0f8ff;border: 1px dotted black;border-radius: 0.25em;box-sizing: border-box;margin-bottom: 0.5em;}#sk-container-id-3 div.sk-estimator:hover {background-color: #d4ebff;}#sk-container-id-3 div.sk-parallel-item::after {content: \"\";width: 100%;border-bottom: 1px solid gray;flex-grow: 1;}#sk-container-id-3 div.sk-label:hover label.sk-toggleable__label {background-color: #d4ebff;}#sk-container-id-3 div.sk-serial::before {content: \"\";position: absolute;border-left: 1px solid gray;box-sizing: border-box;top: 0;bottom: 0;left: 50%;z-index: 0;}#sk-container-id-3 div.sk-serial {display: flex;flex-direction: column;align-items: center;background-color: white;padding-right: 0.2em;padding-left: 0.2em;position: relative;}#sk-container-id-3 div.sk-item {position: relative;z-index: 1;}#sk-container-id-3 div.sk-parallel {display: flex;align-items: stretch;justify-content: center;background-color: white;position: relative;}#sk-container-id-3 div.sk-item::before, #sk-container-id-3 div.sk-parallel-item::before {content: \"\";position: absolute;border-left: 1px solid gray;box-sizing: border-box;top: 0;bottom: 0;left: 50%;z-index: -1;}#sk-container-id-3 div.sk-parallel-item {display: flex;flex-direction: column;z-index: 1;position: relative;background-color: white;}#sk-container-id-3 div.sk-parallel-item:first-child::after {align-self: flex-end;width: 50%;}#sk-container-id-3 div.sk-parallel-item:last-child::after {align-self: flex-start;width: 50%;}#sk-container-id-3 div.sk-parallel-item:only-child::after {width: 0;}#sk-container-id-3 div.sk-dashed-wrapped {border: 1px dashed gray;margin: 0 0.4em 0.5em 0.4em;box-sizing: border-box;padding-bottom: 0.4em;background-color: white;}#sk-container-id-3 div.sk-label label {font-family: monospace;font-weight: bold;display: inline-block;line-height: 1.2em;}#sk-container-id-3 div.sk-label-container {text-align: center;}#sk-container-id-3 div.sk-container {/* jupyter's `normalize.less` sets `[hidden] { display: none; }` but bootstrap.min.css set `[hidden] { display: none !important; }` so we also need the `!important` here to be able to override the default hidden behavior on the sphinx rendered scikit-learn.org. See: https://github.com/scikit-learn/scikit-learn/issues/21755 */display: inline-block !important;position: relative;}#sk-container-id-3 div.sk-text-repr-fallback {display: none;}</style><div id=\"sk-container-id-3\" class=\"sk-top-container\"><div class=\"sk-text-repr-fallback\"><pre>KNeighborsClassifier(metric=&#x27;cosine&#x27;, n_neighbors=10)</pre><b>In a Jupyter environment, please rerun this cell to show the HTML representation or trust the notebook. <br />On GitHub, the HTML representation is unable to render, please try loading this page with nbviewer.org.</b></div><div class=\"sk-container\" hidden><div class=\"sk-item\"><div class=\"sk-estimator sk-toggleable\"><input class=\"sk-toggleable__control sk-hidden--visually\" id=\"sk-estimator-id-5\" type=\"checkbox\" checked><label for=\"sk-estimator-id-5\" class=\"sk-toggleable__label sk-toggleable__label-arrow\">KNeighborsClassifier</label><div class=\"sk-toggleable__content\"><pre>KNeighborsClassifier(metric=&#x27;cosine&#x27;, n_neighbors=10)</pre></div></div></div></div></div>"
      ],
      "text/plain": [
       "KNeighborsClassifier(metric='cosine', n_neighbors=10)"
      ]
     },
     "execution_count": 10,
     "metadata": {},
     "output_type": "execute_result"
    }
   ],
   "source": [
    "grid_search.best_estimator_"
   ]
  },
  {
   "cell_type": "markdown",
   "metadata": {},
   "source": [
    "Try this hyper-parameters on the test set."
   ]
  },
  {
   "cell_type": "code",
   "execution_count": 11,
   "metadata": {},
   "outputs": [
    {
     "name": "stdout",
     "output_type": "stream",
     "text": [
      "Train accuracy of kNN 0.8037083333333334\n",
      "Test accuracy of kNN 0.7941666666666667\n"
     ]
    }
   ],
   "source": [
    "knn_clf = KNeighborsClassifier(metric='cosine', n_neighbors=10, weights='uniform')\n",
    "knn_clf.fit(x_train, y_train)\n",
    "y_train_pred = knn_clf.predict(x_train)\n",
    "y_test_pred = knn_clf.predict(x_test)\n",
    "print('Train accuracy of kNN', accuracy(y_train, y_train_pred))\n",
    "print('Test accuracy of kNN', accuracy(y_test, y_test_pred))"
   ]
  },
  {
   "cell_type": "markdown",
   "metadata": {},
   "source": [
    "The accuracy is slightly improved. \n",
    "## However, the hype parameter found lies at the boundary, which means that a more suitable hype parameter may exist"
   ]
  },
  {
   "cell_type": "markdown",
   "metadata": {},
   "source": [
    "Therefore, we try to find the hyper-parameter in range (8,25) where involved 10"
   ]
  },
  {
   "cell_type": "code",
   "execution_count": 12,
   "metadata": {},
   "outputs": [
    {
     "name": "stdout",
     "output_type": "stream",
     "text": [
      "Fitting 5 folds for each of 102 candidates, totalling 510 fits\n",
      "[CV] END ...metric=euclidean, n_neighbors=8, weights=uniform; total time=   0.1s\n",
      "[CV] END ...metric=euclidean, n_neighbors=8, weights=uniform; total time=   0.1s\n",
      "[CV] END ...metric=euclidean, n_neighbors=8, weights=uniform; total time=   0.1s\n",
      "[CV] END ...metric=euclidean, n_neighbors=8, weights=uniform; total time=   0.1s\n",
      "[CV] END ...metric=euclidean, n_neighbors=8, weights=uniform; total time=   0.1s\n",
      "[CV] END ..metric=euclidean, n_neighbors=8, weights=distance; total time=   0.0s\n",
      "[CV] END ..metric=euclidean, n_neighbors=8, weights=distance; total time=   0.0s\n",
      "[CV] END ..metric=euclidean, n_neighbors=8, weights=distance; total time=   0.0s\n",
      "[CV] END ..metric=euclidean, n_neighbors=8, weights=distance; total time=   0.0s\n",
      "[CV] END ..metric=euclidean, n_neighbors=8, weights=distance; total time=   0.0s\n",
      "[CV] END ...metric=euclidean, n_neighbors=9, weights=uniform; total time=   0.1s\n",
      "[CV] END ...metric=euclidean, n_neighbors=9, weights=uniform; total time=   0.1s\n",
      "[CV] END ...metric=euclidean, n_neighbors=9, weights=uniform; total time=   0.1s\n",
      "[CV] END ...metric=euclidean, n_neighbors=9, weights=uniform; total time=   0.1s\n",
      "[CV] END ...metric=euclidean, n_neighbors=9, weights=uniform; total time=   0.1s\n",
      "[CV] END ..metric=euclidean, n_neighbors=9, weights=distance; total time=   0.0s\n",
      "[CV] END ..metric=euclidean, n_neighbors=9, weights=distance; total time=   0.0s\n",
      "[CV] END ..metric=euclidean, n_neighbors=9, weights=distance; total time=   0.0s\n",
      "[CV] END ..metric=euclidean, n_neighbors=9, weights=distance; total time=   0.0s\n",
      "[CV] END ..metric=euclidean, n_neighbors=9, weights=distance; total time=   0.0s\n",
      "[CV] END ..metric=euclidean, n_neighbors=10, weights=uniform; total time=   0.1s\n",
      "[CV] END ..metric=euclidean, n_neighbors=10, weights=uniform; total time=   0.1s\n",
      "[CV] END ..metric=euclidean, n_neighbors=10, weights=uniform; total time=   0.1s\n",
      "[CV] END ..metric=euclidean, n_neighbors=10, weights=uniform; total time=   0.1s\n",
      "[CV] END ..metric=euclidean, n_neighbors=10, weights=uniform; total time=   0.1s\n",
      "[CV] END .metric=euclidean, n_neighbors=10, weights=distance; total time=   0.0s\n",
      "[CV] END .metric=euclidean, n_neighbors=10, weights=distance; total time=   0.0s\n",
      "[CV] END .metric=euclidean, n_neighbors=10, weights=distance; total time=   0.0s\n",
      "[CV] END .metric=euclidean, n_neighbors=10, weights=distance; total time=   0.0s\n",
      "[CV] END .metric=euclidean, n_neighbors=10, weights=distance; total time=   0.0s\n",
      "[CV] END ..metric=euclidean, n_neighbors=11, weights=uniform; total time=   0.1s\n",
      "[CV] END ..metric=euclidean, n_neighbors=11, weights=uniform; total time=   0.1s\n",
      "[CV] END ..metric=euclidean, n_neighbors=11, weights=uniform; total time=   0.1s\n",
      "[CV] END ..metric=euclidean, n_neighbors=11, weights=uniform; total time=   0.1s\n",
      "[CV] END ..metric=euclidean, n_neighbors=11, weights=uniform; total time=   0.1s\n",
      "[CV] END .metric=euclidean, n_neighbors=11, weights=distance; total time=   0.0s\n",
      "[CV] END .metric=euclidean, n_neighbors=11, weights=distance; total time=   0.0s\n",
      "[CV] END .metric=euclidean, n_neighbors=11, weights=distance; total time=   0.0s\n",
      "[CV] END .metric=euclidean, n_neighbors=11, weights=distance; total time=   0.0s\n",
      "[CV] END .metric=euclidean, n_neighbors=11, weights=distance; total time=   0.0s\n",
      "[CV] END ..metric=euclidean, n_neighbors=12, weights=uniform; total time=   0.1s\n",
      "[CV] END ..metric=euclidean, n_neighbors=12, weights=uniform; total time=   0.1s\n",
      "[CV] END ..metric=euclidean, n_neighbors=12, weights=uniform; total time=   0.1s\n",
      "[CV] END ..metric=euclidean, n_neighbors=12, weights=uniform; total time=   0.1s\n",
      "[CV] END ..metric=euclidean, n_neighbors=12, weights=uniform; total time=   0.1s\n",
      "[CV] END .metric=euclidean, n_neighbors=12, weights=distance; total time=   0.0s\n",
      "[CV] END .metric=euclidean, n_neighbors=12, weights=distance; total time=   0.0s\n",
      "[CV] END .metric=euclidean, n_neighbors=12, weights=distance; total time=   0.0s\n",
      "[CV] END .metric=euclidean, n_neighbors=12, weights=distance; total time=   0.0s\n",
      "[CV] END .metric=euclidean, n_neighbors=12, weights=distance; total time=   0.0s\n",
      "[CV] END ..metric=euclidean, n_neighbors=13, weights=uniform; total time=   0.1s\n",
      "[CV] END ..metric=euclidean, n_neighbors=13, weights=uniform; total time=   0.1s\n",
      "[CV] END ..metric=euclidean, n_neighbors=13, weights=uniform; total time=   0.1s\n",
      "[CV] END ..metric=euclidean, n_neighbors=13, weights=uniform; total time=   0.1s\n",
      "[CV] END ..metric=euclidean, n_neighbors=13, weights=uniform; total time=   0.1s\n",
      "[CV] END .metric=euclidean, n_neighbors=13, weights=distance; total time=   0.0s\n",
      "[CV] END .metric=euclidean, n_neighbors=13, weights=distance; total time=   0.0s\n",
      "[CV] END .metric=euclidean, n_neighbors=13, weights=distance; total time=   0.0s\n",
      "[CV] END .metric=euclidean, n_neighbors=13, weights=distance; total time=   0.0s\n",
      "[CV] END .metric=euclidean, n_neighbors=13, weights=distance; total time=   0.0s\n",
      "[CV] END ..metric=euclidean, n_neighbors=14, weights=uniform; total time=   0.1s\n",
      "[CV] END ..metric=euclidean, n_neighbors=14, weights=uniform; total time=   0.1s\n",
      "[CV] END ..metric=euclidean, n_neighbors=14, weights=uniform; total time=   0.1s\n",
      "[CV] END ..metric=euclidean, n_neighbors=14, weights=uniform; total time=   0.1s\n",
      "[CV] END ..metric=euclidean, n_neighbors=14, weights=uniform; total time=   0.1s\n",
      "[CV] END .metric=euclidean, n_neighbors=14, weights=distance; total time=   0.0s\n",
      "[CV] END .metric=euclidean, n_neighbors=14, weights=distance; total time=   0.0s\n",
      "[CV] END .metric=euclidean, n_neighbors=14, weights=distance; total time=   0.0s\n",
      "[CV] END .metric=euclidean, n_neighbors=14, weights=distance; total time=   0.0s\n",
      "[CV] END .metric=euclidean, n_neighbors=14, weights=distance; total time=   0.0s\n",
      "[CV] END ..metric=euclidean, n_neighbors=15, weights=uniform; total time=   0.1s\n",
      "[CV] END ..metric=euclidean, n_neighbors=15, weights=uniform; total time=   0.1s\n",
      "[CV] END ..metric=euclidean, n_neighbors=15, weights=uniform; total time=   0.1s\n",
      "[CV] END ..metric=euclidean, n_neighbors=15, weights=uniform; total time=   0.1s\n",
      "[CV] END ..metric=euclidean, n_neighbors=15, weights=uniform; total time=   0.1s\n",
      "[CV] END .metric=euclidean, n_neighbors=15, weights=distance; total time=   0.0s\n",
      "[CV] END .metric=euclidean, n_neighbors=15, weights=distance; total time=   0.0s\n",
      "[CV] END .metric=euclidean, n_neighbors=15, weights=distance; total time=   0.0s\n",
      "[CV] END .metric=euclidean, n_neighbors=15, weights=distance; total time=   0.0s\n",
      "[CV] END .metric=euclidean, n_neighbors=15, weights=distance; total time=   0.0s\n",
      "[CV] END ..metric=euclidean, n_neighbors=16, weights=uniform; total time=   0.1s\n",
      "[CV] END ..metric=euclidean, n_neighbors=16, weights=uniform; total time=   0.1s\n",
      "[CV] END ..metric=euclidean, n_neighbors=16, weights=uniform; total time=   0.1s\n",
      "[CV] END ..metric=euclidean, n_neighbors=16, weights=uniform; total time=   0.1s\n",
      "[CV] END ..metric=euclidean, n_neighbors=16, weights=uniform; total time=   0.1s\n",
      "[CV] END .metric=euclidean, n_neighbors=16, weights=distance; total time=   0.0s\n",
      "[CV] END .metric=euclidean, n_neighbors=16, weights=distance; total time=   0.0s\n",
      "[CV] END .metric=euclidean, n_neighbors=16, weights=distance; total time=   0.0s\n",
      "[CV] END .metric=euclidean, n_neighbors=16, weights=distance; total time=   0.0s\n",
      "[CV] END .metric=euclidean, n_neighbors=16, weights=distance; total time=   0.0s\n",
      "[CV] END ..metric=euclidean, n_neighbors=17, weights=uniform; total time=   0.1s\n",
      "[CV] END ..metric=euclidean, n_neighbors=17, weights=uniform; total time=   0.1s\n",
      "[CV] END ..metric=euclidean, n_neighbors=17, weights=uniform; total time=   0.1s\n",
      "[CV] END ..metric=euclidean, n_neighbors=17, weights=uniform; total time=   0.1s\n",
      "[CV] END ..metric=euclidean, n_neighbors=17, weights=uniform; total time=   0.1s\n",
      "[CV] END .metric=euclidean, n_neighbors=17, weights=distance; total time=   0.0s\n",
      "[CV] END .metric=euclidean, n_neighbors=17, weights=distance; total time=   0.0s\n",
      "[CV] END .metric=euclidean, n_neighbors=17, weights=distance; total time=   0.0s\n",
      "[CV] END .metric=euclidean, n_neighbors=17, weights=distance; total time=   0.0s\n",
      "[CV] END .metric=euclidean, n_neighbors=17, weights=distance; total time=   0.0s\n",
      "[CV] END ..metric=euclidean, n_neighbors=18, weights=uniform; total time=   0.1s\n",
      "[CV] END ..metric=euclidean, n_neighbors=18, weights=uniform; total time=   0.1s\n"
     ]
    },
    {
     "name": "stdout",
     "output_type": "stream",
     "text": [
      "[CV] END ..metric=euclidean, n_neighbors=18, weights=uniform; total time=   0.1s\n",
      "[CV] END ..metric=euclidean, n_neighbors=18, weights=uniform; total time=   0.1s\n",
      "[CV] END ..metric=euclidean, n_neighbors=18, weights=uniform; total time=   0.1s\n",
      "[CV] END .metric=euclidean, n_neighbors=18, weights=distance; total time=   0.0s\n",
      "[CV] END .metric=euclidean, n_neighbors=18, weights=distance; total time=   0.0s\n",
      "[CV] END .metric=euclidean, n_neighbors=18, weights=distance; total time=   0.0s\n",
      "[CV] END .metric=euclidean, n_neighbors=18, weights=distance; total time=   0.0s\n",
      "[CV] END .metric=euclidean, n_neighbors=18, weights=distance; total time=   0.0s\n",
      "[CV] END ..metric=euclidean, n_neighbors=19, weights=uniform; total time=   0.1s\n",
      "[CV] END ..metric=euclidean, n_neighbors=19, weights=uniform; total time=   0.1s\n",
      "[CV] END ..metric=euclidean, n_neighbors=19, weights=uniform; total time=   0.1s\n",
      "[CV] END ..metric=euclidean, n_neighbors=19, weights=uniform; total time=   0.1s\n",
      "[CV] END ..metric=euclidean, n_neighbors=19, weights=uniform; total time=   0.1s\n",
      "[CV] END .metric=euclidean, n_neighbors=19, weights=distance; total time=   0.0s\n",
      "[CV] END .metric=euclidean, n_neighbors=19, weights=distance; total time=   0.0s\n",
      "[CV] END .metric=euclidean, n_neighbors=19, weights=distance; total time=   0.0s\n",
      "[CV] END .metric=euclidean, n_neighbors=19, weights=distance; total time=   0.0s\n",
      "[CV] END .metric=euclidean, n_neighbors=19, weights=distance; total time=   0.0s\n",
      "[CV] END ..metric=euclidean, n_neighbors=20, weights=uniform; total time=   0.1s\n",
      "[CV] END ..metric=euclidean, n_neighbors=20, weights=uniform; total time=   0.1s\n",
      "[CV] END ..metric=euclidean, n_neighbors=20, weights=uniform; total time=   0.1s\n",
      "[CV] END ..metric=euclidean, n_neighbors=20, weights=uniform; total time=   0.1s\n",
      "[CV] END ..metric=euclidean, n_neighbors=20, weights=uniform; total time=   0.1s\n",
      "[CV] END .metric=euclidean, n_neighbors=20, weights=distance; total time=   0.0s\n",
      "[CV] END .metric=euclidean, n_neighbors=20, weights=distance; total time=   0.0s\n",
      "[CV] END .metric=euclidean, n_neighbors=20, weights=distance; total time=   0.0s\n",
      "[CV] END .metric=euclidean, n_neighbors=20, weights=distance; total time=   0.0s\n",
      "[CV] END .metric=euclidean, n_neighbors=20, weights=distance; total time=   0.0s\n",
      "[CV] END ..metric=euclidean, n_neighbors=21, weights=uniform; total time=   0.1s\n",
      "[CV] END ..metric=euclidean, n_neighbors=21, weights=uniform; total time=   0.1s\n",
      "[CV] END ..metric=euclidean, n_neighbors=21, weights=uniform; total time=   0.1s\n",
      "[CV] END ..metric=euclidean, n_neighbors=21, weights=uniform; total time=   0.1s\n",
      "[CV] END ..metric=euclidean, n_neighbors=21, weights=uniform; total time=   0.1s\n",
      "[CV] END .metric=euclidean, n_neighbors=21, weights=distance; total time=   0.0s\n",
      "[CV] END .metric=euclidean, n_neighbors=21, weights=distance; total time=   0.0s\n",
      "[CV] END .metric=euclidean, n_neighbors=21, weights=distance; total time=   0.0s\n",
      "[CV] END .metric=euclidean, n_neighbors=21, weights=distance; total time=   0.0s\n",
      "[CV] END .metric=euclidean, n_neighbors=21, weights=distance; total time=   0.0s\n",
      "[CV] END ..metric=euclidean, n_neighbors=22, weights=uniform; total time=   0.1s\n",
      "[CV] END ..metric=euclidean, n_neighbors=22, weights=uniform; total time=   0.1s\n",
      "[CV] END ..metric=euclidean, n_neighbors=22, weights=uniform; total time=   0.1s\n",
      "[CV] END ..metric=euclidean, n_neighbors=22, weights=uniform; total time=   0.1s\n",
      "[CV] END ..metric=euclidean, n_neighbors=22, weights=uniform; total time=   0.1s\n",
      "[CV] END .metric=euclidean, n_neighbors=22, weights=distance; total time=   0.0s\n",
      "[CV] END .metric=euclidean, n_neighbors=22, weights=distance; total time=   0.0s\n",
      "[CV] END .metric=euclidean, n_neighbors=22, weights=distance; total time=   0.0s\n",
      "[CV] END .metric=euclidean, n_neighbors=22, weights=distance; total time=   0.0s\n",
      "[CV] END .metric=euclidean, n_neighbors=22, weights=distance; total time=   0.0s\n",
      "[CV] END ..metric=euclidean, n_neighbors=23, weights=uniform; total time=   0.1s\n",
      "[CV] END ..metric=euclidean, n_neighbors=23, weights=uniform; total time=   0.1s\n",
      "[CV] END ..metric=euclidean, n_neighbors=23, weights=uniform; total time=   0.1s\n",
      "[CV] END ..metric=euclidean, n_neighbors=23, weights=uniform; total time=   0.1s\n",
      "[CV] END ..metric=euclidean, n_neighbors=23, weights=uniform; total time=   0.1s\n",
      "[CV] END .metric=euclidean, n_neighbors=23, weights=distance; total time=   0.0s\n",
      "[CV] END .metric=euclidean, n_neighbors=23, weights=distance; total time=   0.0s\n",
      "[CV] END .metric=euclidean, n_neighbors=23, weights=distance; total time=   0.0s\n",
      "[CV] END .metric=euclidean, n_neighbors=23, weights=distance; total time=   0.0s\n",
      "[CV] END .metric=euclidean, n_neighbors=23, weights=distance; total time=   0.0s\n",
      "[CV] END ..metric=euclidean, n_neighbors=24, weights=uniform; total time=   0.1s\n",
      "[CV] END ..metric=euclidean, n_neighbors=24, weights=uniform; total time=   0.1s\n",
      "[CV] END ..metric=euclidean, n_neighbors=24, weights=uniform; total time=   0.1s\n",
      "[CV] END ..metric=euclidean, n_neighbors=24, weights=uniform; total time=   0.1s\n",
      "[CV] END ..metric=euclidean, n_neighbors=24, weights=uniform; total time=   0.1s\n",
      "[CV] END .metric=euclidean, n_neighbors=24, weights=distance; total time=   0.0s\n",
      "[CV] END .metric=euclidean, n_neighbors=24, weights=distance; total time=   0.0s\n",
      "[CV] END .metric=euclidean, n_neighbors=24, weights=distance; total time=   0.0s\n",
      "[CV] END .metric=euclidean, n_neighbors=24, weights=distance; total time=   0.0s\n",
      "[CV] END .metric=euclidean, n_neighbors=24, weights=distance; total time=   0.0s\n",
      "[CV] END ...metric=manhattan, n_neighbors=8, weights=uniform; total time=   0.2s\n",
      "[CV] END ...metric=manhattan, n_neighbors=8, weights=uniform; total time=   0.2s\n",
      "[CV] END ...metric=manhattan, n_neighbors=8, weights=uniform; total time=   0.3s\n",
      "[CV] END ...metric=manhattan, n_neighbors=8, weights=uniform; total time=   0.2s\n",
      "[CV] END ...metric=manhattan, n_neighbors=8, weights=uniform; total time=   0.2s\n",
      "[CV] END ..metric=manhattan, n_neighbors=8, weights=distance; total time=   0.1s\n",
      "[CV] END ..metric=manhattan, n_neighbors=8, weights=distance; total time=   0.1s\n",
      "[CV] END ..metric=manhattan, n_neighbors=8, weights=distance; total time=   0.2s\n",
      "[CV] END ..metric=manhattan, n_neighbors=8, weights=distance; total time=   0.1s\n",
      "[CV] END ..metric=manhattan, n_neighbors=8, weights=distance; total time=   0.1s\n",
      "[CV] END ...metric=manhattan, n_neighbors=9, weights=uniform; total time=   0.3s\n",
      "[CV] END ...metric=manhattan, n_neighbors=9, weights=uniform; total time=   0.2s\n",
      "[CV] END ...metric=manhattan, n_neighbors=9, weights=uniform; total time=   0.2s\n",
      "[CV] END ...metric=manhattan, n_neighbors=9, weights=uniform; total time=   0.2s\n",
      "[CV] END ...metric=manhattan, n_neighbors=9, weights=uniform; total time=   0.2s\n",
      "[CV] END ..metric=manhattan, n_neighbors=9, weights=distance; total time=   0.1s\n",
      "[CV] END ..metric=manhattan, n_neighbors=9, weights=distance; total time=   0.1s\n",
      "[CV] END ..metric=manhattan, n_neighbors=9, weights=distance; total time=   0.1s\n",
      "[CV] END ..metric=manhattan, n_neighbors=9, weights=distance; total time=   0.1s\n",
      "[CV] END ..metric=manhattan, n_neighbors=9, weights=distance; total time=   0.1s\n",
      "[CV] END ..metric=manhattan, n_neighbors=10, weights=uniform; total time=   0.3s\n",
      "[CV] END ..metric=manhattan, n_neighbors=10, weights=uniform; total time=   0.2s\n",
      "[CV] END ..metric=manhattan, n_neighbors=10, weights=uniform; total time=   0.2s\n",
      "[CV] END ..metric=manhattan, n_neighbors=10, weights=uniform; total time=   0.2s\n",
      "[CV] END ..metric=manhattan, n_neighbors=10, weights=uniform; total time=   0.2s\n",
      "[CV] END .metric=manhattan, n_neighbors=10, weights=distance; total time=   0.1s\n",
      "[CV] END .metric=manhattan, n_neighbors=10, weights=distance; total time=   0.1s\n",
      "[CV] END .metric=manhattan, n_neighbors=10, weights=distance; total time=   0.1s\n",
      "[CV] END .metric=manhattan, n_neighbors=10, weights=distance; total time=   0.1s\n",
      "[CV] END .metric=manhattan, n_neighbors=10, weights=distance; total time=   0.1s\n",
      "[CV] END ..metric=manhattan, n_neighbors=11, weights=uniform; total time=   0.3s\n",
      "[CV] END ..metric=manhattan, n_neighbors=11, weights=uniform; total time=   0.2s\n",
      "[CV] END ..metric=manhattan, n_neighbors=11, weights=uniform; total time=   0.2s\n",
      "[CV] END ..metric=manhattan, n_neighbors=11, weights=uniform; total time=   0.2s\n"
     ]
    },
    {
     "name": "stdout",
     "output_type": "stream",
     "text": [
      "[CV] END ..metric=manhattan, n_neighbors=11, weights=uniform; total time=   0.2s\n",
      "[CV] END .metric=manhattan, n_neighbors=11, weights=distance; total time=   0.1s\n",
      "[CV] END .metric=manhattan, n_neighbors=11, weights=distance; total time=   0.1s\n",
      "[CV] END .metric=manhattan, n_neighbors=11, weights=distance; total time=   0.1s\n",
      "[CV] END .metric=manhattan, n_neighbors=11, weights=distance; total time=   0.2s\n",
      "[CV] END .metric=manhattan, n_neighbors=11, weights=distance; total time=   0.2s\n",
      "[CV] END ..metric=manhattan, n_neighbors=12, weights=uniform; total time=   0.2s\n",
      "[CV] END ..metric=manhattan, n_neighbors=12, weights=uniform; total time=   0.3s\n",
      "[CV] END ..metric=manhattan, n_neighbors=12, weights=uniform; total time=   0.2s\n",
      "[CV] END ..metric=manhattan, n_neighbors=12, weights=uniform; total time=   0.2s\n",
      "[CV] END ..metric=manhattan, n_neighbors=12, weights=uniform; total time=   0.2s\n",
      "[CV] END .metric=manhattan, n_neighbors=12, weights=distance; total time=   0.1s\n",
      "[CV] END .metric=manhattan, n_neighbors=12, weights=distance; total time=   0.1s\n",
      "[CV] END .metric=manhattan, n_neighbors=12, weights=distance; total time=   0.1s\n",
      "[CV] END .metric=manhattan, n_neighbors=12, weights=distance; total time=   0.1s\n",
      "[CV] END .metric=manhattan, n_neighbors=12, weights=distance; total time=   0.2s\n",
      "[CV] END ..metric=manhattan, n_neighbors=13, weights=uniform; total time=   0.2s\n",
      "[CV] END ..metric=manhattan, n_neighbors=13, weights=uniform; total time=   0.3s\n",
      "[CV] END ..metric=manhattan, n_neighbors=13, weights=uniform; total time=   0.2s\n",
      "[CV] END ..metric=manhattan, n_neighbors=13, weights=uniform; total time=   0.3s\n",
      "[CV] END ..metric=manhattan, n_neighbors=13, weights=uniform; total time=   0.2s\n",
      "[CV] END .metric=manhattan, n_neighbors=13, weights=distance; total time=   0.1s\n",
      "[CV] END .metric=manhattan, n_neighbors=13, weights=distance; total time=   0.2s\n",
      "[CV] END .metric=manhattan, n_neighbors=13, weights=distance; total time=   0.1s\n",
      "[CV] END .metric=manhattan, n_neighbors=13, weights=distance; total time=   0.2s\n",
      "[CV] END .metric=manhattan, n_neighbors=13, weights=distance; total time=   0.2s\n",
      "[CV] END ..metric=manhattan, n_neighbors=14, weights=uniform; total time=   0.3s\n",
      "[CV] END ..metric=manhattan, n_neighbors=14, weights=uniform; total time=   0.3s\n",
      "[CV] END ..metric=manhattan, n_neighbors=14, weights=uniform; total time=   0.2s\n",
      "[CV] END ..metric=manhattan, n_neighbors=14, weights=uniform; total time=   0.2s\n",
      "[CV] END ..metric=manhattan, n_neighbors=14, weights=uniform; total time=   0.3s\n",
      "[CV] END .metric=manhattan, n_neighbors=14, weights=distance; total time=   0.1s\n",
      "[CV] END .metric=manhattan, n_neighbors=14, weights=distance; total time=   0.2s\n",
      "[CV] END .metric=manhattan, n_neighbors=14, weights=distance; total time=   0.2s\n",
      "[CV] END .metric=manhattan, n_neighbors=14, weights=distance; total time=   0.1s\n",
      "[CV] END .metric=manhattan, n_neighbors=14, weights=distance; total time=   0.1s\n",
      "[CV] END ..metric=manhattan, n_neighbors=15, weights=uniform; total time=   0.3s\n",
      "[CV] END ..metric=manhattan, n_neighbors=15, weights=uniform; total time=   0.2s\n",
      "[CV] END ..metric=manhattan, n_neighbors=15, weights=uniform; total time=   0.2s\n",
      "[CV] END ..metric=manhattan, n_neighbors=15, weights=uniform; total time=   0.2s\n",
      "[CV] END ..metric=manhattan, n_neighbors=15, weights=uniform; total time=   0.3s\n",
      "[CV] END .metric=manhattan, n_neighbors=15, weights=distance; total time=   0.1s\n",
      "[CV] END .metric=manhattan, n_neighbors=15, weights=distance; total time=   0.1s\n",
      "[CV] END .metric=manhattan, n_neighbors=15, weights=distance; total time=   0.2s\n",
      "[CV] END .metric=manhattan, n_neighbors=15, weights=distance; total time=   0.2s\n",
      "[CV] END .metric=manhattan, n_neighbors=15, weights=distance; total time=   0.2s\n",
      "[CV] END ..metric=manhattan, n_neighbors=16, weights=uniform; total time=   0.2s\n",
      "[CV] END ..metric=manhattan, n_neighbors=16, weights=uniform; total time=   0.3s\n",
      "[CV] END ..metric=manhattan, n_neighbors=16, weights=uniform; total time=   0.2s\n",
      "[CV] END ..metric=manhattan, n_neighbors=16, weights=uniform; total time=   0.2s\n",
      "[CV] END ..metric=manhattan, n_neighbors=16, weights=uniform; total time=   0.3s\n",
      "[CV] END .metric=manhattan, n_neighbors=16, weights=distance; total time=   0.2s\n",
      "[CV] END .metric=manhattan, n_neighbors=16, weights=distance; total time=   0.2s\n",
      "[CV] END .metric=manhattan, n_neighbors=16, weights=distance; total time=   0.1s\n",
      "[CV] END .metric=manhattan, n_neighbors=16, weights=distance; total time=   0.1s\n",
      "[CV] END .metric=manhattan, n_neighbors=16, weights=distance; total time=   0.2s\n",
      "[CV] END ..metric=manhattan, n_neighbors=17, weights=uniform; total time=   0.2s\n",
      "[CV] END ..metric=manhattan, n_neighbors=17, weights=uniform; total time=   0.3s\n",
      "[CV] END ..metric=manhattan, n_neighbors=17, weights=uniform; total time=   0.3s\n",
      "[CV] END ..metric=manhattan, n_neighbors=17, weights=uniform; total time=   0.2s\n",
      "[CV] END ..metric=manhattan, n_neighbors=17, weights=uniform; total time=   0.2s\n",
      "[CV] END .metric=manhattan, n_neighbors=17, weights=distance; total time=   0.1s\n",
      "[CV] END .metric=manhattan, n_neighbors=17, weights=distance; total time=   0.2s\n",
      "[CV] END .metric=manhattan, n_neighbors=17, weights=distance; total time=   0.2s\n",
      "[CV] END .metric=manhattan, n_neighbors=17, weights=distance; total time=   0.2s\n",
      "[CV] END .metric=manhattan, n_neighbors=17, weights=distance; total time=   0.2s\n",
      "[CV] END ..metric=manhattan, n_neighbors=18, weights=uniform; total time=   0.3s\n",
      "[CV] END ..metric=manhattan, n_neighbors=18, weights=uniform; total time=   0.3s\n",
      "[CV] END ..metric=manhattan, n_neighbors=18, weights=uniform; total time=   0.2s\n",
      "[CV] END ..metric=manhattan, n_neighbors=18, weights=uniform; total time=   0.3s\n",
      "[CV] END ..metric=manhattan, n_neighbors=18, weights=uniform; total time=   0.2s\n",
      "[CV] END .metric=manhattan, n_neighbors=18, weights=distance; total time=   0.2s\n",
      "[CV] END .metric=manhattan, n_neighbors=18, weights=distance; total time=   0.2s\n",
      "[CV] END .metric=manhattan, n_neighbors=18, weights=distance; total time=   0.2s\n",
      "[CV] END .metric=manhattan, n_neighbors=18, weights=distance; total time=   0.2s\n",
      "[CV] END .metric=manhattan, n_neighbors=18, weights=distance; total time=   0.1s\n",
      "[CV] END ..metric=manhattan, n_neighbors=19, weights=uniform; total time=   0.3s\n",
      "[CV] END ..metric=manhattan, n_neighbors=19, weights=uniform; total time=   0.2s\n",
      "[CV] END ..metric=manhattan, n_neighbors=19, weights=uniform; total time=   0.3s\n",
      "[CV] END ..metric=manhattan, n_neighbors=19, weights=uniform; total time=   0.2s\n",
      "[CV] END ..metric=manhattan, n_neighbors=19, weights=uniform; total time=   0.3s\n",
      "[CV] END .metric=manhattan, n_neighbors=19, weights=distance; total time=   0.1s\n",
      "[CV] END .metric=manhattan, n_neighbors=19, weights=distance; total time=   0.2s\n",
      "[CV] END .metric=manhattan, n_neighbors=19, weights=distance; total time=   0.2s\n",
      "[CV] END .metric=manhattan, n_neighbors=19, weights=distance; total time=   0.2s\n",
      "[CV] END .metric=manhattan, n_neighbors=19, weights=distance; total time=   0.2s\n",
      "[CV] END ..metric=manhattan, n_neighbors=20, weights=uniform; total time=   0.2s\n",
      "[CV] END ..metric=manhattan, n_neighbors=20, weights=uniform; total time=   0.3s\n",
      "[CV] END ..metric=manhattan, n_neighbors=20, weights=uniform; total time=   0.2s\n",
      "[CV] END ..metric=manhattan, n_neighbors=20, weights=uniform; total time=   0.2s\n",
      "[CV] END ..metric=manhattan, n_neighbors=20, weights=uniform; total time=   0.3s\n",
      "[CV] END .metric=manhattan, n_neighbors=20, weights=distance; total time=   0.1s\n",
      "[CV] END .metric=manhattan, n_neighbors=20, weights=distance; total time=   0.1s\n",
      "[CV] END .metric=manhattan, n_neighbors=20, weights=distance; total time=   0.1s\n",
      "[CV] END .metric=manhattan, n_neighbors=20, weights=distance; total time=   0.1s\n",
      "[CV] END .metric=manhattan, n_neighbors=20, weights=distance; total time=   0.1s\n",
      "[CV] END ..metric=manhattan, n_neighbors=21, weights=uniform; total time=   0.2s\n",
      "[CV] END ..metric=manhattan, n_neighbors=21, weights=uniform; total time=   0.2s\n",
      "[CV] END ..metric=manhattan, n_neighbors=21, weights=uniform; total time=   0.3s\n",
      "[CV] END ..metric=manhattan, n_neighbors=21, weights=uniform; total time=   0.2s\n",
      "[CV] END ..metric=manhattan, n_neighbors=21, weights=uniform; total time=   0.2s\n",
      "[CV] END .metric=manhattan, n_neighbors=21, weights=distance; total time=   0.1s\n"
     ]
    },
    {
     "name": "stdout",
     "output_type": "stream",
     "text": [
      "[CV] END .metric=manhattan, n_neighbors=21, weights=distance; total time=   0.2s\n",
      "[CV] END .metric=manhattan, n_neighbors=21, weights=distance; total time=   0.2s\n",
      "[CV] END .metric=manhattan, n_neighbors=21, weights=distance; total time=   0.2s\n",
      "[CV] END .metric=manhattan, n_neighbors=21, weights=distance; total time=   0.1s\n",
      "[CV] END ..metric=manhattan, n_neighbors=22, weights=uniform; total time=   0.2s\n",
      "[CV] END ..metric=manhattan, n_neighbors=22, weights=uniform; total time=   0.2s\n",
      "[CV] END ..metric=manhattan, n_neighbors=22, weights=uniform; total time=   0.2s\n",
      "[CV] END ..metric=manhattan, n_neighbors=22, weights=uniform; total time=   0.2s\n",
      "[CV] END ..metric=manhattan, n_neighbors=22, weights=uniform; total time=   0.3s\n",
      "[CV] END .metric=manhattan, n_neighbors=22, weights=distance; total time=   0.1s\n",
      "[CV] END .metric=manhattan, n_neighbors=22, weights=distance; total time=   0.2s\n",
      "[CV] END .metric=manhattan, n_neighbors=22, weights=distance; total time=   0.2s\n",
      "[CV] END .metric=manhattan, n_neighbors=22, weights=distance; total time=   0.2s\n",
      "[CV] END .metric=manhattan, n_neighbors=22, weights=distance; total time=   0.2s\n",
      "[CV] END ..metric=manhattan, n_neighbors=23, weights=uniform; total time=   0.3s\n",
      "[CV] END ..metric=manhattan, n_neighbors=23, weights=uniform; total time=   0.3s\n",
      "[CV] END ..metric=manhattan, n_neighbors=23, weights=uniform; total time=   0.2s\n",
      "[CV] END ..metric=manhattan, n_neighbors=23, weights=uniform; total time=   0.3s\n",
      "[CV] END ..metric=manhattan, n_neighbors=23, weights=uniform; total time=   0.2s\n",
      "[CV] END .metric=manhattan, n_neighbors=23, weights=distance; total time=   0.2s\n",
      "[CV] END .metric=manhattan, n_neighbors=23, weights=distance; total time=   0.2s\n",
      "[CV] END .metric=manhattan, n_neighbors=23, weights=distance; total time=   0.2s\n",
      "[CV] END .metric=manhattan, n_neighbors=23, weights=distance; total time=   0.2s\n",
      "[CV] END .metric=manhattan, n_neighbors=23, weights=distance; total time=   0.2s\n",
      "[CV] END ..metric=manhattan, n_neighbors=24, weights=uniform; total time=   0.2s\n",
      "[CV] END ..metric=manhattan, n_neighbors=24, weights=uniform; total time=   0.2s\n",
      "[CV] END ..metric=manhattan, n_neighbors=24, weights=uniform; total time=   0.2s\n",
      "[CV] END ..metric=manhattan, n_neighbors=24, weights=uniform; total time=   0.3s\n",
      "[CV] END ..metric=manhattan, n_neighbors=24, weights=uniform; total time=   0.3s\n",
      "[CV] END .metric=manhattan, n_neighbors=24, weights=distance; total time=   0.1s\n",
      "[CV] END .metric=manhattan, n_neighbors=24, weights=distance; total time=   0.2s\n",
      "[CV] END .metric=manhattan, n_neighbors=24, weights=distance; total time=   0.2s\n",
      "[CV] END .metric=manhattan, n_neighbors=24, weights=distance; total time=   0.2s\n",
      "[CV] END .metric=manhattan, n_neighbors=24, weights=distance; total time=   0.2s\n",
      "[CV] END ......metric=cosine, n_neighbors=8, weights=uniform; total time=   1.7s\n",
      "[CV] END ......metric=cosine, n_neighbors=8, weights=uniform; total time=   1.6s\n",
      "[CV] END ......metric=cosine, n_neighbors=8, weights=uniform; total time=   1.7s\n",
      "[CV] END ......metric=cosine, n_neighbors=8, weights=uniform; total time=   1.7s\n",
      "[CV] END ......metric=cosine, n_neighbors=8, weights=uniform; total time=   1.8s\n",
      "[CV] END .....metric=cosine, n_neighbors=8, weights=distance; total time=   1.6s\n",
      "[CV] END .....metric=cosine, n_neighbors=8, weights=distance; total time=   1.6s\n",
      "[CV] END .....metric=cosine, n_neighbors=8, weights=distance; total time=   1.8s\n",
      "[CV] END .....metric=cosine, n_neighbors=8, weights=distance; total time=   1.8s\n",
      "[CV] END .....metric=cosine, n_neighbors=8, weights=distance; total time=   1.8s\n",
      "[CV] END ......metric=cosine, n_neighbors=9, weights=uniform; total time=   1.6s\n",
      "[CV] END ......metric=cosine, n_neighbors=9, weights=uniform; total time=   1.6s\n",
      "[CV] END ......metric=cosine, n_neighbors=9, weights=uniform; total time=   1.7s\n",
      "[CV] END ......metric=cosine, n_neighbors=9, weights=uniform; total time=   1.8s\n",
      "[CV] END ......metric=cosine, n_neighbors=9, weights=uniform; total time=   1.8s\n",
      "[CV] END .....metric=cosine, n_neighbors=9, weights=distance; total time=   1.6s\n",
      "[CV] END .....metric=cosine, n_neighbors=9, weights=distance; total time=   1.6s\n",
      "[CV] END .....metric=cosine, n_neighbors=9, weights=distance; total time=   1.8s\n",
      "[CV] END .....metric=cosine, n_neighbors=9, weights=distance; total time=   1.8s\n",
      "[CV] END .....metric=cosine, n_neighbors=9, weights=distance; total time=   1.8s\n",
      "[CV] END .....metric=cosine, n_neighbors=10, weights=uniform; total time=   1.6s\n",
      "[CV] END .....metric=cosine, n_neighbors=10, weights=uniform; total time=   1.5s\n",
      "[CV] END .....metric=cosine, n_neighbors=10, weights=uniform; total time=   1.8s\n",
      "[CV] END .....metric=cosine, n_neighbors=10, weights=uniform; total time=   1.9s\n",
      "[CV] END .....metric=cosine, n_neighbors=10, weights=uniform; total time=   1.8s\n",
      "[CV] END ....metric=cosine, n_neighbors=10, weights=distance; total time=   1.5s\n",
      "[CV] END ....metric=cosine, n_neighbors=10, weights=distance; total time=   1.5s\n",
      "[CV] END ....metric=cosine, n_neighbors=10, weights=distance; total time=   1.6s\n",
      "[CV] END ....metric=cosine, n_neighbors=10, weights=distance; total time=   1.7s\n",
      "[CV] END ....metric=cosine, n_neighbors=10, weights=distance; total time=   1.8s\n",
      "[CV] END .....metric=cosine, n_neighbors=11, weights=uniform; total time=   1.6s\n",
      "[CV] END .....metric=cosine, n_neighbors=11, weights=uniform; total time=   1.6s\n",
      "[CV] END .....metric=cosine, n_neighbors=11, weights=uniform; total time=   1.8s\n",
      "[CV] END .....metric=cosine, n_neighbors=11, weights=uniform; total time=   1.8s\n",
      "[CV] END .....metric=cosine, n_neighbors=11, weights=uniform; total time=   1.9s\n",
      "[CV] END ....metric=cosine, n_neighbors=11, weights=distance; total time=   1.6s\n",
      "[CV] END ....metric=cosine, n_neighbors=11, weights=distance; total time=   1.6s\n",
      "[CV] END ....metric=cosine, n_neighbors=11, weights=distance; total time=   1.8s\n",
      "[CV] END ....metric=cosine, n_neighbors=11, weights=distance; total time=   1.7s\n",
      "[CV] END ....metric=cosine, n_neighbors=11, weights=distance; total time=   1.8s\n",
      "[CV] END .....metric=cosine, n_neighbors=12, weights=uniform; total time=   1.6s\n",
      "[CV] END .....metric=cosine, n_neighbors=12, weights=uniform; total time=   1.6s\n",
      "[CV] END .....metric=cosine, n_neighbors=12, weights=uniform; total time=   1.8s\n",
      "[CV] END .....metric=cosine, n_neighbors=12, weights=uniform; total time=   1.8s\n",
      "[CV] END .....metric=cosine, n_neighbors=12, weights=uniform; total time=   1.8s\n",
      "[CV] END ....metric=cosine, n_neighbors=12, weights=distance; total time=   1.6s\n",
      "[CV] END ....metric=cosine, n_neighbors=12, weights=distance; total time=   1.6s\n",
      "[CV] END ....metric=cosine, n_neighbors=12, weights=distance; total time=   1.6s\n",
      "[CV] END ....metric=cosine, n_neighbors=12, weights=distance; total time=   1.6s\n",
      "[CV] END ....metric=cosine, n_neighbors=12, weights=distance; total time=   1.7s\n",
      "[CV] END .....metric=cosine, n_neighbors=13, weights=uniform; total time=   1.7s\n",
      "[CV] END .....metric=cosine, n_neighbors=13, weights=uniform; total time=   1.7s\n",
      "[CV] END .....metric=cosine, n_neighbors=13, weights=uniform; total time=   1.8s\n",
      "[CV] END .....metric=cosine, n_neighbors=13, weights=uniform; total time=   1.7s\n",
      "[CV] END .....metric=cosine, n_neighbors=13, weights=uniform; total time=   1.8s\n",
      "[CV] END ....metric=cosine, n_neighbors=13, weights=distance; total time=   1.6s\n",
      "[CV] END ....metric=cosine, n_neighbors=13, weights=distance; total time=   1.5s\n",
      "[CV] END ....metric=cosine, n_neighbors=13, weights=distance; total time=   1.7s\n",
      "[CV] END ....metric=cosine, n_neighbors=13, weights=distance; total time=   1.7s\n",
      "[CV] END ....metric=cosine, n_neighbors=13, weights=distance; total time=   1.7s\n",
      "[CV] END .....metric=cosine, n_neighbors=14, weights=uniform; total time=   1.6s\n",
      "[CV] END .....metric=cosine, n_neighbors=14, weights=uniform; total time=   1.7s\n",
      "[CV] END .....metric=cosine, n_neighbors=14, weights=uniform; total time=   1.7s\n",
      "[CV] END .....metric=cosine, n_neighbors=14, weights=uniform; total time=   1.8s\n",
      "[CV] END .....metric=cosine, n_neighbors=14, weights=uniform; total time=   1.8s\n",
      "[CV] END ....metric=cosine, n_neighbors=14, weights=distance; total time=   1.6s\n",
      "[CV] END ....metric=cosine, n_neighbors=14, weights=distance; total time=   1.6s\n",
      "[CV] END ....metric=cosine, n_neighbors=14, weights=distance; total time=   1.7s\n"
     ]
    },
    {
     "name": "stdout",
     "output_type": "stream",
     "text": [
      "[CV] END ....metric=cosine, n_neighbors=14, weights=distance; total time=   1.8s\n",
      "[CV] END ....metric=cosine, n_neighbors=14, weights=distance; total time=   1.8s\n",
      "[CV] END .....metric=cosine, n_neighbors=15, weights=uniform; total time=   1.6s\n",
      "[CV] END .....metric=cosine, n_neighbors=15, weights=uniform; total time=   1.7s\n",
      "[CV] END .....metric=cosine, n_neighbors=15, weights=uniform; total time=   1.7s\n",
      "[CV] END .....metric=cosine, n_neighbors=15, weights=uniform; total time=   1.8s\n",
      "[CV] END .....metric=cosine, n_neighbors=15, weights=uniform; total time=   1.8s\n",
      "[CV] END ....metric=cosine, n_neighbors=15, weights=distance; total time=   1.6s\n",
      "[CV] END ....metric=cosine, n_neighbors=15, weights=distance; total time=   1.6s\n",
      "[CV] END ....metric=cosine, n_neighbors=15, weights=distance; total time=   1.7s\n",
      "[CV] END ....metric=cosine, n_neighbors=15, weights=distance; total time=   1.7s\n",
      "[CV] END ....metric=cosine, n_neighbors=15, weights=distance; total time=   1.8s\n",
      "[CV] END .....metric=cosine, n_neighbors=16, weights=uniform; total time=   1.6s\n",
      "[CV] END .....metric=cosine, n_neighbors=16, weights=uniform; total time=   1.6s\n",
      "[CV] END .....metric=cosine, n_neighbors=16, weights=uniform; total time=   1.8s\n",
      "[CV] END .....metric=cosine, n_neighbors=16, weights=uniform; total time=   1.7s\n",
      "[CV] END .....metric=cosine, n_neighbors=16, weights=uniform; total time=   1.8s\n",
      "[CV] END ....metric=cosine, n_neighbors=16, weights=distance; total time=   1.6s\n",
      "[CV] END ....metric=cosine, n_neighbors=16, weights=distance; total time=   1.5s\n",
      "[CV] END ....metric=cosine, n_neighbors=16, weights=distance; total time=   1.7s\n",
      "[CV] END ....metric=cosine, n_neighbors=16, weights=distance; total time=   1.7s\n",
      "[CV] END ....metric=cosine, n_neighbors=16, weights=distance; total time=   1.7s\n",
      "[CV] END .....metric=cosine, n_neighbors=17, weights=uniform; total time=   1.7s\n",
      "[CV] END .....metric=cosine, n_neighbors=17, weights=uniform; total time=   1.7s\n",
      "[CV] END .....metric=cosine, n_neighbors=17, weights=uniform; total time=   1.8s\n",
      "[CV] END .....metric=cosine, n_neighbors=17, weights=uniform; total time=   1.9s\n",
      "[CV] END .....metric=cosine, n_neighbors=17, weights=uniform; total time=   1.8s\n",
      "[CV] END ....metric=cosine, n_neighbors=17, weights=distance; total time=   1.5s\n",
      "[CV] END ....metric=cosine, n_neighbors=17, weights=distance; total time=   1.6s\n",
      "[CV] END ....metric=cosine, n_neighbors=17, weights=distance; total time=   1.6s\n",
      "[CV] END ....metric=cosine, n_neighbors=17, weights=distance; total time=   1.7s\n",
      "[CV] END ....metric=cosine, n_neighbors=17, weights=distance; total time=   1.7s\n",
      "[CV] END .....metric=cosine, n_neighbors=18, weights=uniform; total time=   1.7s\n",
      "[CV] END .....metric=cosine, n_neighbors=18, weights=uniform; total time=   1.6s\n",
      "[CV] END .....metric=cosine, n_neighbors=18, weights=uniform; total time=   1.7s\n",
      "[CV] END .....metric=cosine, n_neighbors=18, weights=uniform; total time=   1.8s\n",
      "[CV] END .....metric=cosine, n_neighbors=18, weights=uniform; total time=   1.8s\n",
      "[CV] END ....metric=cosine, n_neighbors=18, weights=distance; total time=   1.6s\n",
      "[CV] END ....metric=cosine, n_neighbors=18, weights=distance; total time=   1.6s\n",
      "[CV] END ....metric=cosine, n_neighbors=18, weights=distance; total time=   1.7s\n",
      "[CV] END ....metric=cosine, n_neighbors=18, weights=distance; total time=   1.7s\n",
      "[CV] END ....metric=cosine, n_neighbors=18, weights=distance; total time=   1.7s\n",
      "[CV] END .....metric=cosine, n_neighbors=19, weights=uniform; total time=   1.5s\n",
      "[CV] END .....metric=cosine, n_neighbors=19, weights=uniform; total time=   1.6s\n",
      "[CV] END .....metric=cosine, n_neighbors=19, weights=uniform; total time=   1.7s\n",
      "[CV] END .....metric=cosine, n_neighbors=19, weights=uniform; total time=   1.8s\n",
      "[CV] END .....metric=cosine, n_neighbors=19, weights=uniform; total time=   1.7s\n",
      "[CV] END ....metric=cosine, n_neighbors=19, weights=distance; total time=   1.6s\n",
      "[CV] END ....metric=cosine, n_neighbors=19, weights=distance; total time=   1.5s\n",
      "[CV] END ....metric=cosine, n_neighbors=19, weights=distance; total time=   1.6s\n",
      "[CV] END ....metric=cosine, n_neighbors=19, weights=distance; total time=   1.6s\n",
      "[CV] END ....metric=cosine, n_neighbors=19, weights=distance; total time=   1.6s\n",
      "[CV] END .....metric=cosine, n_neighbors=20, weights=uniform; total time=   1.5s\n",
      "[CV] END .....metric=cosine, n_neighbors=20, weights=uniform; total time=   1.6s\n",
      "[CV] END .....metric=cosine, n_neighbors=20, weights=uniform; total time=   1.7s\n",
      "[CV] END .....metric=cosine, n_neighbors=20, weights=uniform; total time=   1.7s\n",
      "[CV] END .....metric=cosine, n_neighbors=20, weights=uniform; total time=   1.7s\n",
      "[CV] END ....metric=cosine, n_neighbors=20, weights=distance; total time=   1.5s\n",
      "[CV] END ....metric=cosine, n_neighbors=20, weights=distance; total time=   1.5s\n",
      "[CV] END ....metric=cosine, n_neighbors=20, weights=distance; total time=   1.8s\n",
      "[CV] END ....metric=cosine, n_neighbors=20, weights=distance; total time=   1.7s\n",
      "[CV] END ....metric=cosine, n_neighbors=20, weights=distance; total time=   1.7s\n",
      "[CV] END .....metric=cosine, n_neighbors=21, weights=uniform; total time=   1.6s\n",
      "[CV] END .....metric=cosine, n_neighbors=21, weights=uniform; total time=   1.5s\n",
      "[CV] END .....metric=cosine, n_neighbors=21, weights=uniform; total time=   1.7s\n",
      "[CV] END .....metric=cosine, n_neighbors=21, weights=uniform; total time=   1.8s\n",
      "[CV] END .....metric=cosine, n_neighbors=21, weights=uniform; total time=   1.7s\n",
      "[CV] END ....metric=cosine, n_neighbors=21, weights=distance; total time=   1.6s\n",
      "[CV] END ....metric=cosine, n_neighbors=21, weights=distance; total time=   1.6s\n",
      "[CV] END ....metric=cosine, n_neighbors=21, weights=distance; total time=   1.7s\n",
      "[CV] END ....metric=cosine, n_neighbors=21, weights=distance; total time=   1.7s\n",
      "[CV] END ....metric=cosine, n_neighbors=21, weights=distance; total time=   1.7s\n",
      "[CV] END .....metric=cosine, n_neighbors=22, weights=uniform; total time=   1.6s\n",
      "[CV] END .....metric=cosine, n_neighbors=22, weights=uniform; total time=   1.5s\n",
      "[CV] END .....metric=cosine, n_neighbors=22, weights=uniform; total time=   1.7s\n",
      "[CV] END .....metric=cosine, n_neighbors=22, weights=uniform; total time=   1.7s\n",
      "[CV] END .....metric=cosine, n_neighbors=22, weights=uniform; total time=   1.8s\n",
      "[CV] END ....metric=cosine, n_neighbors=22, weights=distance; total time=   1.5s\n",
      "[CV] END ....metric=cosine, n_neighbors=22, weights=distance; total time=   1.6s\n",
      "[CV] END ....metric=cosine, n_neighbors=22, weights=distance; total time=   1.7s\n",
      "[CV] END ....metric=cosine, n_neighbors=22, weights=distance; total time=   1.6s\n",
      "[CV] END ....metric=cosine, n_neighbors=22, weights=distance; total time=   1.6s\n",
      "[CV] END .....metric=cosine, n_neighbors=23, weights=uniform; total time=   1.5s\n",
      "[CV] END .....metric=cosine, n_neighbors=23, weights=uniform; total time=   1.5s\n",
      "[CV] END .....metric=cosine, n_neighbors=23, weights=uniform; total time=   1.7s\n",
      "[CV] END .....metric=cosine, n_neighbors=23, weights=uniform; total time=   1.6s\n",
      "[CV] END .....metric=cosine, n_neighbors=23, weights=uniform; total time=   1.7s\n",
      "[CV] END ....metric=cosine, n_neighbors=23, weights=distance; total time=   1.6s\n",
      "[CV] END ....metric=cosine, n_neighbors=23, weights=distance; total time=   1.6s\n",
      "[CV] END ....metric=cosine, n_neighbors=23, weights=distance; total time=   1.7s\n",
      "[CV] END ....metric=cosine, n_neighbors=23, weights=distance; total time=   1.7s\n",
      "[CV] END ....metric=cosine, n_neighbors=23, weights=distance; total time=   1.7s\n",
      "[CV] END .....metric=cosine, n_neighbors=24, weights=uniform; total time=   1.6s\n",
      "[CV] END .....metric=cosine, n_neighbors=24, weights=uniform; total time=   1.6s\n",
      "[CV] END .....metric=cosine, n_neighbors=24, weights=uniform; total time=   1.7s\n",
      "[CV] END .....metric=cosine, n_neighbors=24, weights=uniform; total time=   1.8s\n",
      "[CV] END .....metric=cosine, n_neighbors=24, weights=uniform; total time=   1.7s\n",
      "[CV] END ....metric=cosine, n_neighbors=24, weights=distance; total time=   1.5s\n",
      "[CV] END ....metric=cosine, n_neighbors=24, weights=distance; total time=   1.6s\n",
      "[CV] END ....metric=cosine, n_neighbors=24, weights=distance; total time=   1.7s\n",
      "[CV] END ....metric=cosine, n_neighbors=24, weights=distance; total time=   1.8s\n",
      "[CV] END ....metric=cosine, n_neighbors=24, weights=distance; total time=   1.7s\n"
     ]
    },
    {
     "data": {
      "text/html": [
       "<style>#sk-container-id-4 {color: black;background-color: white;}#sk-container-id-4 pre{padding: 0;}#sk-container-id-4 div.sk-toggleable {background-color: white;}#sk-container-id-4 label.sk-toggleable__label {cursor: pointer;display: block;width: 100%;margin-bottom: 0;padding: 0.3em;box-sizing: border-box;text-align: center;}#sk-container-id-4 label.sk-toggleable__label-arrow:before {content: \"▸\";float: left;margin-right: 0.25em;color: #696969;}#sk-container-id-4 label.sk-toggleable__label-arrow:hover:before {color: black;}#sk-container-id-4 div.sk-estimator:hover label.sk-toggleable__label-arrow:before {color: black;}#sk-container-id-4 div.sk-toggleable__content {max-height: 0;max-width: 0;overflow: hidden;text-align: left;background-color: #f0f8ff;}#sk-container-id-4 div.sk-toggleable__content pre {margin: 0.2em;color: black;border-radius: 0.25em;background-color: #f0f8ff;}#sk-container-id-4 input.sk-toggleable__control:checked~div.sk-toggleable__content {max-height: 200px;max-width: 100%;overflow: auto;}#sk-container-id-4 input.sk-toggleable__control:checked~label.sk-toggleable__label-arrow:before {content: \"▾\";}#sk-container-id-4 div.sk-estimator input.sk-toggleable__control:checked~label.sk-toggleable__label {background-color: #d4ebff;}#sk-container-id-4 div.sk-label input.sk-toggleable__control:checked~label.sk-toggleable__label {background-color: #d4ebff;}#sk-container-id-4 input.sk-hidden--visually {border: 0;clip: rect(1px 1px 1px 1px);clip: rect(1px, 1px, 1px, 1px);height: 1px;margin: -1px;overflow: hidden;padding: 0;position: absolute;width: 1px;}#sk-container-id-4 div.sk-estimator {font-family: monospace;background-color: #f0f8ff;border: 1px dotted black;border-radius: 0.25em;box-sizing: border-box;margin-bottom: 0.5em;}#sk-container-id-4 div.sk-estimator:hover {background-color: #d4ebff;}#sk-container-id-4 div.sk-parallel-item::after {content: \"\";width: 100%;border-bottom: 1px solid gray;flex-grow: 1;}#sk-container-id-4 div.sk-label:hover label.sk-toggleable__label {background-color: #d4ebff;}#sk-container-id-4 div.sk-serial::before {content: \"\";position: absolute;border-left: 1px solid gray;box-sizing: border-box;top: 0;bottom: 0;left: 50%;z-index: 0;}#sk-container-id-4 div.sk-serial {display: flex;flex-direction: column;align-items: center;background-color: white;padding-right: 0.2em;padding-left: 0.2em;position: relative;}#sk-container-id-4 div.sk-item {position: relative;z-index: 1;}#sk-container-id-4 div.sk-parallel {display: flex;align-items: stretch;justify-content: center;background-color: white;position: relative;}#sk-container-id-4 div.sk-item::before, #sk-container-id-4 div.sk-parallel-item::before {content: \"\";position: absolute;border-left: 1px solid gray;box-sizing: border-box;top: 0;bottom: 0;left: 50%;z-index: -1;}#sk-container-id-4 div.sk-parallel-item {display: flex;flex-direction: column;z-index: 1;position: relative;background-color: white;}#sk-container-id-4 div.sk-parallel-item:first-child::after {align-self: flex-end;width: 50%;}#sk-container-id-4 div.sk-parallel-item:last-child::after {align-self: flex-start;width: 50%;}#sk-container-id-4 div.sk-parallel-item:only-child::after {width: 0;}#sk-container-id-4 div.sk-dashed-wrapped {border: 1px dashed gray;margin: 0 0.4em 0.5em 0.4em;box-sizing: border-box;padding-bottom: 0.4em;background-color: white;}#sk-container-id-4 div.sk-label label {font-family: monospace;font-weight: bold;display: inline-block;line-height: 1.2em;}#sk-container-id-4 div.sk-label-container {text-align: center;}#sk-container-id-4 div.sk-container {/* jupyter's `normalize.less` sets `[hidden] { display: none; }` but bootstrap.min.css set `[hidden] { display: none !important; }` so we also need the `!important` here to be able to override the default hidden behavior on the sphinx rendered scikit-learn.org. See: https://github.com/scikit-learn/scikit-learn/issues/21755 */display: inline-block !important;position: relative;}#sk-container-id-4 div.sk-text-repr-fallback {display: none;}</style><div id=\"sk-container-id-4\" class=\"sk-top-container\"><div class=\"sk-text-repr-fallback\"><pre>GridSearchCV(cv=5, estimator=KNeighborsClassifier(),\n",
       "             param_grid=[{&#x27;metric&#x27;: [&#x27;euclidean&#x27;, &#x27;manhattan&#x27;, &#x27;cosine&#x27;],\n",
       "                          &#x27;n_neighbors&#x27;: range(8, 25),\n",
       "                          &#x27;weights&#x27;: [&#x27;uniform&#x27;, &#x27;distance&#x27;]}],\n",
       "             verbose=2)</pre><b>In a Jupyter environment, please rerun this cell to show the HTML representation or trust the notebook. <br />On GitHub, the HTML representation is unable to render, please try loading this page with nbviewer.org.</b></div><div class=\"sk-container\" hidden><div class=\"sk-item sk-dashed-wrapped\"><div class=\"sk-label-container\"><div class=\"sk-label sk-toggleable\"><input class=\"sk-toggleable__control sk-hidden--visually\" id=\"sk-estimator-id-6\" type=\"checkbox\" ><label for=\"sk-estimator-id-6\" class=\"sk-toggleable__label sk-toggleable__label-arrow\">GridSearchCV</label><div class=\"sk-toggleable__content\"><pre>GridSearchCV(cv=5, estimator=KNeighborsClassifier(),\n",
       "             param_grid=[{&#x27;metric&#x27;: [&#x27;euclidean&#x27;, &#x27;manhattan&#x27;, &#x27;cosine&#x27;],\n",
       "                          &#x27;n_neighbors&#x27;: range(8, 25),\n",
       "                          &#x27;weights&#x27;: [&#x27;uniform&#x27;, &#x27;distance&#x27;]}],\n",
       "             verbose=2)</pre></div></div></div><div class=\"sk-parallel\"><div class=\"sk-parallel-item\"><div class=\"sk-item\"><div class=\"sk-label-container\"><div class=\"sk-label sk-toggleable\"><input class=\"sk-toggleable__control sk-hidden--visually\" id=\"sk-estimator-id-7\" type=\"checkbox\" ><label for=\"sk-estimator-id-7\" class=\"sk-toggleable__label sk-toggleable__label-arrow\">estimator: KNeighborsClassifier</label><div class=\"sk-toggleable__content\"><pre>KNeighborsClassifier()</pre></div></div></div><div class=\"sk-serial\"><div class=\"sk-item\"><div class=\"sk-estimator sk-toggleable\"><input class=\"sk-toggleable__control sk-hidden--visually\" id=\"sk-estimator-id-8\" type=\"checkbox\" ><label for=\"sk-estimator-id-8\" class=\"sk-toggleable__label sk-toggleable__label-arrow\">KNeighborsClassifier</label><div class=\"sk-toggleable__content\"><pre>KNeighborsClassifier()</pre></div></div></div></div></div></div></div></div></div></div>"
      ],
      "text/plain": [
       "GridSearchCV(cv=5, estimator=KNeighborsClassifier(),\n",
       "             param_grid=[{'metric': ['euclidean', 'manhattan', 'cosine'],\n",
       "                          'n_neighbors': range(8, 25),\n",
       "                          'weights': ['uniform', 'distance']}],\n",
       "             verbose=2)"
      ]
     },
     "execution_count": 12,
     "metadata": {},
     "output_type": "execute_result"
    }
   ],
   "source": [
    "param_grid = [{\n",
    "    'weights': [\"uniform\", \"distance\"],\n",
    "    'n_neighbors': range(8, 25),\n",
    "    'metric':['euclidean', 'manhattan', 'cosine']}]\n",
    "\n",
    "knn_clf = KNeighborsClassifier()\n",
    "grid_search = GridSearchCV(knn_clf, param_grid, cv=5, verbose=2)\n",
    "grid_search.fit(x_train, y_train)"
   ]
  },
  {
   "cell_type": "code",
   "execution_count": 13,
   "metadata": {
    "scrolled": true
   },
   "outputs": [
    {
     "data": {
      "text/html": [
       "<style>#sk-container-id-5 {color: black;background-color: white;}#sk-container-id-5 pre{padding: 0;}#sk-container-id-5 div.sk-toggleable {background-color: white;}#sk-container-id-5 label.sk-toggleable__label {cursor: pointer;display: block;width: 100%;margin-bottom: 0;padding: 0.3em;box-sizing: border-box;text-align: center;}#sk-container-id-5 label.sk-toggleable__label-arrow:before {content: \"▸\";float: left;margin-right: 0.25em;color: #696969;}#sk-container-id-5 label.sk-toggleable__label-arrow:hover:before {color: black;}#sk-container-id-5 div.sk-estimator:hover label.sk-toggleable__label-arrow:before {color: black;}#sk-container-id-5 div.sk-toggleable__content {max-height: 0;max-width: 0;overflow: hidden;text-align: left;background-color: #f0f8ff;}#sk-container-id-5 div.sk-toggleable__content pre {margin: 0.2em;color: black;border-radius: 0.25em;background-color: #f0f8ff;}#sk-container-id-5 input.sk-toggleable__control:checked~div.sk-toggleable__content {max-height: 200px;max-width: 100%;overflow: auto;}#sk-container-id-5 input.sk-toggleable__control:checked~label.sk-toggleable__label-arrow:before {content: \"▾\";}#sk-container-id-5 div.sk-estimator input.sk-toggleable__control:checked~label.sk-toggleable__label {background-color: #d4ebff;}#sk-container-id-5 div.sk-label input.sk-toggleable__control:checked~label.sk-toggleable__label {background-color: #d4ebff;}#sk-container-id-5 input.sk-hidden--visually {border: 0;clip: rect(1px 1px 1px 1px);clip: rect(1px, 1px, 1px, 1px);height: 1px;margin: -1px;overflow: hidden;padding: 0;position: absolute;width: 1px;}#sk-container-id-5 div.sk-estimator {font-family: monospace;background-color: #f0f8ff;border: 1px dotted black;border-radius: 0.25em;box-sizing: border-box;margin-bottom: 0.5em;}#sk-container-id-5 div.sk-estimator:hover {background-color: #d4ebff;}#sk-container-id-5 div.sk-parallel-item::after {content: \"\";width: 100%;border-bottom: 1px solid gray;flex-grow: 1;}#sk-container-id-5 div.sk-label:hover label.sk-toggleable__label {background-color: #d4ebff;}#sk-container-id-5 div.sk-serial::before {content: \"\";position: absolute;border-left: 1px solid gray;box-sizing: border-box;top: 0;bottom: 0;left: 50%;z-index: 0;}#sk-container-id-5 div.sk-serial {display: flex;flex-direction: column;align-items: center;background-color: white;padding-right: 0.2em;padding-left: 0.2em;position: relative;}#sk-container-id-5 div.sk-item {position: relative;z-index: 1;}#sk-container-id-5 div.sk-parallel {display: flex;align-items: stretch;justify-content: center;background-color: white;position: relative;}#sk-container-id-5 div.sk-item::before, #sk-container-id-5 div.sk-parallel-item::before {content: \"\";position: absolute;border-left: 1px solid gray;box-sizing: border-box;top: 0;bottom: 0;left: 50%;z-index: -1;}#sk-container-id-5 div.sk-parallel-item {display: flex;flex-direction: column;z-index: 1;position: relative;background-color: white;}#sk-container-id-5 div.sk-parallel-item:first-child::after {align-self: flex-end;width: 50%;}#sk-container-id-5 div.sk-parallel-item:last-child::after {align-self: flex-start;width: 50%;}#sk-container-id-5 div.sk-parallel-item:only-child::after {width: 0;}#sk-container-id-5 div.sk-dashed-wrapped {border: 1px dashed gray;margin: 0 0.4em 0.5em 0.4em;box-sizing: border-box;padding-bottom: 0.4em;background-color: white;}#sk-container-id-5 div.sk-label label {font-family: monospace;font-weight: bold;display: inline-block;line-height: 1.2em;}#sk-container-id-5 div.sk-label-container {text-align: center;}#sk-container-id-5 div.sk-container {/* jupyter's `normalize.less` sets `[hidden] { display: none; }` but bootstrap.min.css set `[hidden] { display: none !important; }` so we also need the `!important` here to be able to override the default hidden behavior on the sphinx rendered scikit-learn.org. See: https://github.com/scikit-learn/scikit-learn/issues/21755 */display: inline-block !important;position: relative;}#sk-container-id-5 div.sk-text-repr-fallback {display: none;}</style><div id=\"sk-container-id-5\" class=\"sk-top-container\"><div class=\"sk-text-repr-fallback\"><pre>KNeighborsClassifier(metric=&#x27;cosine&#x27;, n_neighbors=19)</pre><b>In a Jupyter environment, please rerun this cell to show the HTML representation or trust the notebook. <br />On GitHub, the HTML representation is unable to render, please try loading this page with nbviewer.org.</b></div><div class=\"sk-container\" hidden><div class=\"sk-item\"><div class=\"sk-estimator sk-toggleable\"><input class=\"sk-toggleable__control sk-hidden--visually\" id=\"sk-estimator-id-9\" type=\"checkbox\" checked><label for=\"sk-estimator-id-9\" class=\"sk-toggleable__label sk-toggleable__label-arrow\">KNeighborsClassifier</label><div class=\"sk-toggleable__content\"><pre>KNeighborsClassifier(metric=&#x27;cosine&#x27;, n_neighbors=19)</pre></div></div></div></div></div>"
      ],
      "text/plain": [
       "KNeighborsClassifier(metric='cosine', n_neighbors=19)"
      ]
     },
     "execution_count": 13,
     "metadata": {},
     "output_type": "execute_result"
    }
   ],
   "source": [
    "grid_search.best_estimator_"
   ]
  },
  {
   "cell_type": "markdown",
   "metadata": {},
   "source": [
    "### This time the best hype parameter for n_neighbors is 19, which is not a boundary value for the range. We make sure that this is the best hype parameter"
   ]
  },
  {
   "cell_type": "markdown",
   "metadata": {},
   "source": [
    "Fit the model with the best hype parameters where the weights is the default value 'uniform'"
   ]
  },
  {
   "cell_type": "code",
   "execution_count": 14,
   "metadata": {},
   "outputs": [
    {
     "name": "stdout",
     "output_type": "stream",
     "text": [
      "Train accuracy of kNN 0.7985416666666667\n",
      "Test accuracy of kNN 0.7945\n"
     ]
    }
   ],
   "source": [
    "knn_clf = KNeighborsClassifier(metric='cosine', n_neighbors=19, weights='uniform')\n",
    "knn_clf.fit(x_train, y_train)\n",
    "y_train_pred = knn_clf.predict(x_train)\n",
    "y_test_pred = knn_clf.predict(x_test)\n",
    "print('Train accuracy of kNN', accuracy(y_train, y_train_pred))\n",
    "print('Test accuracy of kNN', accuracy(y_test, y_test_pred))"
   ]
  },
  {
   "cell_type": "markdown",
   "metadata": {},
   "source": [
    "### Next, let us plot the performance of different models to directly show the comparison\n",
    "\n",
    "### It is noted that after selecting the best hype parameters by using GridsearchCV, the accuracy is improved slightly"
   ]
  },
  {
   "cell_type": "code",
   "execution_count": 15,
   "metadata": {},
   "outputs": [
    {
     "data": {
      "image/png": "[encoded data removed]",
      "text/plain": [
       "<Figure size 432x288 with 1 Axes>"
      ]
     },
     "metadata": {
      "needs_background": "light"
     },
     "output_type": "display_data"
    }
   ],
   "source": [
    "import matplotlib.pyplot as plt\n",
    "import numpy as np\n",
    "models = np.array(['KNN(n_neighbors=3, metric=\\'euclidean\\')',\n",
    "                   'KNN(n_neighbors=4, metric=\\'cosine\\')',\n",
    "                   'KNN(n_neighbors=10, metric=\\'cosine\\')',\n",
    "                   'KNN(n_neighbors=19, metric=\\'cosine\\')'])\n",
    "accuracy = np.array([0.744,0.7907,0.7942,0.7945])\n",
    "colors = ['b', 'b', 'b', 'r']\n",
    "plt.bar(models, accuracy, color=colors)\n",
    "plt.xticks(np.arange(len(models)), models,rotation=90)\n",
    "plt.ylim(0.70, 0.85)\n",
    "plt.xlabel('Model')\n",
    "plt.ylabel('Accuracy')\n",
    "for i, v in enumerate(accuracy):\n",
    "    plt.text(i, v+0.001, str(v), ha='center', fontsize=10)\n",
    "plt.show()"
   ]
  },
  {
   "cell_type": "markdown",
   "metadata": {},
   "source": [
    "### In conclusion, we find the best model, KNN(n_neighbors=19, metric='cosine'), with the best accuracy by using the GridsearchCV, which helps us to find the best hype parameter and perform cross validation"
   ]
  },
  {
   "cell_type": "markdown",
   "metadata": {},
   "source": [
    "# Save KNN model for future use"
   ]
  },
  {
   "cell_type": "markdown",
   "metadata": {},
   "source": [
    "By saving the KNN model to a file, we can reuse it later to make predictions on new, unseen data without having to retrain the model from scratch."
   ]
  },
  {
   "cell_type": "code",
   "execution_count": 16,
   "metadata": {},
   "outputs": [],
   "source": [
    "import pickle\n",
    "with open(\"Instance_based.sav\", \"wb\") as f:\n",
    "    pickle.dump(knn_clf, f)\n",
    "    f.close()"
   ]
  }
 ],
 "metadata": {
  "kernelspec": {
   "display_name": "Python 3 (ipykernel)",
   "language": "python",
   "name": "python3"
  },
  "language_info": {
   "codemirror_mode": {
    "name": "ipython",
    "version": 3
   },
   "file_extension": ".py",
   "mimetype": "text/x-python",
   "name": "python",
   "nbconvert_exporter": "python",
   "pygments_lexer": "ipython3",
   "version": "3.9.12"
  }
 },
 "nbformat": 4,
 "nbformat_minor": 4
}
