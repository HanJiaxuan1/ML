{
 "cells": [
  {
   "cell_type": "markdown",
   "id": "c1a420fc",
   "metadata": {},
   "source": [
    "# CEGE0004: Assignment 1\n",
    "# Final Performance Comparison\n",
    "In this notebook we will compare the performance of different models"
   ]
  },
  {
   "cell_type": "markdown",
   "id": "b3972143",
   "metadata": {},
   "source": [
    "## Start working by importing the required packages"
   ]
  },
  {
   "cell_type": "code",
   "execution_count": 1,
   "id": "5bd68cbc",
   "metadata": {},
   "outputs": [],
   "source": [
    "import pandas as pd\n",
    "import numpy as np\n",
    "from sklearn.naive_bayes import GaussianNB\n",
    "from sklearn.feature_extraction.text import CountVectorizer\n",
    "from matplotlib import pyplot as plt\n",
    "from sklearn.metrics import classification_report\n",
    "from sklearn.metrics import accuracy_score\n",
    "from sklearn.ensemble import BaggingClassifier\n",
    "from sklearn.tree import DecisionTreeClassifier\n",
    "from sklearn.neural_network import MLPClassifier\n",
    "from sklearn.model_selection import train_test_split, GridSearchCV\n",
    "from sklearn.preprocessing import StandardScaler\n",
    "from sklearn.neighbors import KNeighborsClassifier\n",
    "import pickle\n",
    "import matplotlib.pyplot as plt"
   ]
  },
  {
   "cell_type": "markdown",
   "id": "bad0b3a7",
   "metadata": {},
   "source": [
    "## Load Models"
   ]
  },
  {
   "cell_type": "code",
   "execution_count": 2,
   "id": "f79458c8",
   "metadata": {
    "scrolled": true
   },
   "outputs": [],
   "source": [
    "with open(\"DecisionTree.sav\", \"rb\") as f:\n",
    "    decision_tree = pickle.load(f)\n",
    "\n",
    "with open(\"gaussion_nb.sav\", \"rb\") as f:\n",
    "    bayesian_learning = pickle.load(f)\n",
    "\n",
    "with open(\"ensemble.sav\", \"rb\") as f:\n",
    "    ensemble = pickle.load(f)\n",
    "    \n",
    "with open(\"Instance_based.sav\", \"rb\") as f:\n",
    "    knn = pickle.load(f)\n",
    "\n",
    "with open(\"MLP_sklearn.sav\", \"rb\") as f:\n",
    "    MLP = pickle.load(f)"
   ]
  },
  {
   "cell_type": "markdown",
   "id": "63b58270",
   "metadata": {},
   "source": [
    "## Load Dataset"
   ]
  },
  {
   "cell_type": "code",
   "execution_count": 3,
   "id": "4e942049",
   "metadata": {},
   "outputs": [],
   "source": [
    "x_test = pd.read_csv(\"x_test.csv\")\n",
    "y_test = pd.read_csv(\"y_test.csv\")"
   ]
  },
  {
   "cell_type": "markdown",
   "id": "ae7631d1",
   "metadata": {},
   "source": [
    "## Define a function to calculate accuracy"
   ]
  },
  {
   "cell_type": "code",
   "execution_count": 4,
   "id": "3616bc68",
   "metadata": {},
   "outputs": [],
   "source": [
    "def accuracy(ys, ys_hat):\n",
    "    res = 0\n",
    "    for y, y_hat in zip(ys, ys_hat):\n",
    "        if y == y_hat:\n",
    "            res += 1\n",
    "    res /= len(ys)\n",
    "    return res"
   ]
  },
  {
   "cell_type": "markdown",
   "id": "0961ed2e",
   "metadata": {},
   "source": [
    "## Predict the result to see the performance of different models"
   ]
  },
  {
   "cell_type": "markdown",
   "id": "52bc7174",
   "metadata": {},
   "source": [
    "## Decision Tree"
   ]
  },
  {
   "cell_type": "code",
   "execution_count": 5,
   "id": "bc8ff561",
   "metadata": {
    "scrolled": true
   },
   "outputs": [
    {
     "name": "stdout",
     "output_type": "stream",
     "text": [
      "Test accuracy of Desision Tree is 0.8263333333333334\n"
     ]
    }
   ],
   "source": [
    "y_pred = decision_tree.predict(x_test)\n",
    "score = accuracy_score(y_pred, y_test)\n",
    "print('Test accuracy of Desision Tree is '+ str(score))"
   ]
  },
  {
   "cell_type": "markdown",
   "id": "a278fbdf",
   "metadata": {},
   "source": [
    "### The accuracy of DecisionTreeClassifier(max_depth=3,criterion='gini') is 82.6%"
   ]
  },
  {
   "cell_type": "markdown",
   "id": "b69a5b5e",
   "metadata": {},
   "source": [
    "## Instance Based"
   ]
  },
  {
   "cell_type": "code",
   "execution_count": 6,
   "id": "5519c359",
   "metadata": {
    "scrolled": true
   },
   "outputs": [
    {
     "name": "stdout",
     "output_type": "stream",
     "text": [
      "Test accuracy of kNN 0.7945\n"
     ]
    }
   ],
   "source": [
    "y_test = np.ravel(y_test)\n",
    "y_test_pred_knn = knn.predict(x_test)\n",
    "print('Test accuracy of kNN', accuracy(y_test, y_test_pred_knn))"
   ]
  },
  {
   "cell_type": "markdown",
   "id": "a4d95071",
   "metadata": {},
   "source": [
    "### The accuracy of KNeighborsClassifier(metric='cosine', n_neighbors=19, weights='uniform') is 79.45%"
   ]
  },
  {
   "cell_type": "markdown",
   "id": "da6ba898",
   "metadata": {},
   "source": [
    "## Model Ensembles\n",
    "The following code is some data process for Model Ensembles"
   ]
  },
  {
   "cell_type": "code",
   "execution_count": 7,
   "id": "439dd214",
   "metadata": {},
   "outputs": [],
   "source": [
    "x_test = x_test.replace({'EDUCATION':{0:4, 5:4, 6:4}})\n",
    "x_test = x_test.replace({'PAY_0':{-2:-1, 0:-1}})\n",
    "x_test = x_test.replace({'PAY_2':{-2:-1, 0:-1}})\n",
    "x_test = x_test.replace({'PAY_3':{-2:-1, 0:-1}})\n",
    "x_test = x_test.replace({'PAY_4':{-2:-1, 0:-1}})\n",
    "x_test = x_test.replace({'PAY_5':{-2:-1, 0:-1}})\n",
    "x_test = x_test.replace({'PAY_6':{-2:-1, 0:-1}})\n",
    "x_test = pd.get_dummies(x_test, columns=['SEX', 'EDUCATION'])"
   ]
  },
  {
   "cell_type": "markdown",
   "id": "36d1878a",
   "metadata": {},
   "source": [
    "Show the prediction result of Model Ensembles"
   ]
  },
  {
   "cell_type": "code",
   "execution_count": 8,
   "id": "f642f154",
   "metadata": {
    "scrolled": true
   },
   "outputs": [
    {
     "name": "stdout",
     "output_type": "stream",
     "text": [
      "Test accuracy of Model Ensembles is 0.8283333333333334\n"
     ]
    }
   ],
   "source": [
    "y_pred = ensemble.predict(x_test)\n",
    "best_bagging_accuracy = accuracy_score(y_test, y_pred)\n",
    "print('Test accuracy of Model Ensembles is '+ str(best_bagging_accuracy))"
   ]
  },
  {
   "cell_type": "markdown",
   "id": "e2c8eb6a",
   "metadata": {},
   "source": [
    "### The accuracy of Model Ensembles is 82.83%"
   ]
  },
  {
   "cell_type": "markdown",
   "id": "144e9482",
   "metadata": {},
   "source": [
    "## Bayesian Learning\n",
    "The following code is some data process for Bayesian Learning"
   ]
  },
  {
   "cell_type": "code",
   "execution_count": 9,
   "id": "1f6fef5a",
   "metadata": {},
   "outputs": [],
   "source": [
    "x_train = pd.read_csv(\"x_train.csv\") # to get the age range of x_train['age'] and vectorizer.fit_transform\n",
    "x_test = pd.read_csv(\"x_test.csv\") # reload the test set as it is changed in the model ensembles algorithm\n",
    "y_test = pd.read_csv(\"y_test.csv\") # reload the y test set as it is changed in the model ensembles algorithm\n",
    "x_train[\"LIMIT_BAL_NOR\"] = x_train.apply(lambda x: \"high\" if x[\"LIMIT_BAL\"] >= -0.65 else \"low\", axis = 1)\n",
    "x_test[\"LIMIT_BAL_NOR\"] = x_test.apply(lambda x: \"high\" if x[\"LIMIT_BAL\"] >= -0.65 else \"low\", axis = 1)\n",
    "x_train[\"SEX\"] = x_train.apply(lambda x: \"male\" if x[\"SEX\"] == 1 else \"female\", axis = 1)\n",
    "x_test[\"SEX\"] = x_test.apply(lambda x: \"male\" if x[\"SEX\"] == 1 else \"female\", axis = 1)\n",
    "x_train[\"EDUCATION\"] = x_train.apply(lambda x: \"graduate\" if x[\"EDUCATION\"] == 1\n",
    "else (\"university\" if x[\"EDUCATION\"] == 2\n",
    "      else (\"high\" if x[\"EDUCATION\"] == 3\n",
    "            else \"others\")), axis = 1)\n",
    "x_test[\"EDUCATION\"] = x_test.apply(lambda x: \"graduate\" if x[\"EDUCATION\"] == 1\n",
    "else (\"university\" if x[\"EDUCATION\"] == 2\n",
    "      else (\"high\" if x[\"EDUCATION\"] == 3\n",
    "            else \"others\")), axis = 1)\n",
    "x_train[\"MARRIAGE\"] = x_train.apply(lambda x: \"married\" if x[\"MARRIAGE\"] == 1\n",
    "else (\"single\" if x[\"MARRIAGE\"] == 2\n",
    "      else \"others\"), axis = 1)\n",
    "x_test[\"MARRIAGE\"] = x_test.apply(lambda x: \"married\" if x[\"MARRIAGE\"] == 1\n",
    "else (\"single\" if x[\"MARRIAGE\"] == 2\n",
    "      else \"others\"), axis = 1)\n",
    "age_categories = x_train[\"AGE\"].unique()\n",
    "one_level = int((age_categories.max()-age_categories.min())/10)\n",
    "level = 1\n",
    "for i in range(age_categories.min(),age_categories.max(),one_level):\n",
    "    x_train[\"AGE_LEVEL\"+str(level)] = x_train.apply(lambda x: \"AGE_LEVEL\"+str(level) if i <= x[\"AGE\"] < i+one_level else \"\", axis = 1)\n",
    "    x_test[\"AGE_LEVEL\"+str(level)] = x_test.apply(lambda x: \"AGE_LEVEL\"+str(level) if i <= x[\"AGE\"] < i+one_level else \"\", axis = 1)\n",
    "    level += 1\n",
    "def f(x):\n",
    "    x = int(x)\n",
    "    if x <= 0:\n",
    "        return \"duly\"\n",
    "    elif x == 1:\n",
    "        return \"one delay\"\n",
    "    elif x == 2:\n",
    "        return \"two delay\"\n",
    "    elif x == 3:\n",
    "        return \"three delay\"\n",
    "    elif x == 4:\n",
    "        return \"four delay\"\n",
    "    elif x == 5:\n",
    "        return \"five delay\"\n",
    "    elif x == 6:\n",
    "        return \"six delay\"\n",
    "    elif x == 7:\n",
    "        return \"seven delay\"\n",
    "    elif x == 8:\n",
    "        return \"eight delay\"\n",
    "    else:\n",
    "        return \"nine delay\"\n",
    "x_train[\"PAY_0\"] = x_train[\"PAY_0\"].apply(lambda x: f(x))\n",
    "x_train[\"PAY_2\"] = x_train[\"PAY_2\"].apply(lambda x: f(x))\n",
    "x_train[\"PAY_3\"] = x_train[\"PAY_3\"].apply(lambda x: f(x))\n",
    "x_train[\"PAY_4\"] = x_train[\"PAY_4\"].apply(lambda x: f(x))\n",
    "x_train[\"PAY_5\"] = x_train[\"PAY_5\"].apply(lambda x: f(x))\n",
    "x_train[\"PAY_6\"] = x_train[\"PAY_6\"].apply(lambda x: f(x))\n",
    "x_test[\"PAY_0\"] = x_test[\"PAY_0\"].apply(lambda x: f(x))\n",
    "x_test[\"PAY_2\"] = x_test[\"PAY_2\"].apply(lambda x: f(x))\n",
    "x_test[\"PAY_3\"] = x_test[\"PAY_3\"].apply(lambda x: f(x))\n",
    "x_test[\"PAY_4\"] = x_test[\"PAY_4\"].apply(lambda x: f(x))\n",
    "x_test[\"PAY_5\"] = x_test[\"PAY_5\"].apply(lambda x: f(x))\n",
    "x_test[\"PAY_6\"] = x_test[\"PAY_6\"].apply(lambda x: f(x))\n",
    "x_train[\"PAY_BILL_2\"] = x_train.apply(lambda x: \"duly_pay\" if x[\"BILL_AMT2\"] <= x[\"PAY_AMT1\"] else \"delay_pay\", axis = 1)\n",
    "x_train[\"PAY_BILL_3\"] = x_train.apply(lambda x: \"duly_pay\" if x[\"BILL_AMT3\"] <= x[\"PAY_AMT2\"] else \"delay_pay\", axis = 1)\n",
    "x_train[\"PAY_BILL_4\"] = x_train.apply(lambda x: \"duly_pay\" if x[\"BILL_AMT4\"] <= x[\"PAY_AMT3\"] else \"delay_pay\", axis = 1)\n",
    "x_train[\"PAY_BILL_5\"] = x_train.apply(lambda x: \"duly_pay\" if x[\"BILL_AMT5\"] <= x[\"PAY_AMT4\"] else \"delay_pay\", axis = 1)\n",
    "x_train[\"PAY_BILL_6\"] = x_train.apply(lambda x: \"duly_pay\" if x[\"BILL_AMT6\"] <= x[\"PAY_AMT5\"] else \"delay_pay\", axis = 1)\n",
    "x_test[\"PAY_BILL_2\"] = x_test.apply(lambda x: \"duly_pay\" if x[\"BILL_AMT2\"] <= x[\"PAY_AMT1\"] else \"delay_pay\", axis = 1)\n",
    "x_test[\"PAY_BILL_3\"] = x_test.apply(lambda x: \"duly_pay\" if x[\"BILL_AMT3\"] <= x[\"PAY_AMT2\"] else \"delay_pay\", axis = 1)\n",
    "x_test[\"PAY_BILL_4\"] = x_test.apply(lambda x: \"duly_pay\" if x[\"BILL_AMT4\"] <= x[\"PAY_AMT3\"] else \"delay_pay\", axis = 1)\n",
    "x_test[\"PAY_BILL_5\"] = x_test.apply(lambda x: \"duly_pay\" if x[\"BILL_AMT5\"] <= x[\"PAY_AMT4\"] else \"delay_pay\", axis = 1)\n",
    "x_test[\"PAY_BILL_6\"] = x_test.apply(lambda x: \"duly_pay\" if x[\"BILL_AMT6\"] <= x[\"PAY_AMT5\"] else \"delay_pay\", axis = 1)"
   ]
  },
  {
   "cell_type": "markdown",
   "id": "bfa2eca2",
   "metadata": {},
   "source": [
    "Show the prediction result of GaussianNB(priors=None, var_smoothing=0.7)"
   ]
  },
  {
   "cell_type": "code",
   "execution_count": 10,
   "id": "94b24c04",
   "metadata": {},
   "outputs": [
    {
     "name": "stdout",
     "output_type": "stream",
     "text": [
      "              precision    recall  f1-score   support\n",
      "\n",
      "           0       0.83      0.95      0.89      4703\n",
      "           1       0.63      0.28      0.39      1297\n",
      "\n",
      "    accuracy                           0.81      6000\n",
      "   macro avg       0.73      0.62      0.64      6000\n",
      "weighted avg       0.78      0.81      0.78      6000\n",
      "\n",
      "Test accuracy of Bayesion Learning is 81%\n"
     ]
    }
   ],
   "source": [
    "x_train = x_train.drop(x_train.columns[[0,4,11,12,13,14,15,16,17,18,19,20,21,22]], axis=1)\n",
    "x_test = x_test.drop(x_test.columns[[0,4,11,12,13,14,15,16,17,18,19,20,21,22]], axis=1)\n",
    "x_train[\"all columns\"] = x_train[x_train.columns[0:]].apply(lambda x: \" \".join(x.dropna()), axis = 1)\n",
    "x_test[\"all columns\"] = x_test[x_test.columns[0:]].apply(lambda x: \" \".join(x.dropna()), axis = 1)\n",
    "xs_train = x_train[\"all columns\"].values\n",
    "xs_test = x_test[\"all columns\"].values\n",
    "ys_test = y_test.values.reshape(-1)\n",
    "vectorizer = CountVectorizer()\n",
    "xs_train_prep = vectorizer.fit_transform(xs_train)\n",
    "xs_test_prep = vectorizer.transform(xs_test)\n",
    "ys_test_pred = bayesian_learning.predict(np.asarray(xs_test_prep.todense()))\n",
    "print(classification_report(ys_test, ys_test_pred))\n",
    "print('Test accuracy of Bayesion Learning is 81%')"
   ]
  },
  {
   "cell_type": "markdown",
   "id": "96d99076",
   "metadata": {},
   "source": [
    "### The accuracy of GaussianNB(priors=None, var_smoothing=0.7) is 81%"
   ]
  },
  {
   "cell_type": "markdown",
   "id": "cd5ef2c4",
   "metadata": {},
   "source": [
    "## Neural Networks\n",
    "The following code is some data process for Neural Networks"
   ]
  },
  {
   "cell_type": "code",
   "execution_count": 11,
   "id": "a3dcb906",
   "metadata": {},
   "outputs": [
    {
     "name": "stdout",
     "output_type": "stream",
     "text": [
      "Accuracy: 0.827\n"
     ]
    }
   ],
   "source": [
    "x_train = pd.read_csv(\"x_train.csv\")\n",
    "x_test = pd.read_csv(\"x_test.csv\") \n",
    "y_test = pd.read_csv(\"y_test.csv\") \n",
    "\n",
    "# Standardize the input features\n",
    "scaler = StandardScaler()\n",
    "x_train = scaler.fit_transform(x_train)\n",
    "x_test = scaler.transform(x_test)\n",
    "\n",
    "# Use the loaded model for prediction\n",
    "y_pred = MLP.predict(x_test)\n",
    "\n",
    "# Calculate the accuracy of the classifier\n",
    "accuracy = accuracy_score(y_test, y_pred)\n",
    "print(f\"Accuracy: {accuracy:.3f}\")"
   ]
  },
  {
   "cell_type": "markdown",
   "id": "e0823a24",
   "metadata": {},
   "source": [
    "### The accuracy of MLPClassifier(hidden_layer_sizes=(20, 20), learning_rate_init=0.0001, solver=adam, activation=tanh) is 82.65%"
   ]
  },
  {
   "cell_type": "markdown",
   "id": "631f2f85",
   "metadata": {},
   "source": [
    "## Compare the performance of different models"
   ]
  },
  {
   "cell_type": "code",
   "execution_count": 12,
   "id": "bc5b96e5",
   "metadata": {},
   "outputs": [],
   "source": [
    "models = np.array(['DecisionTree',\n",
    "                   'Bayesion Learning',\n",
    "                   'KNN',\n",
    "                   'Model Ensembles', 'MLP'])\n",
    "accuracy = np.array([0.826,0.81,0.7945, 0.8283, 0.8265])\n",
    "colors = ['b', 'b', 'b', 'r', 'b']"
   ]
  },
  {
   "cell_type": "code",
   "execution_count": 13,
   "id": "9f748f95",
   "metadata": {},
   "outputs": [
    {
     "data": {
      "image/png": "[encoded data removed]",
      "text/plain": [
       "<Figure size 640x480 with 1 Axes>"
      ]
     },
     "metadata": {},
     "output_type": "display_data"
    }
   ],
   "source": [
    "plt.bar(models, accuracy, color=colors)\n",
    "plt.xticks(np.arange(len(models)), models, rotation=45)\n",
    "plt.ylim(0.75, 0.9)\n",
    "plt.xlabel('Model')\n",
    "plt.ylabel('Accuracy')\n",
    "for i, v in enumerate(accuracy):\n",
    "    plt.text(i, v+0.001, str(v), ha='center', fontsize=10)\n",
    "plt.show()"
   ]
  },
  {
   "cell_type": "markdown",
   "id": "eb7d3b24",
   "metadata": {},
   "source": [
    "As you can see here, the best model for this dataset is Model Ensembles, with the accuracy of 82.83%. This is not a very high accuracy rate when compared to excellent machine learning prediction models. The reason could be the low quality of the dataset especially the column 12 to 23, as discussed in the Bayesian Learning part. Admittedly, this project is not perfect and could be further optimized. However, it still provides valuable suggestions for future studies. Specifically, in terms of model optimisation and parameter selection, it is valuable to use GridsearchCV to find the best hype parameters and perform cross-validation. In terms of the model selection for credit card dataset, the Model Ensembles could be a good choice"
   ]
  }
 ],
 "metadata": {
  "kernelspec": {
   "display_name": "pytorch",
   "language": "python",
   "name": "pytorch"
  },
  "language_info": {
   "codemirror_mode": {
    "name": "ipython",
    "version": 3
   },
   "file_extension": ".py",
   "mimetype": "text/x-python",
   "name": "python",
   "nbconvert_exporter": "python",
   "pygments_lexer": "ipython3",
   "version": "3.9.16"
  }
 },
 "nbformat": 4,
 "nbformat_minor": 5
}
