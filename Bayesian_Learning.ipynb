{
 "cells": [
  {
   "cell_type": "markdown",
   "id": "c1a420fc",
   "metadata": {},
   "source": [
    "# CEGE0004: Assignment 1\n",
    "# Bayesian Learning\n",
    "In this notebook I will implement the Naive Bayes classifier in scikit-learn and predict the default of credit card client."
   ]
  },
  {
   "cell_type": "markdown",
   "id": "21459a4e",
   "metadata": {},
   "source": [
    "## The Dataset\n",
    "\n",
    "I am working with the default of credit card clients Data Set from UCI Machine Learning Repository, to to classify and predict customer defaults. The link of dataset is shown below:\n",
    "\n",
    "https://archive.ics.uci.edu/ml/datasets/default+of+credit+card+clients\n",
    "\n",
    "The dataset employes a binary variable, default (Yes = 1, No = 0), as the response variable. At the same time, the following 23 variables are used as explanatory variables:\n",
    "\n",
    "X1: Amount of the given credit: it includes both the individual consumer credit and his/her family credit.\n",
    "\n",
    "X2: Gender (1 = male; 2 = female).\n",
    "\n",
    "X3: Education (1 = graduate school; 2 = university; 3 = high school; 4 = others).\n",
    "\n",
    "X4: Marital status (1 = married; 2 = single; 3 = others).\n",
    "\n",
    "X5: Age (year).\n",
    "\n",
    "X6 - X11: History of past payment from April to September. (e.g. X6 = the repayment status in September; X7 = the repayment status in August; . . .) The measurement scale for the repayment status is: -1 = pay duly; 1 = payment delay for one month; . . .; 9 = payment delay for nine months and above.\n",
    "\n",
    "X12 - X17: Amount of bill statement. (e.g. X12 = amount of bill statement in September; X13 = amount of bill statement in August; . . .).\n",
    "\n",
    "X18 - X23: Amount of previous payment. (e.g. X18 = amount paid in September; X19 = amount paid in August, 2005; . . .)."
   ]
  },
  {
   "cell_type": "markdown",
   "id": "b3972143",
   "metadata": {},
   "source": [
    "## Start working by importing the required packages and dataset"
   ]
  },
  {
   "cell_type": "code",
   "execution_count": 1,
   "id": "5bd68cbc",
   "metadata": {},
   "outputs": [],
   "source": [
    "import pandas as pd\n",
    "import numpy as np\n",
    "from sklearn.naive_bayes import GaussianNB, MultinomialNB, BernoulliNB\n",
    "from sklearn.feature_extraction.text import CountVectorizer\n",
    "import seaborn as sns\n",
    "from matplotlib import pyplot as plt\n",
    "from sklearn.metrics import confusion_matrix\n",
    "from sklearn.model_selection import GridSearchCV\n",
    "from sklearn.metrics import classification_report\n",
    "from sklearn.metrics import accuracy_score"
   ]
  },
  {
   "cell_type": "code",
   "execution_count": 2,
   "id": "4e942049",
   "metadata": {},
   "outputs": [],
   "source": [
    "x_train = pd.read_csv(\"x_train.csv\")\n",
    "x_test = pd.read_csv(\"x_test.csv\")\n",
    "y_train = pd.read_csv(\"y_train.csv\")\n",
    "y_test = pd.read_csv(\"y_test.csv\")"
   ]
  },
  {
   "cell_type": "markdown",
   "id": "0961ed2e",
   "metadata": {},
   "source": [
    "First try to fit model and predict the result without any data process"
   ]
  },
  {
   "cell_type": "markdown",
   "id": "144e9482",
   "metadata": {},
   "source": [
    "Change the data type of all columns to string"
   ]
  },
  {
   "cell_type": "code",
   "execution_count": 3,
   "id": "1f6fef5a",
   "metadata": {},
   "outputs": [],
   "source": [
    "x_train = x_train.astype(str)\n",
    "x_test = x_test.astype(str)"
   ]
  },
  {
   "cell_type": "markdown",
   "id": "69a7d307",
   "metadata": {},
   "source": [
    "Combine all columns"
   ]
  },
  {
   "cell_type": "code",
   "execution_count": 4,
   "id": "4b2b0396",
   "metadata": {},
   "outputs": [],
   "source": [
    "x_train[\"all columns\"] = x_train[x_train.columns[0:]].apply(lambda x: \" \".join(x.dropna()), axis = 1)\n",
    "x_test[\"all columns\"] = x_test[x_test.columns[0:]].apply(lambda x: \" \".join(x.dropna()), axis = 1)"
   ]
  },
  {
   "cell_type": "markdown",
   "id": "67fd4fc0",
   "metadata": {},
   "source": [
    "Get the combination of each row"
   ]
  },
  {
   "cell_type": "code",
   "execution_count": 5,
   "id": "0fedc5a0",
   "metadata": {},
   "outputs": [],
   "source": [
    "xs_train = x_train[\"all columns\"].values\n",
    "xs_test = x_test[\"all columns\"].values"
   ]
  },
  {
   "cell_type": "markdown",
   "id": "25748f75",
   "metadata": {},
   "source": [
    "Change the type of the result column to numpy.ndarray"
   ]
  },
  {
   "cell_type": "code",
   "execution_count": 6,
   "id": "228d6f1b",
   "metadata": {},
   "outputs": [],
   "source": [
    "ys_train = y_train.values.reshape(-1)\n",
    "ys_test = y_test.values.reshape(-1)"
   ]
  },
  {
   "cell_type": "markdown",
   "id": "089e2be0",
   "metadata": {},
   "source": [
    "Use CountVecorizer class in Scikit-learn to convert a collection of texts into a matrix of token counts"
   ]
  },
  {
   "cell_type": "code",
   "execution_count": 7,
   "id": "b0b0f6a8",
   "metadata": {},
   "outputs": [],
   "source": [
    "vectorizer = CountVectorizer()\n",
    "xs_train_prep = vectorizer.fit_transform(xs_train)\n",
    "xs_test_prep = vectorizer.transform(xs_test)"
   ]
  },
  {
   "cell_type": "markdown",
   "id": "5aa4d486",
   "metadata": {},
   "source": [
    "Fit the model with arbitrary parameters"
   ]
  },
  {
   "cell_type": "code",
   "execution_count": 8,
   "id": "0f10ee87",
   "metadata": {},
   "outputs": [
    {
     "name": "stderr",
     "output_type": "stream",
     "text": [
      "D:\\Anaconda\\lib\\site-packages\\sklearn\\naive_bayes.py:629: FutureWarning: The default value for `force_alpha` will change to `True` in 1.4. To suppress this warning, manually set the value of `force_alpha`.\n",
      "  warnings.warn(\n",
      "D:\\Anaconda\\lib\\site-packages\\sklearn\\naive_bayes.py:635: UserWarning: alpha too small will result in numeric errors, setting alpha = 1.0e-10. Use `force_alpha=True` to keep alpha unchanged.\n",
      "  warnings.warn(\n"
     ]
    },
    {
     "data": {
      "text/html": [
       "<style>#sk-container-id-1 {color: black;background-color: white;}#sk-container-id-1 pre{padding: 0;}#sk-container-id-1 div.sk-toggleable {background-color: white;}#sk-container-id-1 label.sk-toggleable__label {cursor: pointer;display: block;width: 100%;margin-bottom: 0;padding: 0.3em;box-sizing: border-box;text-align: center;}#sk-container-id-1 label.sk-toggleable__label-arrow:before {content: \"▸\";float: left;margin-right: 0.25em;color: #696969;}#sk-container-id-1 label.sk-toggleable__label-arrow:hover:before {color: black;}#sk-container-id-1 div.sk-estimator:hover label.sk-toggleable__label-arrow:before {color: black;}#sk-container-id-1 div.sk-toggleable__content {max-height: 0;max-width: 0;overflow: hidden;text-align: left;background-color: #f0f8ff;}#sk-container-id-1 div.sk-toggleable__content pre {margin: 0.2em;color: black;border-radius: 0.25em;background-color: #f0f8ff;}#sk-container-id-1 input.sk-toggleable__control:checked~div.sk-toggleable__content {max-height: 200px;max-width: 100%;overflow: auto;}#sk-container-id-1 input.sk-toggleable__control:checked~label.sk-toggleable__label-arrow:before {content: \"▾\";}#sk-container-id-1 div.sk-estimator input.sk-toggleable__control:checked~label.sk-toggleable__label {background-color: #d4ebff;}#sk-container-id-1 div.sk-label input.sk-toggleable__control:checked~label.sk-toggleable__label {background-color: #d4ebff;}#sk-container-id-1 input.sk-hidden--visually {border: 0;clip: rect(1px 1px 1px 1px);clip: rect(1px, 1px, 1px, 1px);height: 1px;margin: -1px;overflow: hidden;padding: 0;position: absolute;width: 1px;}#sk-container-id-1 div.sk-estimator {font-family: monospace;background-color: #f0f8ff;border: 1px dotted black;border-radius: 0.25em;box-sizing: border-box;margin-bottom: 0.5em;}#sk-container-id-1 div.sk-estimator:hover {background-color: #d4ebff;}#sk-container-id-1 div.sk-parallel-item::after {content: \"\";width: 100%;border-bottom: 1px solid gray;flex-grow: 1;}#sk-container-id-1 div.sk-label:hover label.sk-toggleable__label {background-color: #d4ebff;}#sk-container-id-1 div.sk-serial::before {content: \"\";position: absolute;border-left: 1px solid gray;box-sizing: border-box;top: 0;bottom: 0;left: 50%;z-index: 0;}#sk-container-id-1 div.sk-serial {display: flex;flex-direction: column;align-items: center;background-color: white;padding-right: 0.2em;padding-left: 0.2em;position: relative;}#sk-container-id-1 div.sk-item {position: relative;z-index: 1;}#sk-container-id-1 div.sk-parallel {display: flex;align-items: stretch;justify-content: center;background-color: white;position: relative;}#sk-container-id-1 div.sk-item::before, #sk-container-id-1 div.sk-parallel-item::before {content: \"\";position: absolute;border-left: 1px solid gray;box-sizing: border-box;top: 0;bottom: 0;left: 50%;z-index: -1;}#sk-container-id-1 div.sk-parallel-item {display: flex;flex-direction: column;z-index: 1;position: relative;background-color: white;}#sk-container-id-1 div.sk-parallel-item:first-child::after {align-self: flex-end;width: 50%;}#sk-container-id-1 div.sk-parallel-item:last-child::after {align-self: flex-start;width: 50%;}#sk-container-id-1 div.sk-parallel-item:only-child::after {width: 0;}#sk-container-id-1 div.sk-dashed-wrapped {border: 1px dashed gray;margin: 0 0.4em 0.5em 0.4em;box-sizing: border-box;padding-bottom: 0.4em;background-color: white;}#sk-container-id-1 div.sk-label label {font-family: monospace;font-weight: bold;display: inline-block;line-height: 1.2em;}#sk-container-id-1 div.sk-label-container {text-align: center;}#sk-container-id-1 div.sk-container {/* jupyter's `normalize.less` sets `[hidden] { display: none; }` but bootstrap.min.css set `[hidden] { display: none !important; }` so we also need the `!important` here to be able to override the default hidden behavior on the sphinx rendered scikit-learn.org. See: https://github.com/scikit-learn/scikit-learn/issues/21755 */display: inline-block !important;position: relative;}#sk-container-id-1 div.sk-text-repr-fallback {display: none;}</style><div id=\"sk-container-id-1\" class=\"sk-top-container\"><div class=\"sk-text-repr-fallback\"><pre>MultinomialNB(alpha=0, fit_prior=False)</pre><b>In a Jupyter environment, please rerun this cell to show the HTML representation or trust the notebook. <br />On GitHub, the HTML representation is unable to render, please try loading this page with nbviewer.org.</b></div><div class=\"sk-container\" hidden><div class=\"sk-item\"><div class=\"sk-estimator sk-toggleable\"><input class=\"sk-toggleable__control sk-hidden--visually\" id=\"sk-estimator-id-1\" type=\"checkbox\" checked><label for=\"sk-estimator-id-1\" class=\"sk-toggleable__label sk-toggleable__label-arrow\">MultinomialNB</label><div class=\"sk-toggleable__content\"><pre>MultinomialNB(alpha=0, fit_prior=False)</pre></div></div></div></div></div>"
      ],
      "text/plain": [
       "MultinomialNB(alpha=0, fit_prior=False)"
      ]
     },
     "execution_count": 8,
     "metadata": {},
     "output_type": "execute_result"
    }
   ],
   "source": [
    "multinomial_nb = MultinomialNB(alpha=0, fit_prior=False)\n",
    "multinomial_nb.fit(xs_train_prep, ys_train)"
   ]
  },
  {
   "cell_type": "markdown",
   "id": "70429d68",
   "metadata": {},
   "source": [
    "Perform the prediction and print the accuracy of training set and test set"
   ]
  },
  {
   "cell_type": "code",
   "execution_count": 9,
   "id": "e1df0cec",
   "metadata": {},
   "outputs": [
    {
     "name": "stdout",
     "output_type": "stream",
     "text": [
      "Training accuracy: 0.94075\n",
      "MultinomialNB accuracy (before GridSearchCV): 0.7047\n",
      "              precision    recall  f1-score   support\n",
      "\n",
      "           0       0.80      0.83      0.81      4703\n",
      "           1       0.29      0.25      0.27      1297\n",
      "\n",
      "    accuracy                           0.70      6000\n",
      "   macro avg       0.54      0.54      0.54      6000\n",
      "weighted avg       0.69      0.70      0.70      6000\n",
      "\n"
     ]
    }
   ],
   "source": [
    "ys_train_pred = multinomial_nb.predict(xs_train_prep)\n",
    "accuracy_train = accuracy_score(ys_train, ys_train_pred)\n",
    "print('Training accuracy:', accuracy_train)\n",
    "ys_test_pred = multinomial_nb.predict(xs_test_prep)\n",
    "accuracy = accuracy_score(ys_test, ys_test_pred)\n",
    "print(f\"MultinomialNB accuracy (before GridSearchCV): {accuracy:.4f}\")\n",
    "print(classification_report(ys_test, ys_test_pred))"
   ]
  },
  {
   "cell_type": "markdown",
   "id": "fdd9c6be",
   "metadata": {},
   "source": [
    "As you can see here, the accuracy of training set is 94.08% and the accuracy of test set is only 70.47%"
   ]
  },
  {
   "cell_type": "markdown",
   "id": "6bebdc7b",
   "metadata": {},
   "source": [
    "Next, let us add some data process and use GridsearchCV to see if the accuracy could be improved"
   ]
  },
  {
   "cell_type": "markdown",
   "id": "4835f9a1",
   "metadata": {},
   "source": [
    "## Data processing and preparation"
   ]
  },
  {
   "cell_type": "markdown",
   "id": "1ec7bac7",
   "metadata": {},
   "source": [
    "Load the dataset again to keep the origin type of each column"
   ]
  },
  {
   "cell_type": "code",
   "execution_count": 10,
   "id": "85f503ea",
   "metadata": {},
   "outputs": [],
   "source": [
    "x_train = pd.read_csv(\"x_train.csv\")\n",
    "x_test = pd.read_csv(\"x_test.csv\")\n",
    "y_train = pd.read_csv(\"y_train.csv\")\n",
    "y_test = pd.read_csv(\"y_test.csv\")"
   ]
  },
  {
   "cell_type": "markdown",
   "id": "4391ab30",
   "metadata": {},
   "source": [
    "Classify \"LIMIT_BAL_NOR\" column as the \"high\" category if the amount is greater than 100000 (corresponding to about -0.65 after standardisation), otherwise it is the \"low\" category"
   ]
  },
  {
   "cell_type": "code",
   "execution_count": 11,
   "id": "1d8f87f4",
   "metadata": {},
   "outputs": [],
   "source": [
    "x_train[\"LIMIT_BAL_NOR\"] = x_train.apply(lambda x: \"high\" if x[\"LIMIT_BAL\"] >= -0.65 else \"low\", axis = 1)\n",
    "x_test[\"LIMIT_BAL_NOR\"] = x_test.apply(lambda x: \"high\" if x[\"LIMIT_BAL\"] >= -0.65 else \"low\", axis = 1)"
   ]
  },
  {
   "cell_type": "markdown",
   "id": "f6c6a8bc",
   "metadata": {},
   "source": [
    "Classify \"SEX\" column"
   ]
  },
  {
   "cell_type": "code",
   "execution_count": 12,
   "id": "a9ba7805",
   "metadata": {},
   "outputs": [],
   "source": [
    "x_train[\"SEX\"] = x_train.apply(lambda x: \"male\" if x[\"SEX\"] == 1 else \"female\", axis = 1)\n",
    "x_test[\"SEX\"] = x_test.apply(lambda x: \"male\" if x[\"SEX\"] == 1 else \"female\", axis = 1)"
   ]
  },
  {
   "cell_type": "markdown",
   "id": "de8492d2",
   "metadata": {},
   "source": [
    "Classify \"EDUCATION\" column"
   ]
  },
  {
   "cell_type": "code",
   "execution_count": 13,
   "id": "78ef4037",
   "metadata": {},
   "outputs": [],
   "source": [
    "x_train[\"EDUCATION\"] = x_train.apply(lambda x: \"graduate\" if x[\"EDUCATION\"] == 1\n",
    "else (\"university\" if x[\"EDUCATION\"] == 2\n",
    "      else (\"high\" if x[\"EDUCATION\"] == 3\n",
    "            else \"others\")), axis = 1)\n",
    "x_test[\"EDUCATION\"] = x_test.apply(lambda x: \"graduate\" if x[\"EDUCATION\"] == 1\n",
    "else (\"university\" if x[\"EDUCATION\"] == 2\n",
    "      else (\"high\" if x[\"EDUCATION\"] == 3\n",
    "            else \"others\")), axis = 1)"
   ]
  },
  {
   "cell_type": "markdown",
   "id": "7f172d1b",
   "metadata": {},
   "source": [
    "Classify \"MARRIAGE\" column"
   ]
  },
  {
   "cell_type": "code",
   "execution_count": 14,
   "id": "8f1eeb61",
   "metadata": {},
   "outputs": [],
   "source": [
    "x_train[\"MARRIAGE\"] = x_train.apply(lambda x: \"married\" if x[\"MARRIAGE\"] == 1\n",
    "else (\"single\" if x[\"MARRIAGE\"] == 2\n",
    "      else \"others\"), axis = 1)\n",
    "x_test[\"MARRIAGE\"] = x_test.apply(lambda x: \"married\" if x[\"MARRIAGE\"] == 1\n",
    "else (\"single\" if x[\"MARRIAGE\"] == 2\n",
    "      else \"others\"), axis = 1)"
   ]
  },
  {
   "cell_type": "markdown",
   "id": "bc870335",
   "metadata": {},
   "source": [
    "Classify \"AGE\" column. Here the binning technique is used, dividing all ages equally into 10 intervals"
   ]
  },
  {
   "cell_type": "code",
   "execution_count": 15,
   "id": "cb90cb32",
   "metadata": {},
   "outputs": [],
   "source": [
    "age_categories = x_train[\"AGE\"].unique()\n",
    "one_level = int((age_categories.max()-age_categories.min())/10)\n",
    "level = 1\n",
    "for i in range(age_categories.min(),age_categories.max(),one_level):\n",
    "    x_train[\"AGE_LEVEL\"+str(level)] = x_train.apply(lambda x: \"AGE_LEVEL\"+str(level) if i <= x[\"AGE\"] < i+one_level else \"\", axis = 1)\n",
    "    x_test[\"AGE_LEVEL\"+str(level)] = x_test.apply(lambda x: \"AGE_LEVEL\"+str(level) if i <= x[\"AGE\"] < i+one_level else \"\", axis = 1)\n",
    "    level += 1"
   ]
  },
  {
   "cell_type": "markdown",
   "id": "b6649b2b",
   "metadata": {},
   "source": [
    "Process columns 6 to 11, based on the attribute information mentioned above"
   ]
  },
  {
   "cell_type": "code",
   "execution_count": 16,
   "id": "3d583e20",
   "metadata": {},
   "outputs": [],
   "source": [
    "def f(x):\n",
    "    x = int(x)\n",
    "    if x <= 0:\n",
    "        return \"duly\"\n",
    "    elif x == 1:\n",
    "        return \"one delay\"\n",
    "    elif x == 2:\n",
    "        return \"two delay\"\n",
    "    elif x == 3:\n",
    "        return \"three delay\"\n",
    "    elif x == 4:\n",
    "        return \"four delay\"\n",
    "    elif x == 5:\n",
    "        return \"five delay\"\n",
    "    elif x == 6:\n",
    "        return \"six delay\"\n",
    "    elif x == 7:\n",
    "        return \"seven delay\"\n",
    "    elif x == 8:\n",
    "        return \"eight delay\"\n",
    "    else:\n",
    "        return \"nine delay\"\n",
    "    \n",
    "x_train[\"PAY_0\"] = x_train[\"PAY_0\"].apply(lambda x: f(x))\n",
    "x_train[\"PAY_2\"] = x_train[\"PAY_2\"].apply(lambda x: f(x))\n",
    "x_train[\"PAY_3\"] = x_train[\"PAY_3\"].apply(lambda x: f(x))\n",
    "x_train[\"PAY_4\"] = x_train[\"PAY_4\"].apply(lambda x: f(x))\n",
    "x_train[\"PAY_5\"] = x_train[\"PAY_5\"].apply(lambda x: f(x))\n",
    "x_train[\"PAY_6\"] = x_train[\"PAY_6\"].apply(lambda x: f(x))\n",
    "x_test[\"PAY_0\"] = x_test[\"PAY_0\"].apply(lambda x: f(x))\n",
    "x_test[\"PAY_2\"] = x_test[\"PAY_2\"].apply(lambda x: f(x))\n",
    "x_test[\"PAY_3\"] = x_test[\"PAY_3\"].apply(lambda x: f(x))\n",
    "x_test[\"PAY_4\"] = x_test[\"PAY_4\"].apply(lambda x: f(x))\n",
    "x_test[\"PAY_5\"] = x_test[\"PAY_5\"].apply(lambda x: f(x))\n",
    "x_test[\"PAY_6\"] = x_test[\"PAY_6\"].apply(lambda x: f(x))"
   ]
  },
  {
   "cell_type": "markdown",
   "id": "73b017cf",
   "metadata": {},
   "source": [
    "Process columns 12 to 23, based on the attribute information mentioned above. If the amount paid in the following month is greater than the amount billed in the previous month, it is assigned the value \"duly_pay\", otherwise it is assigned the value \"delay_pay\""
   ]
  },
  {
   "cell_type": "code",
   "execution_count": 17,
   "id": "adddb58d",
   "metadata": {},
   "outputs": [],
   "source": [
    "x_train[\"PAY_BILL_2\"] = x_train.apply(lambda x: \"duly_pay\" if x[\"BILL_AMT2\"] <= x[\"PAY_AMT1\"] else \"delay_pay\", axis = 1)\n",
    "x_train[\"PAY_BILL_3\"] = x_train.apply(lambda x: \"duly_pay\" if x[\"BILL_AMT3\"] <= x[\"PAY_AMT2\"] else \"delay_pay\", axis = 1)\n",
    "x_train[\"PAY_BILL_4\"] = x_train.apply(lambda x: \"duly_pay\" if x[\"BILL_AMT4\"] <= x[\"PAY_AMT3\"] else \"delay_pay\", axis = 1)\n",
    "x_train[\"PAY_BILL_5\"] = x_train.apply(lambda x: \"duly_pay\" if x[\"BILL_AMT5\"] <= x[\"PAY_AMT4\"] else \"delay_pay\", axis = 1)\n",
    "x_train[\"PAY_BILL_6\"] = x_train.apply(lambda x: \"duly_pay\" if x[\"BILL_AMT6\"] <= x[\"PAY_AMT5\"] else \"delay_pay\", axis = 1)\n",
    "x_test[\"PAY_BILL_2\"] = x_test.apply(lambda x: \"duly_pay\" if x[\"BILL_AMT2\"] <= x[\"PAY_AMT1\"] else \"delay_pay\", axis = 1)\n",
    "x_test[\"PAY_BILL_3\"] = x_test.apply(lambda x: \"duly_pay\" if x[\"BILL_AMT3\"] <= x[\"PAY_AMT2\"] else \"delay_pay\", axis = 1)\n",
    "x_test[\"PAY_BILL_4\"] = x_test.apply(lambda x: \"duly_pay\" if x[\"BILL_AMT4\"] <= x[\"PAY_AMT3\"] else \"delay_pay\", axis = 1)\n",
    "x_test[\"PAY_BILL_5\"] = x_test.apply(lambda x: \"duly_pay\" if x[\"BILL_AMT5\"] <= x[\"PAY_AMT4\"] else \"delay_pay\", axis = 1)\n",
    "x_test[\"PAY_BILL_6\"] = x_test.apply(lambda x: \"duly_pay\" if x[\"BILL_AMT6\"] <= x[\"PAY_AMT5\"] else \"delay_pay\", axis = 1)"
   ]
  },
  {
   "cell_type": "markdown",
   "id": "d0513731",
   "metadata": {},
   "source": [
    "Now let's see what the data frame looks like"
   ]
  },
  {
   "cell_type": "code",
   "execution_count": 18,
   "id": "47c4d413",
   "metadata": {},
   "outputs": [
    {
     "data": {
      "text/html": [
       "<div>\n",
       "<style scoped>\n",
       "    .dataframe tbody tr th:only-of-type {\n",
       "        vertical-align: middle;\n",
       "    }\n",
       "\n",
       "    .dataframe tbody tr th {\n",
       "        vertical-align: top;\n",
       "    }\n",
       "\n",
       "    .dataframe thead th {\n",
       "        text-align: right;\n",
       "    }\n",
       "</style>\n",
       "<table border=\"1\" class=\"dataframe\">\n",
       "  <thead>\n",
       "    <tr style=\"text-align: right;\">\n",
       "      <th></th>\n",
       "      <th>LIMIT_BAL</th>\n",
       "      <th>SEX</th>\n",
       "      <th>EDUCATION</th>\n",
       "      <th>MARRIAGE</th>\n",
       "      <th>AGE</th>\n",
       "      <th>PAY_0</th>\n",
       "      <th>PAY_2</th>\n",
       "      <th>PAY_3</th>\n",
       "      <th>PAY_4</th>\n",
       "      <th>PAY_5</th>\n",
       "      <th>...</th>\n",
       "      <th>AGE_LEVEL8</th>\n",
       "      <th>AGE_LEVEL9</th>\n",
       "      <th>AGE_LEVEL10</th>\n",
       "      <th>AGE_LEVEL11</th>\n",
       "      <th>AGE_LEVEL12</th>\n",
       "      <th>PAY_BILL_2</th>\n",
       "      <th>PAY_BILL_3</th>\n",
       "      <th>PAY_BILL_4</th>\n",
       "      <th>PAY_BILL_5</th>\n",
       "      <th>PAY_BILL_6</th>\n",
       "    </tr>\n",
       "  </thead>\n",
       "  <tbody>\n",
       "    <tr>\n",
       "      <th>0</th>\n",
       "      <td>-1.136720</td>\n",
       "      <td>female</td>\n",
       "      <td>high</td>\n",
       "      <td>married</td>\n",
       "      <td>44</td>\n",
       "      <td>duly</td>\n",
       "      <td>duly</td>\n",
       "      <td>two delay</td>\n",
       "      <td>duly</td>\n",
       "      <td>duly</td>\n",
       "      <td>...</td>\n",
       "      <td></td>\n",
       "      <td></td>\n",
       "      <td></td>\n",
       "      <td></td>\n",
       "      <td></td>\n",
       "      <td>delay_pay</td>\n",
       "      <td>delay_pay</td>\n",
       "      <td>delay_pay</td>\n",
       "      <td>duly_pay</td>\n",
       "      <td>duly_pay</td>\n",
       "    </tr>\n",
       "    <tr>\n",
       "      <th>1</th>\n",
       "      <td>0.713055</td>\n",
       "      <td>female</td>\n",
       "      <td>university</td>\n",
       "      <td>single</td>\n",
       "      <td>30</td>\n",
       "      <td>duly</td>\n",
       "      <td>duly</td>\n",
       "      <td>duly</td>\n",
       "      <td>duly</td>\n",
       "      <td>duly</td>\n",
       "      <td>...</td>\n",
       "      <td></td>\n",
       "      <td></td>\n",
       "      <td></td>\n",
       "      <td></td>\n",
       "      <td></td>\n",
       "      <td>duly_pay</td>\n",
       "      <td>duly_pay</td>\n",
       "      <td>duly_pay</td>\n",
       "      <td>duly_pay</td>\n",
       "      <td>duly_pay</td>\n",
       "    </tr>\n",
       "    <tr>\n",
       "      <th>2</th>\n",
       "      <td>-1.136720</td>\n",
       "      <td>male</td>\n",
       "      <td>university</td>\n",
       "      <td>married</td>\n",
       "      <td>39</td>\n",
       "      <td>two delay</td>\n",
       "      <td>duly</td>\n",
       "      <td>duly</td>\n",
       "      <td>duly</td>\n",
       "      <td>duly</td>\n",
       "      <td>...</td>\n",
       "      <td></td>\n",
       "      <td></td>\n",
       "      <td></td>\n",
       "      <td></td>\n",
       "      <td></td>\n",
       "      <td>delay_pay</td>\n",
       "      <td>delay_pay</td>\n",
       "      <td>delay_pay</td>\n",
       "      <td>delay_pay</td>\n",
       "      <td>delay_pay</td>\n",
       "    </tr>\n",
       "    <tr>\n",
       "      <th>3</th>\n",
       "      <td>-1.059646</td>\n",
       "      <td>male</td>\n",
       "      <td>university</td>\n",
       "      <td>married</td>\n",
       "      <td>23</td>\n",
       "      <td>two delay</td>\n",
       "      <td>two delay</td>\n",
       "      <td>two delay</td>\n",
       "      <td>two delay</td>\n",
       "      <td>two delay</td>\n",
       "      <td>...</td>\n",
       "      <td></td>\n",
       "      <td></td>\n",
       "      <td></td>\n",
       "      <td></td>\n",
       "      <td></td>\n",
       "      <td>delay_pay</td>\n",
       "      <td>delay_pay</td>\n",
       "      <td>delay_pay</td>\n",
       "      <td>delay_pay</td>\n",
       "      <td>delay_pay</td>\n",
       "    </tr>\n",
       "    <tr>\n",
       "      <th>4</th>\n",
       "      <td>-1.213794</td>\n",
       "      <td>male</td>\n",
       "      <td>university</td>\n",
       "      <td>married</td>\n",
       "      <td>29</td>\n",
       "      <td>duly</td>\n",
       "      <td>duly</td>\n",
       "      <td>duly</td>\n",
       "      <td>duly</td>\n",
       "      <td>duly</td>\n",
       "      <td>...</td>\n",
       "      <td></td>\n",
       "      <td></td>\n",
       "      <td></td>\n",
       "      <td></td>\n",
       "      <td></td>\n",
       "      <td>delay_pay</td>\n",
       "      <td>delay_pay</td>\n",
       "      <td>delay_pay</td>\n",
       "      <td>delay_pay</td>\n",
       "      <td>delay_pay</td>\n",
       "    </tr>\n",
       "    <tr>\n",
       "      <th>...</th>\n",
       "      <td>...</td>\n",
       "      <td>...</td>\n",
       "      <td>...</td>\n",
       "      <td>...</td>\n",
       "      <td>...</td>\n",
       "      <td>...</td>\n",
       "      <td>...</td>\n",
       "      <td>...</td>\n",
       "      <td>...</td>\n",
       "      <td>...</td>\n",
       "      <td>...</td>\n",
       "      <td>...</td>\n",
       "      <td>...</td>\n",
       "      <td>...</td>\n",
       "      <td>...</td>\n",
       "      <td>...</td>\n",
       "      <td>...</td>\n",
       "      <td>...</td>\n",
       "      <td>...</td>\n",
       "      <td>...</td>\n",
       "      <td>...</td>\n",
       "    </tr>\n",
       "    <tr>\n",
       "      <th>23995</th>\n",
       "      <td>-1.059646</td>\n",
       "      <td>male</td>\n",
       "      <td>university</td>\n",
       "      <td>single</td>\n",
       "      <td>38</td>\n",
       "      <td>duly</td>\n",
       "      <td>duly</td>\n",
       "      <td>duly</td>\n",
       "      <td>duly</td>\n",
       "      <td>duly</td>\n",
       "      <td>...</td>\n",
       "      <td></td>\n",
       "      <td></td>\n",
       "      <td></td>\n",
       "      <td></td>\n",
       "      <td></td>\n",
       "      <td>delay_pay</td>\n",
       "      <td>delay_pay</td>\n",
       "      <td>delay_pay</td>\n",
       "      <td>delay_pay</td>\n",
       "      <td>delay_pay</td>\n",
       "    </tr>\n",
       "    <tr>\n",
       "      <th>23996</th>\n",
       "      <td>0.327685</td>\n",
       "      <td>female</td>\n",
       "      <td>graduate</td>\n",
       "      <td>married</td>\n",
       "      <td>33</td>\n",
       "      <td>duly</td>\n",
       "      <td>duly</td>\n",
       "      <td>duly</td>\n",
       "      <td>duly</td>\n",
       "      <td>duly</td>\n",
       "      <td>...</td>\n",
       "      <td></td>\n",
       "      <td></td>\n",
       "      <td></td>\n",
       "      <td></td>\n",
       "      <td></td>\n",
       "      <td>delay_pay</td>\n",
       "      <td>delay_pay</td>\n",
       "      <td>delay_pay</td>\n",
       "      <td>delay_pay</td>\n",
       "      <td>delay_pay</td>\n",
       "    </tr>\n",
       "    <tr>\n",
       "      <th>23997</th>\n",
       "      <td>-0.288907</td>\n",
       "      <td>female</td>\n",
       "      <td>high</td>\n",
       "      <td>married</td>\n",
       "      <td>43</td>\n",
       "      <td>duly</td>\n",
       "      <td>duly</td>\n",
       "      <td>duly</td>\n",
       "      <td>duly</td>\n",
       "      <td>duly</td>\n",
       "      <td>...</td>\n",
       "      <td></td>\n",
       "      <td></td>\n",
       "      <td></td>\n",
       "      <td></td>\n",
       "      <td></td>\n",
       "      <td>delay_pay</td>\n",
       "      <td>delay_pay</td>\n",
       "      <td>delay_pay</td>\n",
       "      <td>delay_pay</td>\n",
       "      <td>delay_pay</td>\n",
       "    </tr>\n",
       "    <tr>\n",
       "      <th>23998</th>\n",
       "      <td>-0.905498</td>\n",
       "      <td>female</td>\n",
       "      <td>high</td>\n",
       "      <td>married</td>\n",
       "      <td>29</td>\n",
       "      <td>duly</td>\n",
       "      <td>duly</td>\n",
       "      <td>duly</td>\n",
       "      <td>duly</td>\n",
       "      <td>duly</td>\n",
       "      <td>...</td>\n",
       "      <td></td>\n",
       "      <td></td>\n",
       "      <td></td>\n",
       "      <td></td>\n",
       "      <td></td>\n",
       "      <td>delay_pay</td>\n",
       "      <td>delay_pay</td>\n",
       "      <td>delay_pay</td>\n",
       "      <td>delay_pay</td>\n",
       "      <td>delay_pay</td>\n",
       "    </tr>\n",
       "    <tr>\n",
       "      <th>23999</th>\n",
       "      <td>-0.211833</td>\n",
       "      <td>female</td>\n",
       "      <td>graduate</td>\n",
       "      <td>single</td>\n",
       "      <td>25</td>\n",
       "      <td>duly</td>\n",
       "      <td>duly</td>\n",
       "      <td>duly</td>\n",
       "      <td>duly</td>\n",
       "      <td>duly</td>\n",
       "      <td>...</td>\n",
       "      <td></td>\n",
       "      <td></td>\n",
       "      <td></td>\n",
       "      <td></td>\n",
       "      <td></td>\n",
       "      <td>delay_pay</td>\n",
       "      <td>delay_pay</td>\n",
       "      <td>delay_pay</td>\n",
       "      <td>delay_pay</td>\n",
       "      <td>delay_pay</td>\n",
       "    </tr>\n",
       "  </tbody>\n",
       "</table>\n",
       "<p>24000 rows × 41 columns</p>\n",
       "</div>"
      ],
      "text/plain": [
       "       LIMIT_BAL     SEX   EDUCATION MARRIAGE  AGE      PAY_0      PAY_2  \\\n",
       "0      -1.136720  female        high  married   44       duly       duly   \n",
       "1       0.713055  female  university   single   30       duly       duly   \n",
       "2      -1.136720    male  university  married   39  two delay       duly   \n",
       "3      -1.059646    male  university  married   23  two delay  two delay   \n",
       "4      -1.213794    male  university  married   29       duly       duly   \n",
       "...          ...     ...         ...      ...  ...        ...        ...   \n",
       "23995  -1.059646    male  university   single   38       duly       duly   \n",
       "23996   0.327685  female    graduate  married   33       duly       duly   \n",
       "23997  -0.288907  female        high  married   43       duly       duly   \n",
       "23998  -0.905498  female        high  married   29       duly       duly   \n",
       "23999  -0.211833  female    graduate   single   25       duly       duly   \n",
       "\n",
       "           PAY_3      PAY_4      PAY_5  ... AGE_LEVEL8  AGE_LEVEL9  \\\n",
       "0      two delay       duly       duly  ...                          \n",
       "1           duly       duly       duly  ...                          \n",
       "2           duly       duly       duly  ...                          \n",
       "3      two delay  two delay  two delay  ...                          \n",
       "4           duly       duly       duly  ...                          \n",
       "...          ...        ...        ...  ...        ...         ...   \n",
       "23995       duly       duly       duly  ...                          \n",
       "23996       duly       duly       duly  ...                          \n",
       "23997       duly       duly       duly  ...                          \n",
       "23998       duly       duly       duly  ...                          \n",
       "23999       duly       duly       duly  ...                          \n",
       "\n",
       "       AGE_LEVEL10  AGE_LEVEL11  AGE_LEVEL12  PAY_BILL_2  PAY_BILL_3  \\\n",
       "0                                              delay_pay   delay_pay   \n",
       "1                                               duly_pay    duly_pay   \n",
       "2                                              delay_pay   delay_pay   \n",
       "3                                              delay_pay   delay_pay   \n",
       "4                                              delay_pay   delay_pay   \n",
       "...            ...          ...          ...         ...         ...   \n",
       "23995                                          delay_pay   delay_pay   \n",
       "23996                                          delay_pay   delay_pay   \n",
       "23997                                          delay_pay   delay_pay   \n",
       "23998                                          delay_pay   delay_pay   \n",
       "23999                                          delay_pay   delay_pay   \n",
       "\n",
       "       PAY_BILL_4  PAY_BILL_5  PAY_BILL_6  \n",
       "0       delay_pay    duly_pay    duly_pay  \n",
       "1        duly_pay    duly_pay    duly_pay  \n",
       "2       delay_pay   delay_pay   delay_pay  \n",
       "3       delay_pay   delay_pay   delay_pay  \n",
       "4       delay_pay   delay_pay   delay_pay  \n",
       "...           ...         ...         ...  \n",
       "23995   delay_pay   delay_pay   delay_pay  \n",
       "23996   delay_pay   delay_pay   delay_pay  \n",
       "23997   delay_pay   delay_pay   delay_pay  \n",
       "23998   delay_pay   delay_pay   delay_pay  \n",
       "23999   delay_pay   delay_pay   delay_pay  \n",
       "\n",
       "[24000 rows x 41 columns]"
      ]
     },
     "execution_count": 18,
     "metadata": {},
     "output_type": "execute_result"
    }
   ],
   "source": [
    "x_train"
   ]
  },
  {
   "cell_type": "code",
   "execution_count": 19,
   "id": "2b14a0fa",
   "metadata": {},
   "outputs": [
    {
     "data": {
      "text/html": [
       "<div>\n",
       "<style scoped>\n",
       "    .dataframe tbody tr th:only-of-type {\n",
       "        vertical-align: middle;\n",
       "    }\n",
       "\n",
       "    .dataframe tbody tr th {\n",
       "        vertical-align: top;\n",
       "    }\n",
       "\n",
       "    .dataframe thead th {\n",
       "        text-align: right;\n",
       "    }\n",
       "</style>\n",
       "<table border=\"1\" class=\"dataframe\">\n",
       "  <thead>\n",
       "    <tr style=\"text-align: right;\">\n",
       "      <th></th>\n",
       "      <th>LIMIT_BAL</th>\n",
       "      <th>SEX</th>\n",
       "      <th>EDUCATION</th>\n",
       "      <th>MARRIAGE</th>\n",
       "      <th>AGE</th>\n",
       "      <th>PAY_0</th>\n",
       "      <th>PAY_2</th>\n",
       "      <th>PAY_3</th>\n",
       "      <th>PAY_4</th>\n",
       "      <th>PAY_5</th>\n",
       "      <th>...</th>\n",
       "      <th>AGE_LEVEL8</th>\n",
       "      <th>AGE_LEVEL9</th>\n",
       "      <th>AGE_LEVEL10</th>\n",
       "      <th>AGE_LEVEL11</th>\n",
       "      <th>AGE_LEVEL12</th>\n",
       "      <th>PAY_BILL_2</th>\n",
       "      <th>PAY_BILL_3</th>\n",
       "      <th>PAY_BILL_4</th>\n",
       "      <th>PAY_BILL_5</th>\n",
       "      <th>PAY_BILL_6</th>\n",
       "    </tr>\n",
       "  </thead>\n",
       "  <tbody>\n",
       "    <tr>\n",
       "      <th>0</th>\n",
       "      <td>-1.136720</td>\n",
       "      <td>male</td>\n",
       "      <td>graduate</td>\n",
       "      <td>single</td>\n",
       "      <td>33</td>\n",
       "      <td>one delay</td>\n",
       "      <td>two delay</td>\n",
       "      <td>two delay</td>\n",
       "      <td>two delay</td>\n",
       "      <td>two delay</td>\n",
       "      <td>...</td>\n",
       "      <td></td>\n",
       "      <td></td>\n",
       "      <td></td>\n",
       "      <td></td>\n",
       "      <td></td>\n",
       "      <td>delay_pay</td>\n",
       "      <td>delay_pay</td>\n",
       "      <td>delay_pay</td>\n",
       "      <td>delay_pay</td>\n",
       "      <td>delay_pay</td>\n",
       "    </tr>\n",
       "    <tr>\n",
       "      <th>1</th>\n",
       "      <td>-1.136720</td>\n",
       "      <td>female</td>\n",
       "      <td>university</td>\n",
       "      <td>single</td>\n",
       "      <td>35</td>\n",
       "      <td>duly</td>\n",
       "      <td>duly</td>\n",
       "      <td>two delay</td>\n",
       "      <td>duly</td>\n",
       "      <td>duly</td>\n",
       "      <td>...</td>\n",
       "      <td></td>\n",
       "      <td></td>\n",
       "      <td></td>\n",
       "      <td></td>\n",
       "      <td></td>\n",
       "      <td>delay_pay</td>\n",
       "      <td>delay_pay</td>\n",
       "      <td>delay_pay</td>\n",
       "      <td>delay_pay</td>\n",
       "      <td>delay_pay</td>\n",
       "    </tr>\n",
       "    <tr>\n",
       "      <th>2</th>\n",
       "      <td>0.481833</td>\n",
       "      <td>female</td>\n",
       "      <td>graduate</td>\n",
       "      <td>married</td>\n",
       "      <td>44</td>\n",
       "      <td>one delay</td>\n",
       "      <td>duly</td>\n",
       "      <td>duly</td>\n",
       "      <td>duly</td>\n",
       "      <td>duly</td>\n",
       "      <td>...</td>\n",
       "      <td></td>\n",
       "      <td></td>\n",
       "      <td></td>\n",
       "      <td></td>\n",
       "      <td></td>\n",
       "      <td>duly_pay</td>\n",
       "      <td>duly_pay</td>\n",
       "      <td>duly_pay</td>\n",
       "      <td>duly_pay</td>\n",
       "      <td>duly_pay</td>\n",
       "    </tr>\n",
       "    <tr>\n",
       "      <th>3</th>\n",
       "      <td>-0.520128</td>\n",
       "      <td>male</td>\n",
       "      <td>university</td>\n",
       "      <td>married</td>\n",
       "      <td>42</td>\n",
       "      <td>duly</td>\n",
       "      <td>duly</td>\n",
       "      <td>duly</td>\n",
       "      <td>duly</td>\n",
       "      <td>duly</td>\n",
       "      <td>...</td>\n",
       "      <td></td>\n",
       "      <td></td>\n",
       "      <td></td>\n",
       "      <td></td>\n",
       "      <td></td>\n",
       "      <td>delay_pay</td>\n",
       "      <td>delay_pay</td>\n",
       "      <td>delay_pay</td>\n",
       "      <td>delay_pay</td>\n",
       "      <td>delay_pay</td>\n",
       "    </tr>\n",
       "    <tr>\n",
       "      <th>4</th>\n",
       "      <td>-0.134759</td>\n",
       "      <td>male</td>\n",
       "      <td>graduate</td>\n",
       "      <td>single</td>\n",
       "      <td>29</td>\n",
       "      <td>duly</td>\n",
       "      <td>duly</td>\n",
       "      <td>duly</td>\n",
       "      <td>duly</td>\n",
       "      <td>duly</td>\n",
       "      <td>...</td>\n",
       "      <td></td>\n",
       "      <td></td>\n",
       "      <td></td>\n",
       "      <td></td>\n",
       "      <td></td>\n",
       "      <td>duly_pay</td>\n",
       "      <td>duly_pay</td>\n",
       "      <td>duly_pay</td>\n",
       "      <td>duly_pay</td>\n",
       "      <td>duly_pay</td>\n",
       "    </tr>\n",
       "    <tr>\n",
       "      <th>...</th>\n",
       "      <td>...</td>\n",
       "      <td>...</td>\n",
       "      <td>...</td>\n",
       "      <td>...</td>\n",
       "      <td>...</td>\n",
       "      <td>...</td>\n",
       "      <td>...</td>\n",
       "      <td>...</td>\n",
       "      <td>...</td>\n",
       "      <td>...</td>\n",
       "      <td>...</td>\n",
       "      <td>...</td>\n",
       "      <td>...</td>\n",
       "      <td>...</td>\n",
       "      <td>...</td>\n",
       "      <td>...</td>\n",
       "      <td>...</td>\n",
       "      <td>...</td>\n",
       "      <td>...</td>\n",
       "      <td>...</td>\n",
       "      <td>...</td>\n",
       "    </tr>\n",
       "    <tr>\n",
       "      <th>5995</th>\n",
       "      <td>0.635981</td>\n",
       "      <td>female</td>\n",
       "      <td>university</td>\n",
       "      <td>married</td>\n",
       "      <td>35</td>\n",
       "      <td>one delay</td>\n",
       "      <td>two delay</td>\n",
       "      <td>two delay</td>\n",
       "      <td>two delay</td>\n",
       "      <td>two delay</td>\n",
       "      <td>...</td>\n",
       "      <td></td>\n",
       "      <td></td>\n",
       "      <td></td>\n",
       "      <td></td>\n",
       "      <td></td>\n",
       "      <td>delay_pay</td>\n",
       "      <td>delay_pay</td>\n",
       "      <td>delay_pay</td>\n",
       "      <td>delay_pay</td>\n",
       "      <td>delay_pay</td>\n",
       "    </tr>\n",
       "    <tr>\n",
       "      <th>5996</th>\n",
       "      <td>0.327685</td>\n",
       "      <td>female</td>\n",
       "      <td>graduate</td>\n",
       "      <td>married</td>\n",
       "      <td>46</td>\n",
       "      <td>duly</td>\n",
       "      <td>duly</td>\n",
       "      <td>duly</td>\n",
       "      <td>duly</td>\n",
       "      <td>duly</td>\n",
       "      <td>...</td>\n",
       "      <td></td>\n",
       "      <td></td>\n",
       "      <td></td>\n",
       "      <td></td>\n",
       "      <td></td>\n",
       "      <td>delay_pay</td>\n",
       "      <td>delay_pay</td>\n",
       "      <td>delay_pay</td>\n",
       "      <td>delay_pay</td>\n",
       "      <td>delay_pay</td>\n",
       "    </tr>\n",
       "    <tr>\n",
       "      <th>5997</th>\n",
       "      <td>-0.674276</td>\n",
       "      <td>male</td>\n",
       "      <td>high</td>\n",
       "      <td>married</td>\n",
       "      <td>27</td>\n",
       "      <td>duly</td>\n",
       "      <td>duly</td>\n",
       "      <td>duly</td>\n",
       "      <td>duly</td>\n",
       "      <td>duly</td>\n",
       "      <td>...</td>\n",
       "      <td></td>\n",
       "      <td></td>\n",
       "      <td></td>\n",
       "      <td></td>\n",
       "      <td></td>\n",
       "      <td>delay_pay</td>\n",
       "      <td>delay_pay</td>\n",
       "      <td>duly_pay</td>\n",
       "      <td>delay_pay</td>\n",
       "      <td>delay_pay</td>\n",
       "    </tr>\n",
       "    <tr>\n",
       "      <th>5998</th>\n",
       "      <td>-1.136720</td>\n",
       "      <td>male</td>\n",
       "      <td>university</td>\n",
       "      <td>single</td>\n",
       "      <td>24</td>\n",
       "      <td>two delay</td>\n",
       "      <td>two delay</td>\n",
       "      <td>two delay</td>\n",
       "      <td>two delay</td>\n",
       "      <td>two delay</td>\n",
       "      <td>...</td>\n",
       "      <td></td>\n",
       "      <td></td>\n",
       "      <td></td>\n",
       "      <td></td>\n",
       "      <td></td>\n",
       "      <td>delay_pay</td>\n",
       "      <td>delay_pay</td>\n",
       "      <td>delay_pay</td>\n",
       "      <td>delay_pay</td>\n",
       "      <td>delay_pay</td>\n",
       "    </tr>\n",
       "    <tr>\n",
       "      <th>5999</th>\n",
       "      <td>-0.905498</td>\n",
       "      <td>male</td>\n",
       "      <td>university</td>\n",
       "      <td>single</td>\n",
       "      <td>40</td>\n",
       "      <td>one delay</td>\n",
       "      <td>one delay</td>\n",
       "      <td>duly</td>\n",
       "      <td>duly</td>\n",
       "      <td>duly</td>\n",
       "      <td>...</td>\n",
       "      <td></td>\n",
       "      <td></td>\n",
       "      <td></td>\n",
       "      <td></td>\n",
       "      <td></td>\n",
       "      <td>duly_pay</td>\n",
       "      <td>duly_pay</td>\n",
       "      <td>duly_pay</td>\n",
       "      <td>delay_pay</td>\n",
       "      <td>delay_pay</td>\n",
       "    </tr>\n",
       "  </tbody>\n",
       "</table>\n",
       "<p>6000 rows × 41 columns</p>\n",
       "</div>"
      ],
      "text/plain": [
       "      LIMIT_BAL     SEX   EDUCATION MARRIAGE  AGE      PAY_0      PAY_2  \\\n",
       "0     -1.136720    male    graduate   single   33  one delay  two delay   \n",
       "1     -1.136720  female  university   single   35       duly       duly   \n",
       "2      0.481833  female    graduate  married   44  one delay       duly   \n",
       "3     -0.520128    male  university  married   42       duly       duly   \n",
       "4     -0.134759    male    graduate   single   29       duly       duly   \n",
       "...         ...     ...         ...      ...  ...        ...        ...   \n",
       "5995   0.635981  female  university  married   35  one delay  two delay   \n",
       "5996   0.327685  female    graduate  married   46       duly       duly   \n",
       "5997  -0.674276    male        high  married   27       duly       duly   \n",
       "5998  -1.136720    male  university   single   24  two delay  two delay   \n",
       "5999  -0.905498    male  university   single   40  one delay  one delay   \n",
       "\n",
       "          PAY_3      PAY_4      PAY_5  ... AGE_LEVEL8  AGE_LEVEL9  \\\n",
       "0     two delay  two delay  two delay  ...                          \n",
       "1     two delay       duly       duly  ...                          \n",
       "2          duly       duly       duly  ...                          \n",
       "3          duly       duly       duly  ...                          \n",
       "4          duly       duly       duly  ...                          \n",
       "...         ...        ...        ...  ...        ...         ...   \n",
       "5995  two delay  two delay  two delay  ...                          \n",
       "5996       duly       duly       duly  ...                          \n",
       "5997       duly       duly       duly  ...                          \n",
       "5998  two delay  two delay  two delay  ...                          \n",
       "5999       duly       duly       duly  ...                          \n",
       "\n",
       "      AGE_LEVEL10  AGE_LEVEL11  AGE_LEVEL12  PAY_BILL_2  PAY_BILL_3  \\\n",
       "0                                             delay_pay   delay_pay   \n",
       "1                                             delay_pay   delay_pay   \n",
       "2                                              duly_pay    duly_pay   \n",
       "3                                             delay_pay   delay_pay   \n",
       "4                                              duly_pay    duly_pay   \n",
       "...           ...          ...          ...         ...         ...   \n",
       "5995                                          delay_pay   delay_pay   \n",
       "5996                                          delay_pay   delay_pay   \n",
       "5997                                          delay_pay   delay_pay   \n",
       "5998                                          delay_pay   delay_pay   \n",
       "5999                                           duly_pay    duly_pay   \n",
       "\n",
       "      PAY_BILL_4  PAY_BILL_5  PAY_BILL_6  \n",
       "0      delay_pay   delay_pay   delay_pay  \n",
       "1      delay_pay   delay_pay   delay_pay  \n",
       "2       duly_pay    duly_pay    duly_pay  \n",
       "3      delay_pay   delay_pay   delay_pay  \n",
       "4       duly_pay    duly_pay    duly_pay  \n",
       "...          ...         ...         ...  \n",
       "5995   delay_pay   delay_pay   delay_pay  \n",
       "5996   delay_pay   delay_pay   delay_pay  \n",
       "5997    duly_pay   delay_pay   delay_pay  \n",
       "5998   delay_pay   delay_pay   delay_pay  \n",
       "5999    duly_pay   delay_pay   delay_pay  \n",
       "\n",
       "[6000 rows x 41 columns]"
      ]
     },
     "execution_count": 19,
     "metadata": {},
     "output_type": "execute_result"
    }
   ],
   "source": [
    "x_test"
   ]
  },
  {
   "cell_type": "markdown",
   "id": "89f7e24e",
   "metadata": {},
   "source": [
    "Remove columns that are not needed in the training, such as the original \"LIMIT_BAL\" and \"AGE\" columns"
   ]
  },
  {
   "cell_type": "code",
   "execution_count": 20,
   "id": "f73980fd",
   "metadata": {},
   "outputs": [],
   "source": [
    "x_train = x_train.drop(x_train.columns[[0,4,11,12,13,14,15,16,17,18,19,20,21,22]], axis=1)\n",
    "x_test = x_test.drop(x_test.columns[[0,4,11,12,13,14,15,16,17,18,19,20,21,22]], axis=1)"
   ]
  },
  {
   "cell_type": "markdown",
   "id": "86b3c5d9",
   "metadata": {},
   "source": [
    "Combine the values of all columns into one"
   ]
  },
  {
   "cell_type": "code",
   "execution_count": 21,
   "id": "f6d6de94",
   "metadata": {},
   "outputs": [],
   "source": [
    "x_train[\"all columns\"] = x_train[x_train.columns[0:]].apply(lambda x: \" \".join(x.dropna()), axis = 1)\n",
    "x_test[\"all columns\"] = x_test[x_test.columns[0:]].apply(lambda x: \" \".join(x.dropna()), axis = 1)\n",
    "xs_train = x_train[\"all columns\"].values\n",
    "xs_test = x_test[\"all columns\"].values\n",
    "ys_train = y_train.values.reshape(-1)\n",
    "ys_test = y_test.values.reshape(-1)"
   ]
  },
  {
   "cell_type": "markdown",
   "id": "1be2ee78",
   "metadata": {},
   "source": [
    "Use CountVecorizer class in Scikit-learn to convert a collection of texts into a matrix of token counts"
   ]
  },
  {
   "cell_type": "code",
   "execution_count": 22,
   "id": "935cf661",
   "metadata": {},
   "outputs": [],
   "source": [
    "vectorizer = CountVectorizer()\n",
    "xs_train_prep = vectorizer.fit_transform(xs_train)\n",
    "xs_test_prep = vectorizer.transform(xs_test)"
   ]
  },
  {
   "cell_type": "markdown",
   "id": "3261ee9d",
   "metadata": {},
   "source": [
    "## Model fitting, hype parameters and validation\n",
    "\n",
    "## MultinomialNB\n",
    "First try MultinomialNB just fitted, before GridSearchCV"
   ]
  },
  {
   "cell_type": "code",
   "execution_count": 23,
   "id": "f1488e2b",
   "metadata": {},
   "outputs": [
    {
     "name": "stdout",
     "output_type": "stream",
     "text": [
      "Training accuracy: 0.77\n",
      "MultinomialNB accuracy (before GridSearchCV): 0.7763\n",
      "              precision    recall  f1-score   support\n",
      "\n",
      "           0       0.87      0.84      0.86      4703\n",
      "           1       0.48      0.54      0.51      1297\n",
      "\n",
      "    accuracy                           0.78      6000\n",
      "   macro avg       0.68      0.69      0.68      6000\n",
      "weighted avg       0.79      0.78      0.78      6000\n",
      "\n"
     ]
    },
    {
     "name": "stderr",
     "output_type": "stream",
     "text": [
      "D:\\Anaconda\\lib\\site-packages\\sklearn\\naive_bayes.py:629: FutureWarning: The default value for `force_alpha` will change to `True` in 1.4. To suppress this warning, manually set the value of `force_alpha`.\n",
      "  warnings.warn(\n",
      "D:\\Anaconda\\lib\\site-packages\\sklearn\\naive_bayes.py:635: UserWarning: alpha too small will result in numeric errors, setting alpha = 1.0e-10. Use `force_alpha=True` to keep alpha unchanged.\n",
      "  warnings.warn(\n"
     ]
    }
   ],
   "source": [
    "multinomial_nb = MultinomialNB(alpha=0, fit_prior=False)\n",
    "multinomial_nb.fit(xs_train_prep, ys_train)\n",
    "ys_train_pred = multinomial_nb.predict(xs_train_prep)\n",
    "accuracy_train = accuracy_score(ys_train, ys_train_pred)\n",
    "print('Training accuracy:', accuracy_train)\n",
    "ys_test_pred = multinomial_nb.predict(xs_test_prep)\n",
    "accuracy = accuracy_score(ys_test, ys_test_pred)\n",
    "print(f\"MultinomialNB accuracy (before GridSearchCV): {accuracy:.4f}\")\n",
    "print(classification_report(ys_test, ys_test_pred))"
   ]
  },
  {
   "cell_type": "markdown",
   "id": "f2996c43",
   "metadata": {},
   "source": [
    "### It is obvious that after data process, the test set accuracy is improved to 77.63%, compared with before. Next, let's try to use GridSearchCV to further improve the accuracy"
   ]
  },
  {
   "cell_type": "code",
   "execution_count": 24,
   "id": "fe734141",
   "metadata": {},
   "outputs": [
    {
     "data": {
      "text/plain": [
       "dict_keys(['alpha', 'class_prior', 'fit_prior', 'force_alpha'])"
      ]
     },
     "execution_count": 24,
     "metadata": {},
     "output_type": "execute_result"
    }
   ],
   "source": [
    "MultinomialNB().get_params().keys()"
   ]
  },
  {
   "cell_type": "markdown",
   "id": "9b25ff57",
   "metadata": {},
   "source": [
    "## GridsearchCV for hype parameters and validation\n",
    "Find the best hyper-parameter values via grid search of scikit-learn. This will perform a k-fold cross-validation on the training set\n",
    "\n",
    "Here I will not set the value of class_prior as I do not know the prior probability of each attribute of the dataset\n",
    "\n",
    "Also, as I set the value of alpha, the force_alpha will be set as the default value False to use the alpha parameter passed to the classifier"
   ]
  },
  {
   "cell_type": "code",
   "execution_count": 25,
   "id": "28fe5d7b",
   "metadata": {},
   "outputs": [
    {
     "name": "stderr",
     "output_type": "stream",
     "text": [
      "D:\\Anaconda\\lib\\site-packages\\sklearn\\naive_bayes.py:629: FutureWarning: The default value for `force_alpha` will change to `True` in 1.4. To suppress this warning, manually set the value of `force_alpha`.\n",
      "  warnings.warn(\n",
      "D:\\Anaconda\\lib\\site-packages\\sklearn\\naive_bayes.py:635: UserWarning: alpha too small will result in numeric errors, setting alpha = 1.0e-10. Use `force_alpha=True` to keep alpha unchanged.\n",
      "  warnings.warn(\n",
      "D:\\Anaconda\\lib\\site-packages\\sklearn\\naive_bayes.py:629: FutureWarning: The default value for `force_alpha` will change to `True` in 1.4. To suppress this warning, manually set the value of `force_alpha`.\n",
      "  warnings.warn(\n",
      "D:\\Anaconda\\lib\\site-packages\\sklearn\\naive_bayes.py:635: UserWarning: alpha too small will result in numeric errors, setting alpha = 1.0e-10. Use `force_alpha=True` to keep alpha unchanged.\n",
      "  warnings.warn(\n",
      "D:\\Anaconda\\lib\\site-packages\\sklearn\\naive_bayes.py:629: FutureWarning: The default value for `force_alpha` will change to `True` in 1.4. To suppress this warning, manually set the value of `force_alpha`.\n",
      "  warnings.warn(\n",
      "D:\\Anaconda\\lib\\site-packages\\sklearn\\naive_bayes.py:635: UserWarning: alpha too small will result in numeric errors, setting alpha = 1.0e-10. Use `force_alpha=True` to keep alpha unchanged.\n",
      "  warnings.warn(\n",
      "D:\\Anaconda\\lib\\site-packages\\sklearn\\naive_bayes.py:629: FutureWarning: The default value for `force_alpha` will change to `True` in 1.4. To suppress this warning, manually set the value of `force_alpha`.\n",
      "  warnings.warn(\n",
      "D:\\Anaconda\\lib\\site-packages\\sklearn\\naive_bayes.py:635: UserWarning: alpha too small will result in numeric errors, setting alpha = 1.0e-10. Use `force_alpha=True` to keep alpha unchanged.\n",
      "  warnings.warn(\n",
      "D:\\Anaconda\\lib\\site-packages\\sklearn\\naive_bayes.py:629: FutureWarning: The default value for `force_alpha` will change to `True` in 1.4. To suppress this warning, manually set the value of `force_alpha`.\n",
      "  warnings.warn(\n",
      "D:\\Anaconda\\lib\\site-packages\\sklearn\\naive_bayes.py:635: UserWarning: alpha too small will result in numeric errors, setting alpha = 1.0e-10. Use `force_alpha=True` to keep alpha unchanged.\n",
      "  warnings.warn(\n",
      "D:\\Anaconda\\lib\\site-packages\\sklearn\\naive_bayes.py:629: FutureWarning: The default value for `force_alpha` will change to `True` in 1.4. To suppress this warning, manually set the value of `force_alpha`.\n",
      "  warnings.warn(\n",
      "D:\\Anaconda\\lib\\site-packages\\sklearn\\naive_bayes.py:635: UserWarning: alpha too small will result in numeric errors, setting alpha = 1.0e-10. Use `force_alpha=True` to keep alpha unchanged.\n",
      "  warnings.warn(\n",
      "D:\\Anaconda\\lib\\site-packages\\sklearn\\naive_bayes.py:629: FutureWarning: The default value for `force_alpha` will change to `True` in 1.4. To suppress this warning, manually set the value of `force_alpha`.\n",
      "  warnings.warn(\n",
      "D:\\Anaconda\\lib\\site-packages\\sklearn\\naive_bayes.py:635: UserWarning: alpha too small will result in numeric errors, setting alpha = 1.0e-10. Use `force_alpha=True` to keep alpha unchanged.\n",
      "  warnings.warn(\n",
      "D:\\Anaconda\\lib\\site-packages\\sklearn\\naive_bayes.py:629: FutureWarning: The default value for `force_alpha` will change to `True` in 1.4. To suppress this warning, manually set the value of `force_alpha`.\n",
      "  warnings.warn(\n",
      "D:\\Anaconda\\lib\\site-packages\\sklearn\\naive_bayes.py:635: UserWarning: alpha too small will result in numeric errors, setting alpha = 1.0e-10. Use `force_alpha=True` to keep alpha unchanged.\n",
      "  warnings.warn(\n",
      "D:\\Anaconda\\lib\\site-packages\\sklearn\\naive_bayes.py:629: FutureWarning: The default value for `force_alpha` will change to `True` in 1.4. To suppress this warning, manually set the value of `force_alpha`.\n",
      "  warnings.warn(\n",
      "D:\\Anaconda\\lib\\site-packages\\sklearn\\naive_bayes.py:635: UserWarning: alpha too small will result in numeric errors, setting alpha = 1.0e-10. Use `force_alpha=True` to keep alpha unchanged.\n",
      "  warnings.warn(\n",
      "D:\\Anaconda\\lib\\site-packages\\sklearn\\naive_bayes.py:629: FutureWarning: The default value for `force_alpha` will change to `True` in 1.4. To suppress this warning, manually set the value of `force_alpha`.\n",
      "  warnings.warn(\n",
      "D:\\Anaconda\\lib\\site-packages\\sklearn\\naive_bayes.py:635: UserWarning: alpha too small will result in numeric errors, setting alpha = 1.0e-10. Use `force_alpha=True` to keep alpha unchanged.\n",
      "  warnings.warn(\n"
     ]
    },
    {
     "name": "stdout",
     "output_type": "stream",
     "text": [
      "Fitting 5 folds for each of 12 candidates, totalling 60 fits\n",
      "[CV] END ............................alpha=0, fit_prior=True; total time=   0.0s\n",
      "[CV] END ............................alpha=0, fit_prior=True; total time=   0.0s\n",
      "[CV] END ............................alpha=0, fit_prior=True; total time=   0.0s\n",
      "[CV] END ............................alpha=0, fit_prior=True; total time=   0.0s\n",
      "[CV] END ............................alpha=0, fit_prior=True; total time=   0.0s\n",
      "[CV] END ...........................alpha=0, fit_prior=False; total time=   0.0s\n",
      "[CV] END ...........................alpha=0, fit_prior=False; total time=   0.0s\n",
      "[CV] END ...........................alpha=0, fit_prior=False; total time=   0.0s\n",
      "[CV] END ...........................alpha=0, fit_prior=False; total time=   0.0s\n",
      "[CV] END ...........................alpha=0, fit_prior=False; total time=   0.0s\n",
      "[CV] END ............................alpha=1, fit_prior=True; total time=   0.0s\n",
      "[CV] END ............................alpha=1, fit_prior=True; total time=   0.0s\n",
      "[CV] END ............................alpha=1, fit_prior=True; total time=   0.0s\n",
      "[CV] END ............................alpha=1, fit_prior=True; total time=   0.0s\n",
      "[CV] END ............................alpha=1, fit_prior=True; total time=   0.0s\n",
      "[CV] END ...........................alpha=1, fit_prior=False; total time=   0.0s\n",
      "[CV] END ...........................alpha=1, fit_prior=False; total time=   0.0s\n",
      "[CV] END ...........................alpha=1, fit_prior=False; total time=   0.0s\n",
      "[CV] END ...........................alpha=1, fit_prior=False; total time=   0.0s\n",
      "[CV] END ...........................alpha=1, fit_prior=False; total time=   0.0s\n",
      "[CV] END ............................alpha=2, fit_prior=True; total time=   0.0s\n",
      "[CV] END ............................alpha=2, fit_prior=True; total time=   0.0s\n",
      "[CV] END ............................alpha=2, fit_prior=True; total time=   0.0s\n",
      "[CV] END ............................alpha=2, fit_prior=True; total time=   0.0s\n",
      "[CV] END ............................alpha=2, fit_prior=True; total time=   0.0s\n",
      "[CV] END ...........................alpha=2, fit_prior=False; total time=   0.0s\n",
      "[CV] END ...........................alpha=2, fit_prior=False; total time=   0.0s\n",
      "[CV] END ...........................alpha=2, fit_prior=False; total time=   0.0s\n",
      "[CV] END ...........................alpha=2, fit_prior=False; total time=   0.0s\n",
      "[CV] END ...........................alpha=2, fit_prior=False; total time=   0.0s\n",
      "[CV] END ............................alpha=3, fit_prior=True; total time=   0.0s\n",
      "[CV] END ............................alpha=3, fit_prior=True; total time=   0.0s\n",
      "[CV] END ............................alpha=3, fit_prior=True; total time=   0.0s\n",
      "[CV] END ............................alpha=3, fit_prior=True; total time=   0.0s\n",
      "[CV] END ............................alpha=3, fit_prior=True; total time=   0.0s\n",
      "[CV] END ...........................alpha=3, fit_prior=False; total time=   0.0s\n",
      "[CV] END ...........................alpha=3, fit_prior=False; total time=   0.0s\n",
      "[CV] END ...........................alpha=3, fit_prior=False; total time=   0.0s\n",
      "[CV] END ...........................alpha=3, fit_prior=False; total time=   0.0s\n",
      "[CV] END ...........................alpha=3, fit_prior=False; total time=   0.0s\n",
      "[CV] END ............................alpha=4, fit_prior=True; total time=   0.0s\n",
      "[CV] END ............................alpha=4, fit_prior=True; total time=   0.0s\n",
      "[CV] END ............................alpha=4, fit_prior=True; total time=   0.0s\n",
      "[CV] END ............................alpha=4, fit_prior=True; total time=   0.0s\n",
      "[CV] END ............................alpha=4, fit_prior=True; total time=   0.0s\n",
      "[CV] END ...........................alpha=4, fit_prior=False; total time=   0.0s\n",
      "[CV] END ...........................alpha=4, fit_prior=False; total time=   0.0s\n",
      "[CV] END ...........................alpha=4, fit_prior=False; total time=   0.0s\n",
      "[CV] END ...........................alpha=4, fit_prior=False; total time=   0.0s\n",
      "[CV] END ...........................alpha=4, fit_prior=False; total time=   0.0s\n",
      "[CV] END ............................alpha=5, fit_prior=True; total time=   0.0s\n",
      "[CV] END ............................alpha=5, fit_prior=True; total time=   0.0s\n",
      "[CV] END ............................alpha=5, fit_prior=True; total time=   0.0s\n",
      "[CV] END ............................alpha=5, fit_prior=True; total time=   0.0s\n",
      "[CV] END ............................alpha=5, fit_prior=True; total time=   0.0s\n",
      "[CV] END ...........................alpha=5, fit_prior=False; total time=   0.0s\n",
      "[CV] END ...........................alpha=5, fit_prior=False; total time=   0.0s\n",
      "[CV] END ...........................alpha=5, fit_prior=False; total time=   0.0s\n",
      "[CV] END ...........................alpha=5, fit_prior=False; total time=   0.0s\n",
      "[CV] END ...........................alpha=5, fit_prior=False; total time=   0.0s\n"
     ]
    },
    {
     "data": {
      "text/html": [
       "<style>#sk-container-id-2 {color: black;background-color: white;}#sk-container-id-2 pre{padding: 0;}#sk-container-id-2 div.sk-toggleable {background-color: white;}#sk-container-id-2 label.sk-toggleable__label {cursor: pointer;display: block;width: 100%;margin-bottom: 0;padding: 0.3em;box-sizing: border-box;text-align: center;}#sk-container-id-2 label.sk-toggleable__label-arrow:before {content: \"▸\";float: left;margin-right: 0.25em;color: #696969;}#sk-container-id-2 label.sk-toggleable__label-arrow:hover:before {color: black;}#sk-container-id-2 div.sk-estimator:hover label.sk-toggleable__label-arrow:before {color: black;}#sk-container-id-2 div.sk-toggleable__content {max-height: 0;max-width: 0;overflow: hidden;text-align: left;background-color: #f0f8ff;}#sk-container-id-2 div.sk-toggleable__content pre {margin: 0.2em;color: black;border-radius: 0.25em;background-color: #f0f8ff;}#sk-container-id-2 input.sk-toggleable__control:checked~div.sk-toggleable__content {max-height: 200px;max-width: 100%;overflow: auto;}#sk-container-id-2 input.sk-toggleable__control:checked~label.sk-toggleable__label-arrow:before {content: \"▾\";}#sk-container-id-2 div.sk-estimator input.sk-toggleable__control:checked~label.sk-toggleable__label {background-color: #d4ebff;}#sk-container-id-2 div.sk-label input.sk-toggleable__control:checked~label.sk-toggleable__label {background-color: #d4ebff;}#sk-container-id-2 input.sk-hidden--visually {border: 0;clip: rect(1px 1px 1px 1px);clip: rect(1px, 1px, 1px, 1px);height: 1px;margin: -1px;overflow: hidden;padding: 0;position: absolute;width: 1px;}#sk-container-id-2 div.sk-estimator {font-family: monospace;background-color: #f0f8ff;border: 1px dotted black;border-radius: 0.25em;box-sizing: border-box;margin-bottom: 0.5em;}#sk-container-id-2 div.sk-estimator:hover {background-color: #d4ebff;}#sk-container-id-2 div.sk-parallel-item::after {content: \"\";width: 100%;border-bottom: 1px solid gray;flex-grow: 1;}#sk-container-id-2 div.sk-label:hover label.sk-toggleable__label {background-color: #d4ebff;}#sk-container-id-2 div.sk-serial::before {content: \"\";position: absolute;border-left: 1px solid gray;box-sizing: border-box;top: 0;bottom: 0;left: 50%;z-index: 0;}#sk-container-id-2 div.sk-serial {display: flex;flex-direction: column;align-items: center;background-color: white;padding-right: 0.2em;padding-left: 0.2em;position: relative;}#sk-container-id-2 div.sk-item {position: relative;z-index: 1;}#sk-container-id-2 div.sk-parallel {display: flex;align-items: stretch;justify-content: center;background-color: white;position: relative;}#sk-container-id-2 div.sk-item::before, #sk-container-id-2 div.sk-parallel-item::before {content: \"\";position: absolute;border-left: 1px solid gray;box-sizing: border-box;top: 0;bottom: 0;left: 50%;z-index: -1;}#sk-container-id-2 div.sk-parallel-item {display: flex;flex-direction: column;z-index: 1;position: relative;background-color: white;}#sk-container-id-2 div.sk-parallel-item:first-child::after {align-self: flex-end;width: 50%;}#sk-container-id-2 div.sk-parallel-item:last-child::after {align-self: flex-start;width: 50%;}#sk-container-id-2 div.sk-parallel-item:only-child::after {width: 0;}#sk-container-id-2 div.sk-dashed-wrapped {border: 1px dashed gray;margin: 0 0.4em 0.5em 0.4em;box-sizing: border-box;padding-bottom: 0.4em;background-color: white;}#sk-container-id-2 div.sk-label label {font-family: monospace;font-weight: bold;display: inline-block;line-height: 1.2em;}#sk-container-id-2 div.sk-label-container {text-align: center;}#sk-container-id-2 div.sk-container {/* jupyter's `normalize.less` sets `[hidden] { display: none; }` but bootstrap.min.css set `[hidden] { display: none !important; }` so we also need the `!important` here to be able to override the default hidden behavior on the sphinx rendered scikit-learn.org. See: https://github.com/scikit-learn/scikit-learn/issues/21755 */display: inline-block !important;position: relative;}#sk-container-id-2 div.sk-text-repr-fallback {display: none;}</style><div id=\"sk-container-id-2\" class=\"sk-top-container\"><div class=\"sk-text-repr-fallback\"><pre>GridSearchCV(cv=5, estimator=MultinomialNB(),\n",
       "             param_grid=[{&#x27;alpha&#x27;: [0, 1, 2, 3, 4, 5],\n",
       "                          &#x27;fit_prior&#x27;: [True, False]}],\n",
       "             verbose=2)</pre><b>In a Jupyter environment, please rerun this cell to show the HTML representation or trust the notebook. <br />On GitHub, the HTML representation is unable to render, please try loading this page with nbviewer.org.</b></div><div class=\"sk-container\" hidden><div class=\"sk-item sk-dashed-wrapped\"><div class=\"sk-label-container\"><div class=\"sk-label sk-toggleable\"><input class=\"sk-toggleable__control sk-hidden--visually\" id=\"sk-estimator-id-2\" type=\"checkbox\" ><label for=\"sk-estimator-id-2\" class=\"sk-toggleable__label sk-toggleable__label-arrow\">GridSearchCV</label><div class=\"sk-toggleable__content\"><pre>GridSearchCV(cv=5, estimator=MultinomialNB(),\n",
       "             param_grid=[{&#x27;alpha&#x27;: [0, 1, 2, 3, 4, 5],\n",
       "                          &#x27;fit_prior&#x27;: [True, False]}],\n",
       "             verbose=2)</pre></div></div></div><div class=\"sk-parallel\"><div class=\"sk-parallel-item\"><div class=\"sk-item\"><div class=\"sk-label-container\"><div class=\"sk-label sk-toggleable\"><input class=\"sk-toggleable__control sk-hidden--visually\" id=\"sk-estimator-id-3\" type=\"checkbox\" ><label for=\"sk-estimator-id-3\" class=\"sk-toggleable__label sk-toggleable__label-arrow\">estimator: MultinomialNB</label><div class=\"sk-toggleable__content\"><pre>MultinomialNB()</pre></div></div></div><div class=\"sk-serial\"><div class=\"sk-item\"><div class=\"sk-estimator sk-toggleable\"><input class=\"sk-toggleable__control sk-hidden--visually\" id=\"sk-estimator-id-4\" type=\"checkbox\" ><label for=\"sk-estimator-id-4\" class=\"sk-toggleable__label sk-toggleable__label-arrow\">MultinomialNB</label><div class=\"sk-toggleable__content\"><pre>MultinomialNB()</pre></div></div></div></div></div></div></div></div></div></div>"
      ],
      "text/plain": [
       "GridSearchCV(cv=5, estimator=MultinomialNB(),\n",
       "             param_grid=[{'alpha': [0, 1, 2, 3, 4, 5],\n",
       "                          'fit_prior': [True, False]}],\n",
       "             verbose=2)"
      ]
     },
     "execution_count": 25,
     "metadata": {},
     "output_type": "execute_result"
    }
   ],
   "source": [
    "param_grid = [{\n",
    "    'alpha': [0, 1, 2, 3, 4, 5],\n",
    "    'fit_prior': [True, False]}]\n",
    "multinomial_nb = MultinomialNB()\n",
    "grid_search = GridSearchCV(multinomial_nb, param_grid, cv=5, verbose=2)\n",
    "grid_search.fit(xs_train_prep, ys_train)"
   ]
  },
  {
   "cell_type": "markdown",
   "id": "e255c69b",
   "metadata": {},
   "source": [
    "Find the best hype parameters of MultinomialNB"
   ]
  },
  {
   "cell_type": "code",
   "execution_count": 26,
   "id": "936ed587",
   "metadata": {},
   "outputs": [
    {
     "data": {
      "text/html": [
       "<style>#sk-container-id-3 {color: black;background-color: white;}#sk-container-id-3 pre{padding: 0;}#sk-container-id-3 div.sk-toggleable {background-color: white;}#sk-container-id-3 label.sk-toggleable__label {cursor: pointer;display: block;width: 100%;margin-bottom: 0;padding: 0.3em;box-sizing: border-box;text-align: center;}#sk-container-id-3 label.sk-toggleable__label-arrow:before {content: \"▸\";float: left;margin-right: 0.25em;color: #696969;}#sk-container-id-3 label.sk-toggleable__label-arrow:hover:before {color: black;}#sk-container-id-3 div.sk-estimator:hover label.sk-toggleable__label-arrow:before {color: black;}#sk-container-id-3 div.sk-toggleable__content {max-height: 0;max-width: 0;overflow: hidden;text-align: left;background-color: #f0f8ff;}#sk-container-id-3 div.sk-toggleable__content pre {margin: 0.2em;color: black;border-radius: 0.25em;background-color: #f0f8ff;}#sk-container-id-3 input.sk-toggleable__control:checked~div.sk-toggleable__content {max-height: 200px;max-width: 100%;overflow: auto;}#sk-container-id-3 input.sk-toggleable__control:checked~label.sk-toggleable__label-arrow:before {content: \"▾\";}#sk-container-id-3 div.sk-estimator input.sk-toggleable__control:checked~label.sk-toggleable__label {background-color: #d4ebff;}#sk-container-id-3 div.sk-label input.sk-toggleable__control:checked~label.sk-toggleable__label {background-color: #d4ebff;}#sk-container-id-3 input.sk-hidden--visually {border: 0;clip: rect(1px 1px 1px 1px);clip: rect(1px, 1px, 1px, 1px);height: 1px;margin: -1px;overflow: hidden;padding: 0;position: absolute;width: 1px;}#sk-container-id-3 div.sk-estimator {font-family: monospace;background-color: #f0f8ff;border: 1px dotted black;border-radius: 0.25em;box-sizing: border-box;margin-bottom: 0.5em;}#sk-container-id-3 div.sk-estimator:hover {background-color: #d4ebff;}#sk-container-id-3 div.sk-parallel-item::after {content: \"\";width: 100%;border-bottom: 1px solid gray;flex-grow: 1;}#sk-container-id-3 div.sk-label:hover label.sk-toggleable__label {background-color: #d4ebff;}#sk-container-id-3 div.sk-serial::before {content: \"\";position: absolute;border-left: 1px solid gray;box-sizing: border-box;top: 0;bottom: 0;left: 50%;z-index: 0;}#sk-container-id-3 div.sk-serial {display: flex;flex-direction: column;align-items: center;background-color: white;padding-right: 0.2em;padding-left: 0.2em;position: relative;}#sk-container-id-3 div.sk-item {position: relative;z-index: 1;}#sk-container-id-3 div.sk-parallel {display: flex;align-items: stretch;justify-content: center;background-color: white;position: relative;}#sk-container-id-3 div.sk-item::before, #sk-container-id-3 div.sk-parallel-item::before {content: \"\";position: absolute;border-left: 1px solid gray;box-sizing: border-box;top: 0;bottom: 0;left: 50%;z-index: -1;}#sk-container-id-3 div.sk-parallel-item {display: flex;flex-direction: column;z-index: 1;position: relative;background-color: white;}#sk-container-id-3 div.sk-parallel-item:first-child::after {align-self: flex-end;width: 50%;}#sk-container-id-3 div.sk-parallel-item:last-child::after {align-self: flex-start;width: 50%;}#sk-container-id-3 div.sk-parallel-item:only-child::after {width: 0;}#sk-container-id-3 div.sk-dashed-wrapped {border: 1px dashed gray;margin: 0 0.4em 0.5em 0.4em;box-sizing: border-box;padding-bottom: 0.4em;background-color: white;}#sk-container-id-3 div.sk-label label {font-family: monospace;font-weight: bold;display: inline-block;line-height: 1.2em;}#sk-container-id-3 div.sk-label-container {text-align: center;}#sk-container-id-3 div.sk-container {/* jupyter's `normalize.less` sets `[hidden] { display: none; }` but bootstrap.min.css set `[hidden] { display: none !important; }` so we also need the `!important` here to be able to override the default hidden behavior on the sphinx rendered scikit-learn.org. See: https://github.com/scikit-learn/scikit-learn/issues/21755 */display: inline-block !important;position: relative;}#sk-container-id-3 div.sk-text-repr-fallback {display: none;}</style><div id=\"sk-container-id-3\" class=\"sk-top-container\"><div class=\"sk-text-repr-fallback\"><pre>MultinomialNB(alpha=4)</pre><b>In a Jupyter environment, please rerun this cell to show the HTML representation or trust the notebook. <br />On GitHub, the HTML representation is unable to render, please try loading this page with nbviewer.org.</b></div><div class=\"sk-container\" hidden><div class=\"sk-item\"><div class=\"sk-estimator sk-toggleable\"><input class=\"sk-toggleable__control sk-hidden--visually\" id=\"sk-estimator-id-5\" type=\"checkbox\" checked><label for=\"sk-estimator-id-5\" class=\"sk-toggleable__label sk-toggleable__label-arrow\">MultinomialNB</label><div class=\"sk-toggleable__content\"><pre>MultinomialNB(alpha=4)</pre></div></div></div></div></div>"
      ],
      "text/plain": [
       "MultinomialNB(alpha=4)"
      ]
     },
     "execution_count": 26,
     "metadata": {},
     "output_type": "execute_result"
    }
   ],
   "source": [
    "grid_search.best_estimator_"
   ]
  },
  {
   "cell_type": "markdown",
   "id": "0f5fe6f1",
   "metadata": {},
   "source": [
    "Fit the MultinomialNB model where the hype parameter alpha = 4 and the fit_prior is the default value True"
   ]
  },
  {
   "cell_type": "code",
   "execution_count": 27,
   "id": "7086b963",
   "metadata": {},
   "outputs": [
    {
     "data": {
      "text/html": [
       "<style>#sk-container-id-4 {color: black;background-color: white;}#sk-container-id-4 pre{padding: 0;}#sk-container-id-4 div.sk-toggleable {background-color: white;}#sk-container-id-4 label.sk-toggleable__label {cursor: pointer;display: block;width: 100%;margin-bottom: 0;padding: 0.3em;box-sizing: border-box;text-align: center;}#sk-container-id-4 label.sk-toggleable__label-arrow:before {content: \"▸\";float: left;margin-right: 0.25em;color: #696969;}#sk-container-id-4 label.sk-toggleable__label-arrow:hover:before {color: black;}#sk-container-id-4 div.sk-estimator:hover label.sk-toggleable__label-arrow:before {color: black;}#sk-container-id-4 div.sk-toggleable__content {max-height: 0;max-width: 0;overflow: hidden;text-align: left;background-color: #f0f8ff;}#sk-container-id-4 div.sk-toggleable__content pre {margin: 0.2em;color: black;border-radius: 0.25em;background-color: #f0f8ff;}#sk-container-id-4 input.sk-toggleable__control:checked~div.sk-toggleable__content {max-height: 200px;max-width: 100%;overflow: auto;}#sk-container-id-4 input.sk-toggleable__control:checked~label.sk-toggleable__label-arrow:before {content: \"▾\";}#sk-container-id-4 div.sk-estimator input.sk-toggleable__control:checked~label.sk-toggleable__label {background-color: #d4ebff;}#sk-container-id-4 div.sk-label input.sk-toggleable__control:checked~label.sk-toggleable__label {background-color: #d4ebff;}#sk-container-id-4 input.sk-hidden--visually {border: 0;clip: rect(1px 1px 1px 1px);clip: rect(1px, 1px, 1px, 1px);height: 1px;margin: -1px;overflow: hidden;padding: 0;position: absolute;width: 1px;}#sk-container-id-4 div.sk-estimator {font-family: monospace;background-color: #f0f8ff;border: 1px dotted black;border-radius: 0.25em;box-sizing: border-box;margin-bottom: 0.5em;}#sk-container-id-4 div.sk-estimator:hover {background-color: #d4ebff;}#sk-container-id-4 div.sk-parallel-item::after {content: \"\";width: 100%;border-bottom: 1px solid gray;flex-grow: 1;}#sk-container-id-4 div.sk-label:hover label.sk-toggleable__label {background-color: #d4ebff;}#sk-container-id-4 div.sk-serial::before {content: \"\";position: absolute;border-left: 1px solid gray;box-sizing: border-box;top: 0;bottom: 0;left: 50%;z-index: 0;}#sk-container-id-4 div.sk-serial {display: flex;flex-direction: column;align-items: center;background-color: white;padding-right: 0.2em;padding-left: 0.2em;position: relative;}#sk-container-id-4 div.sk-item {position: relative;z-index: 1;}#sk-container-id-4 div.sk-parallel {display: flex;align-items: stretch;justify-content: center;background-color: white;position: relative;}#sk-container-id-4 div.sk-item::before, #sk-container-id-4 div.sk-parallel-item::before {content: \"\";position: absolute;border-left: 1px solid gray;box-sizing: border-box;top: 0;bottom: 0;left: 50%;z-index: -1;}#sk-container-id-4 div.sk-parallel-item {display: flex;flex-direction: column;z-index: 1;position: relative;background-color: white;}#sk-container-id-4 div.sk-parallel-item:first-child::after {align-self: flex-end;width: 50%;}#sk-container-id-4 div.sk-parallel-item:last-child::after {align-self: flex-start;width: 50%;}#sk-container-id-4 div.sk-parallel-item:only-child::after {width: 0;}#sk-container-id-4 div.sk-dashed-wrapped {border: 1px dashed gray;margin: 0 0.4em 0.5em 0.4em;box-sizing: border-box;padding-bottom: 0.4em;background-color: white;}#sk-container-id-4 div.sk-label label {font-family: monospace;font-weight: bold;display: inline-block;line-height: 1.2em;}#sk-container-id-4 div.sk-label-container {text-align: center;}#sk-container-id-4 div.sk-container {/* jupyter's `normalize.less` sets `[hidden] { display: none; }` but bootstrap.min.css set `[hidden] { display: none !important; }` so we also need the `!important` here to be able to override the default hidden behavior on the sphinx rendered scikit-learn.org. See: https://github.com/scikit-learn/scikit-learn/issues/21755 */display: inline-block !important;position: relative;}#sk-container-id-4 div.sk-text-repr-fallback {display: none;}</style><div id=\"sk-container-id-4\" class=\"sk-top-container\"><div class=\"sk-text-repr-fallback\"><pre>MultinomialNB(alpha=4)</pre><b>In a Jupyter environment, please rerun this cell to show the HTML representation or trust the notebook. <br />On GitHub, the HTML representation is unable to render, please try loading this page with nbviewer.org.</b></div><div class=\"sk-container\" hidden><div class=\"sk-item\"><div class=\"sk-estimator sk-toggleable\"><input class=\"sk-toggleable__control sk-hidden--visually\" id=\"sk-estimator-id-6\" type=\"checkbox\" checked><label for=\"sk-estimator-id-6\" class=\"sk-toggleable__label sk-toggleable__label-arrow\">MultinomialNB</label><div class=\"sk-toggleable__content\"><pre>MultinomialNB(alpha=4)</pre></div></div></div></div></div>"
      ],
      "text/plain": [
       "MultinomialNB(alpha=4)"
      ]
     },
     "execution_count": 27,
     "metadata": {},
     "output_type": "execute_result"
    }
   ],
   "source": [
    "multinomial_nb = MultinomialNB(alpha=4, fit_prior=True)\n",
    "multinomial_nb.fit(xs_train_prep, ys_train)"
   ]
  },
  {
   "cell_type": "markdown",
   "id": "0d7d4e9e",
   "metadata": {},
   "source": [
    "Predict the result and show the accuracy"
   ]
  },
  {
   "cell_type": "code",
   "execution_count": 28,
   "id": "a0305cce",
   "metadata": {},
   "outputs": [
    {
     "name": "stdout",
     "output_type": "stream",
     "text": [
      "Training accuracy: 0.790125\n",
      "MultinomialNB accuracy (after GridSearchCV): 0.7962\n",
      "              precision    recall  f1-score   support\n",
      "\n",
      "           0       0.85      0.90      0.87      4703\n",
      "           1       0.53      0.44      0.48      1297\n",
      "\n",
      "    accuracy                           0.80      6000\n",
      "   macro avg       0.69      0.67      0.68      6000\n",
      "weighted avg       0.78      0.80      0.79      6000\n",
      "\n"
     ]
    }
   ],
   "source": [
    "ys_train_pred = multinomial_nb.predict(xs_train_prep)\n",
    "accuracy_train = accuracy_score(ys_train, ys_train_pred)\n",
    "print('Training accuracy:', accuracy_train)\n",
    "ys_test_pred = multinomial_nb.predict(xs_test_prep)\n",
    "accuracy = accuracy_score(ys_test, ys_test_pred)\n",
    "print(f\"MultinomialNB accuracy (after GridSearchCV): {accuracy:.4f}\")\n",
    "print(classification_report(ys_test, ys_test_pred))"
   ]
  },
  {
   "cell_type": "markdown",
   "id": "3473c1a1",
   "metadata": {},
   "source": [
    "### It is noted that after hype parameter selection and cross-validation using GridSearchCV, the accuracy of test set is improved to 79.62%"
   ]
  },
  {
   "cell_type": "markdown",
   "id": "29ea2489",
   "metadata": {},
   "source": [
    "## GaussianNB\n",
    "Try another Naive Bayes model. This time we will directly use GridSearchCV to find the best model"
   ]
  },
  {
   "cell_type": "code",
   "execution_count": 29,
   "id": "e8a4bdc1",
   "metadata": {},
   "outputs": [
    {
     "data": {
      "text/plain": [
       "dict_keys(['priors', 'var_smoothing'])"
      ]
     },
     "execution_count": 29,
     "metadata": {},
     "output_type": "execute_result"
    }
   ],
   "source": [
    "GaussianNB().get_params().keys()"
   ]
  },
  {
   "cell_type": "markdown",
   "id": "8fd1d988",
   "metadata": {},
   "source": [
    "## GridsearchCV for hype parameters and validation\n",
    "Hype parameter and cross validation process\n",
    "\n",
    "Since we do not know the information about the prior probability of each category, we will not assign different values to priors parameter"
   ]
  },
  {
   "cell_type": "code",
   "execution_count": 30,
   "id": "ae4fc49d",
   "metadata": {
    "scrolled": true
   },
   "outputs": [
    {
     "name": "stdout",
     "output_type": "stream",
     "text": [
      "Fitting 5 folds for each of 6 candidates, totalling 30 fits\n",
      "[CV] END ................................var_smoothing=1e-09; total time=   0.0s\n",
      "[CV] END ................................var_smoothing=1e-09; total time=   0.0s\n",
      "[CV] END ................................var_smoothing=1e-09; total time=   0.0s\n",
      "[CV] END ................................var_smoothing=1e-09; total time=   0.0s\n",
      "[CV] END ................................var_smoothing=1e-09; total time=   0.0s\n",
      "[CV] END ..................................var_smoothing=0.5; total time=   0.0s\n",
      "[CV] END ..................................var_smoothing=0.5; total time=   0.0s\n",
      "[CV] END ..................................var_smoothing=0.5; total time=   0.0s\n",
      "[CV] END ..................................var_smoothing=0.5; total time=   0.0s\n",
      "[CV] END ..................................var_smoothing=0.5; total time=   0.0s\n",
      "[CV] END ..................................var_smoothing=0.6; total time=   0.0s\n",
      "[CV] END ..................................var_smoothing=0.6; total time=   0.0s\n",
      "[CV] END ..................................var_smoothing=0.6; total time=   0.0s\n",
      "[CV] END ..................................var_smoothing=0.6; total time=   0.0s\n",
      "[CV] END ..................................var_smoothing=0.6; total time=   0.0s\n",
      "[CV] END ..................................var_smoothing=0.7; total time=   0.0s\n",
      "[CV] END ..................................var_smoothing=0.7; total time=   0.0s\n",
      "[CV] END ..................................var_smoothing=0.7; total time=   0.0s\n",
      "[CV] END ..................................var_smoothing=0.7; total time=   0.0s\n",
      "[CV] END ..................................var_smoothing=0.7; total time=   0.0s\n",
      "[CV] END ..................................var_smoothing=0.8; total time=   0.0s\n",
      "[CV] END ..................................var_smoothing=0.8; total time=   0.0s\n",
      "[CV] END ..................................var_smoothing=0.8; total time=   0.0s\n",
      "[CV] END ..................................var_smoothing=0.8; total time=   0.0s\n",
      "[CV] END ..................................var_smoothing=0.8; total time=   0.0s\n",
      "[CV] END ..................................var_smoothing=0.9; total time=   0.0s\n",
      "[CV] END ..................................var_smoothing=0.9; total time=   0.0s\n",
      "[CV] END ..................................var_smoothing=0.9; total time=   0.0s\n",
      "[CV] END ..................................var_smoothing=0.9; total time=   0.0s\n",
      "[CV] END ..................................var_smoothing=0.9; total time=   0.0s\n"
     ]
    },
    {
     "data": {
      "text/html": [
       "<style>#sk-container-id-5 {color: black;background-color: white;}#sk-container-id-5 pre{padding: 0;}#sk-container-id-5 div.sk-toggleable {background-color: white;}#sk-container-id-5 label.sk-toggleable__label {cursor: pointer;display: block;width: 100%;margin-bottom: 0;padding: 0.3em;box-sizing: border-box;text-align: center;}#sk-container-id-5 label.sk-toggleable__label-arrow:before {content: \"▸\";float: left;margin-right: 0.25em;color: #696969;}#sk-container-id-5 label.sk-toggleable__label-arrow:hover:before {color: black;}#sk-container-id-5 div.sk-estimator:hover label.sk-toggleable__label-arrow:before {color: black;}#sk-container-id-5 div.sk-toggleable__content {max-height: 0;max-width: 0;overflow: hidden;text-align: left;background-color: #f0f8ff;}#sk-container-id-5 div.sk-toggleable__content pre {margin: 0.2em;color: black;border-radius: 0.25em;background-color: #f0f8ff;}#sk-container-id-5 input.sk-toggleable__control:checked~div.sk-toggleable__content {max-height: 200px;max-width: 100%;overflow: auto;}#sk-container-id-5 input.sk-toggleable__control:checked~label.sk-toggleable__label-arrow:before {content: \"▾\";}#sk-container-id-5 div.sk-estimator input.sk-toggleable__control:checked~label.sk-toggleable__label {background-color: #d4ebff;}#sk-container-id-5 div.sk-label input.sk-toggleable__control:checked~label.sk-toggleable__label {background-color: #d4ebff;}#sk-container-id-5 input.sk-hidden--visually {border: 0;clip: rect(1px 1px 1px 1px);clip: rect(1px, 1px, 1px, 1px);height: 1px;margin: -1px;overflow: hidden;padding: 0;position: absolute;width: 1px;}#sk-container-id-5 div.sk-estimator {font-family: monospace;background-color: #f0f8ff;border: 1px dotted black;border-radius: 0.25em;box-sizing: border-box;margin-bottom: 0.5em;}#sk-container-id-5 div.sk-estimator:hover {background-color: #d4ebff;}#sk-container-id-5 div.sk-parallel-item::after {content: \"\";width: 100%;border-bottom: 1px solid gray;flex-grow: 1;}#sk-container-id-5 div.sk-label:hover label.sk-toggleable__label {background-color: #d4ebff;}#sk-container-id-5 div.sk-serial::before {content: \"\";position: absolute;border-left: 1px solid gray;box-sizing: border-box;top: 0;bottom: 0;left: 50%;z-index: 0;}#sk-container-id-5 div.sk-serial {display: flex;flex-direction: column;align-items: center;background-color: white;padding-right: 0.2em;padding-left: 0.2em;position: relative;}#sk-container-id-5 div.sk-item {position: relative;z-index: 1;}#sk-container-id-5 div.sk-parallel {display: flex;align-items: stretch;justify-content: center;background-color: white;position: relative;}#sk-container-id-5 div.sk-item::before, #sk-container-id-5 div.sk-parallel-item::before {content: \"\";position: absolute;border-left: 1px solid gray;box-sizing: border-box;top: 0;bottom: 0;left: 50%;z-index: -1;}#sk-container-id-5 div.sk-parallel-item {display: flex;flex-direction: column;z-index: 1;position: relative;background-color: white;}#sk-container-id-5 div.sk-parallel-item:first-child::after {align-self: flex-end;width: 50%;}#sk-container-id-5 div.sk-parallel-item:last-child::after {align-self: flex-start;width: 50%;}#sk-container-id-5 div.sk-parallel-item:only-child::after {width: 0;}#sk-container-id-5 div.sk-dashed-wrapped {border: 1px dashed gray;margin: 0 0.4em 0.5em 0.4em;box-sizing: border-box;padding-bottom: 0.4em;background-color: white;}#sk-container-id-5 div.sk-label label {font-family: monospace;font-weight: bold;display: inline-block;line-height: 1.2em;}#sk-container-id-5 div.sk-label-container {text-align: center;}#sk-container-id-5 div.sk-container {/* jupyter's `normalize.less` sets `[hidden] { display: none; }` but bootstrap.min.css set `[hidden] { display: none !important; }` so we also need the `!important` here to be able to override the default hidden behavior on the sphinx rendered scikit-learn.org. See: https://github.com/scikit-learn/scikit-learn/issues/21755 */display: inline-block !important;position: relative;}#sk-container-id-5 div.sk-text-repr-fallback {display: none;}</style><div id=\"sk-container-id-5\" class=\"sk-top-container\"><div class=\"sk-text-repr-fallback\"><pre>GridSearchCV(cv=5, estimator=GaussianNB(),\n",
       "             param_grid=[{&#x27;var_smoothing&#x27;: [1e-09, 0.5, 0.6, 0.7, 0.8, 0.9]}],\n",
       "             verbose=2)</pre><b>In a Jupyter environment, please rerun this cell to show the HTML representation or trust the notebook. <br />On GitHub, the HTML representation is unable to render, please try loading this page with nbviewer.org.</b></div><div class=\"sk-container\" hidden><div class=\"sk-item sk-dashed-wrapped\"><div class=\"sk-label-container\"><div class=\"sk-label sk-toggleable\"><input class=\"sk-toggleable__control sk-hidden--visually\" id=\"sk-estimator-id-7\" type=\"checkbox\" ><label for=\"sk-estimator-id-7\" class=\"sk-toggleable__label sk-toggleable__label-arrow\">GridSearchCV</label><div class=\"sk-toggleable__content\"><pre>GridSearchCV(cv=5, estimator=GaussianNB(),\n",
       "             param_grid=[{&#x27;var_smoothing&#x27;: [1e-09, 0.5, 0.6, 0.7, 0.8, 0.9]}],\n",
       "             verbose=2)</pre></div></div></div><div class=\"sk-parallel\"><div class=\"sk-parallel-item\"><div class=\"sk-item\"><div class=\"sk-label-container\"><div class=\"sk-label sk-toggleable\"><input class=\"sk-toggleable__control sk-hidden--visually\" id=\"sk-estimator-id-8\" type=\"checkbox\" ><label for=\"sk-estimator-id-8\" class=\"sk-toggleable__label sk-toggleable__label-arrow\">estimator: GaussianNB</label><div class=\"sk-toggleable__content\"><pre>GaussianNB()</pre></div></div></div><div class=\"sk-serial\"><div class=\"sk-item\"><div class=\"sk-estimator sk-toggleable\"><input class=\"sk-toggleable__control sk-hidden--visually\" id=\"sk-estimator-id-9\" type=\"checkbox\" ><label for=\"sk-estimator-id-9\" class=\"sk-toggleable__label sk-toggleable__label-arrow\">GaussianNB</label><div class=\"sk-toggleable__content\"><pre>GaussianNB()</pre></div></div></div></div></div></div></div></div></div></div>"
      ],
      "text/plain": [
       "GridSearchCV(cv=5, estimator=GaussianNB(),\n",
       "             param_grid=[{'var_smoothing': [1e-09, 0.5, 0.6, 0.7, 0.8, 0.9]}],\n",
       "             verbose=2)"
      ]
     },
     "execution_count": 30,
     "metadata": {},
     "output_type": "execute_result"
    }
   ],
   "source": [
    "param_grid = [{\n",
    "    'var_smoothing': [1e-9, 0.5, 0.6, 0.7, 0.8, 0.9]}]\n",
    "gaussion_nb = GaussianNB()\n",
    "grid_search = GridSearchCV(gaussion_nb, param_grid, cv=5, verbose=2)\n",
    "grid_search.fit(np.asarray(xs_train_prep.todense()), ys_train)"
   ]
  },
  {
   "cell_type": "markdown",
   "id": "8607c1ff",
   "metadata": {},
   "source": [
    "Find the best hype parameters of GaussianNB"
   ]
  },
  {
   "cell_type": "code",
   "execution_count": 31,
   "id": "291f0c9e",
   "metadata": {},
   "outputs": [
    {
     "data": {
      "text/html": [
       "<style>#sk-container-id-6 {color: black;background-color: white;}#sk-container-id-6 pre{padding: 0;}#sk-container-id-6 div.sk-toggleable {background-color: white;}#sk-container-id-6 label.sk-toggleable__label {cursor: pointer;display: block;width: 100%;margin-bottom: 0;padding: 0.3em;box-sizing: border-box;text-align: center;}#sk-container-id-6 label.sk-toggleable__label-arrow:before {content: \"▸\";float: left;margin-right: 0.25em;color: #696969;}#sk-container-id-6 label.sk-toggleable__label-arrow:hover:before {color: black;}#sk-container-id-6 div.sk-estimator:hover label.sk-toggleable__label-arrow:before {color: black;}#sk-container-id-6 div.sk-toggleable__content {max-height: 0;max-width: 0;overflow: hidden;text-align: left;background-color: #f0f8ff;}#sk-container-id-6 div.sk-toggleable__content pre {margin: 0.2em;color: black;border-radius: 0.25em;background-color: #f0f8ff;}#sk-container-id-6 input.sk-toggleable__control:checked~div.sk-toggleable__content {max-height: 200px;max-width: 100%;overflow: auto;}#sk-container-id-6 input.sk-toggleable__control:checked~label.sk-toggleable__label-arrow:before {content: \"▾\";}#sk-container-id-6 div.sk-estimator input.sk-toggleable__control:checked~label.sk-toggleable__label {background-color: #d4ebff;}#sk-container-id-6 div.sk-label input.sk-toggleable__control:checked~label.sk-toggleable__label {background-color: #d4ebff;}#sk-container-id-6 input.sk-hidden--visually {border: 0;clip: rect(1px 1px 1px 1px);clip: rect(1px, 1px, 1px, 1px);height: 1px;margin: -1px;overflow: hidden;padding: 0;position: absolute;width: 1px;}#sk-container-id-6 div.sk-estimator {font-family: monospace;background-color: #f0f8ff;border: 1px dotted black;border-radius: 0.25em;box-sizing: border-box;margin-bottom: 0.5em;}#sk-container-id-6 div.sk-estimator:hover {background-color: #d4ebff;}#sk-container-id-6 div.sk-parallel-item::after {content: \"\";width: 100%;border-bottom: 1px solid gray;flex-grow: 1;}#sk-container-id-6 div.sk-label:hover label.sk-toggleable__label {background-color: #d4ebff;}#sk-container-id-6 div.sk-serial::before {content: \"\";position: absolute;border-left: 1px solid gray;box-sizing: border-box;top: 0;bottom: 0;left: 50%;z-index: 0;}#sk-container-id-6 div.sk-serial {display: flex;flex-direction: column;align-items: center;background-color: white;padding-right: 0.2em;padding-left: 0.2em;position: relative;}#sk-container-id-6 div.sk-item {position: relative;z-index: 1;}#sk-container-id-6 div.sk-parallel {display: flex;align-items: stretch;justify-content: center;background-color: white;position: relative;}#sk-container-id-6 div.sk-item::before, #sk-container-id-6 div.sk-parallel-item::before {content: \"\";position: absolute;border-left: 1px solid gray;box-sizing: border-box;top: 0;bottom: 0;left: 50%;z-index: -1;}#sk-container-id-6 div.sk-parallel-item {display: flex;flex-direction: column;z-index: 1;position: relative;background-color: white;}#sk-container-id-6 div.sk-parallel-item:first-child::after {align-self: flex-end;width: 50%;}#sk-container-id-6 div.sk-parallel-item:last-child::after {align-self: flex-start;width: 50%;}#sk-container-id-6 div.sk-parallel-item:only-child::after {width: 0;}#sk-container-id-6 div.sk-dashed-wrapped {border: 1px dashed gray;margin: 0 0.4em 0.5em 0.4em;box-sizing: border-box;padding-bottom: 0.4em;background-color: white;}#sk-container-id-6 div.sk-label label {font-family: monospace;font-weight: bold;display: inline-block;line-height: 1.2em;}#sk-container-id-6 div.sk-label-container {text-align: center;}#sk-container-id-6 div.sk-container {/* jupyter's `normalize.less` sets `[hidden] { display: none; }` but bootstrap.min.css set `[hidden] { display: none !important; }` so we also need the `!important` here to be able to override the default hidden behavior on the sphinx rendered scikit-learn.org. See: https://github.com/scikit-learn/scikit-learn/issues/21755 */display: inline-block !important;position: relative;}#sk-container-id-6 div.sk-text-repr-fallback {display: none;}</style><div id=\"sk-container-id-6\" class=\"sk-top-container\"><div class=\"sk-text-repr-fallback\"><pre>GaussianNB(var_smoothing=0.7)</pre><b>In a Jupyter environment, please rerun this cell to show the HTML representation or trust the notebook. <br />On GitHub, the HTML representation is unable to render, please try loading this page with nbviewer.org.</b></div><div class=\"sk-container\" hidden><div class=\"sk-item\"><div class=\"sk-estimator sk-toggleable\"><input class=\"sk-toggleable__control sk-hidden--visually\" id=\"sk-estimator-id-10\" type=\"checkbox\" checked><label for=\"sk-estimator-id-10\" class=\"sk-toggleable__label sk-toggleable__label-arrow\">GaussianNB</label><div class=\"sk-toggleable__content\"><pre>GaussianNB(var_smoothing=0.7)</pre></div></div></div></div></div>"
      ],
      "text/plain": [
       "GaussianNB(var_smoothing=0.7)"
      ]
     },
     "execution_count": 31,
     "metadata": {},
     "output_type": "execute_result"
    }
   ],
   "source": [
    "grid_search.best_estimator_"
   ]
  },
  {
   "cell_type": "markdown",
   "id": "636eca8d",
   "metadata": {},
   "source": [
    "Fit the GaussianNB model where the hype parameter var_smoothing = 0.7 and the priors is the default value. It is noted that the var_smoothing is 0.7, which is not a boundary value for the range, so this parameter is the best hype parameter for this model"
   ]
  },
  {
   "cell_type": "code",
   "execution_count": 32,
   "id": "dc13df70",
   "metadata": {},
   "outputs": [
    {
     "data": {
      "text/html": [
       "<style>#sk-container-id-7 {color: black;background-color: white;}#sk-container-id-7 pre{padding: 0;}#sk-container-id-7 div.sk-toggleable {background-color: white;}#sk-container-id-7 label.sk-toggleable__label {cursor: pointer;display: block;width: 100%;margin-bottom: 0;padding: 0.3em;box-sizing: border-box;text-align: center;}#sk-container-id-7 label.sk-toggleable__label-arrow:before {content: \"▸\";float: left;margin-right: 0.25em;color: #696969;}#sk-container-id-7 label.sk-toggleable__label-arrow:hover:before {color: black;}#sk-container-id-7 div.sk-estimator:hover label.sk-toggleable__label-arrow:before {color: black;}#sk-container-id-7 div.sk-toggleable__content {max-height: 0;max-width: 0;overflow: hidden;text-align: left;background-color: #f0f8ff;}#sk-container-id-7 div.sk-toggleable__content pre {margin: 0.2em;color: black;border-radius: 0.25em;background-color: #f0f8ff;}#sk-container-id-7 input.sk-toggleable__control:checked~div.sk-toggleable__content {max-height: 200px;max-width: 100%;overflow: auto;}#sk-container-id-7 input.sk-toggleable__control:checked~label.sk-toggleable__label-arrow:before {content: \"▾\";}#sk-container-id-7 div.sk-estimator input.sk-toggleable__control:checked~label.sk-toggleable__label {background-color: #d4ebff;}#sk-container-id-7 div.sk-label input.sk-toggleable__control:checked~label.sk-toggleable__label {background-color: #d4ebff;}#sk-container-id-7 input.sk-hidden--visually {border: 0;clip: rect(1px 1px 1px 1px);clip: rect(1px, 1px, 1px, 1px);height: 1px;margin: -1px;overflow: hidden;padding: 0;position: absolute;width: 1px;}#sk-container-id-7 div.sk-estimator {font-family: monospace;background-color: #f0f8ff;border: 1px dotted black;border-radius: 0.25em;box-sizing: border-box;margin-bottom: 0.5em;}#sk-container-id-7 div.sk-estimator:hover {background-color: #d4ebff;}#sk-container-id-7 div.sk-parallel-item::after {content: \"\";width: 100%;border-bottom: 1px solid gray;flex-grow: 1;}#sk-container-id-7 div.sk-label:hover label.sk-toggleable__label {background-color: #d4ebff;}#sk-container-id-7 div.sk-serial::before {content: \"\";position: absolute;border-left: 1px solid gray;box-sizing: border-box;top: 0;bottom: 0;left: 50%;z-index: 0;}#sk-container-id-7 div.sk-serial {display: flex;flex-direction: column;align-items: center;background-color: white;padding-right: 0.2em;padding-left: 0.2em;position: relative;}#sk-container-id-7 div.sk-item {position: relative;z-index: 1;}#sk-container-id-7 div.sk-parallel {display: flex;align-items: stretch;justify-content: center;background-color: white;position: relative;}#sk-container-id-7 div.sk-item::before, #sk-container-id-7 div.sk-parallel-item::before {content: \"\";position: absolute;border-left: 1px solid gray;box-sizing: border-box;top: 0;bottom: 0;left: 50%;z-index: -1;}#sk-container-id-7 div.sk-parallel-item {display: flex;flex-direction: column;z-index: 1;position: relative;background-color: white;}#sk-container-id-7 div.sk-parallel-item:first-child::after {align-self: flex-end;width: 50%;}#sk-container-id-7 div.sk-parallel-item:last-child::after {align-self: flex-start;width: 50%;}#sk-container-id-7 div.sk-parallel-item:only-child::after {width: 0;}#sk-container-id-7 div.sk-dashed-wrapped {border: 1px dashed gray;margin: 0 0.4em 0.5em 0.4em;box-sizing: border-box;padding-bottom: 0.4em;background-color: white;}#sk-container-id-7 div.sk-label label {font-family: monospace;font-weight: bold;display: inline-block;line-height: 1.2em;}#sk-container-id-7 div.sk-label-container {text-align: center;}#sk-container-id-7 div.sk-container {/* jupyter's `normalize.less` sets `[hidden] { display: none; }` but bootstrap.min.css set `[hidden] { display: none !important; }` so we also need the `!important` here to be able to override the default hidden behavior on the sphinx rendered scikit-learn.org. See: https://github.com/scikit-learn/scikit-learn/issues/21755 */display: inline-block !important;position: relative;}#sk-container-id-7 div.sk-text-repr-fallback {display: none;}</style><div id=\"sk-container-id-7\" class=\"sk-top-container\"><div class=\"sk-text-repr-fallback\"><pre>GaussianNB(var_smoothing=0.7)</pre><b>In a Jupyter environment, please rerun this cell to show the HTML representation or trust the notebook. <br />On GitHub, the HTML representation is unable to render, please try loading this page with nbviewer.org.</b></div><div class=\"sk-container\" hidden><div class=\"sk-item\"><div class=\"sk-estimator sk-toggleable\"><input class=\"sk-toggleable__control sk-hidden--visually\" id=\"sk-estimator-id-11\" type=\"checkbox\" checked><label for=\"sk-estimator-id-11\" class=\"sk-toggleable__label sk-toggleable__label-arrow\">GaussianNB</label><div class=\"sk-toggleable__content\"><pre>GaussianNB(var_smoothing=0.7)</pre></div></div></div></div></div>"
      ],
      "text/plain": [
       "GaussianNB(var_smoothing=0.7)"
      ]
     },
     "execution_count": 32,
     "metadata": {},
     "output_type": "execute_result"
    }
   ],
   "source": [
    "gaussion_nb = GaussianNB(priors=None, var_smoothing=0.7)\n",
    "gaussion_nb.fit(np.asarray(xs_train_prep.todense()), ys_train)"
   ]
  },
  {
   "cell_type": "markdown",
   "id": "be885b36",
   "metadata": {},
   "source": [
    "Predict the result and show the accuracy"
   ]
  },
  {
   "cell_type": "code",
   "execution_count": 33,
   "id": "a949db49",
   "metadata": {},
   "outputs": [
    {
     "name": "stdout",
     "output_type": "stream",
     "text": [
      "Training accuracy: 0.790125\n",
      "GaussianNB accuracy (after GridSearchCV): 0.8085\n",
      "              precision    recall  f1-score   support\n",
      "\n",
      "           0       0.83      0.95      0.89      4703\n",
      "           1       0.63      0.28      0.39      1297\n",
      "\n",
      "    accuracy                           0.81      6000\n",
      "   macro avg       0.73      0.62      0.64      6000\n",
      "weighted avg       0.78      0.81      0.78      6000\n",
      "\n"
     ]
    }
   ],
   "source": [
    "ys_train_pred = multinomial_nb.predict(np.asarray(xs_train_prep.todense()))\n",
    "accuracy_train = accuracy_score(ys_train, ys_train_pred)\n",
    "print('Training accuracy:', accuracy_train)\n",
    "ys_test_pred = gaussion_nb.predict(np.asarray(xs_test_prep.todense()))\n",
    "accuracy = accuracy_score(ys_test, ys_test_pred)\n",
    "print(f\"GaussianNB accuracy (after GridSearchCV): {accuracy:.4f}\")\n",
    "print(classification_report(ys_test, ys_test_pred))"
   ]
  },
  {
   "cell_type": "markdown",
   "id": "b58463cc",
   "metadata": {},
   "source": [
    "### It is noted that slight 1.2% accuracy improvement using GaussianNB over MultinomialNB"
   ]
  },
  {
   "cell_type": "markdown",
   "id": "246a5b84",
   "metadata": {},
   "source": [
    "## BernoulliNB\n",
    "Try another Naive Bayes model"
   ]
  },
  {
   "cell_type": "code",
   "execution_count": 34,
   "id": "2b669ade",
   "metadata": {
    "scrolled": true
   },
   "outputs": [
    {
     "data": {
      "text/plain": [
       "dict_keys(['alpha', 'binarize', 'class_prior', 'fit_prior', 'force_alpha'])"
      ]
     },
     "execution_count": 34,
     "metadata": {},
     "output_type": "execute_result"
    }
   ],
   "source": [
    "BernoulliNB().get_params().keys()"
   ]
  },
  {
   "cell_type": "markdown",
   "id": "b2258a66",
   "metadata": {},
   "source": [
    "Hype parameter and cross validation process\n",
    "\n",
    "Here I will not set the value of class_prior as I do not know the prior probability of each attribute of the dataset. At the same time, the fit_prior is not be set so that the model will learn the priori probability\n",
    "\n",
    "Also, as I set the value of alpha, the force_alpha will be set as the default value False to use the alpha parameter passed to the classifier"
   ]
  },
  {
   "cell_type": "code",
   "execution_count": 35,
   "id": "5fe7cc39",
   "metadata": {
    "scrolled": true
   },
   "outputs": [
    {
     "name": "stdout",
     "output_type": "stream",
     "text": [
      "Fitting 5 folds for each of 20 candidates, totalling 100 fits\n",
      "[CV] END ..............................alpha=-1, binarize=-5; total time=   0.0s\n",
      "[CV] END ..............................alpha=-1, binarize=-5; total time=   0.0s\n",
      "[CV] END ..............................alpha=-1, binarize=-5; total time=   0.0s\n",
      "[CV] END ..............................alpha=-1, binarize=-5; total time=   0.0s\n",
      "[CV] END ..............................alpha=-1, binarize=-5; total time=   0.0s\n",
      "[CV] END ............................alpha=-1, binarize=None; total time=   0.0s\n",
      "[CV] END ............................alpha=-1, binarize=None; total time=   0.0s\n",
      "[CV] END ............................alpha=-1, binarize=None; total time=   0.0s\n",
      "[CV] END ............................alpha=-1, binarize=None; total time=   0.0s\n",
      "[CV] END ............................alpha=-1, binarize=None; total time=   0.0s\n",
      "[CV] END ...............................alpha=-1, binarize=5; total time=   0.0s\n",
      "[CV] END ...............................alpha=-1, binarize=5; total time=   0.0s\n",
      "[CV] END ...............................alpha=-1, binarize=5; total time=   0.0s\n",
      "[CV] END ...............................alpha=-1, binarize=5; total time=   0.0s\n",
      "[CV] END ...............................alpha=-1, binarize=5; total time=   0.0s\n",
      "[CV] END ..............................alpha=-1, binarize=10; total time=   0.0s\n",
      "[CV] END ..............................alpha=-1, binarize=10; total time=   0.0s\n",
      "[CV] END ..............................alpha=-1, binarize=10; total time=   0.0s\n",
      "[CV] END ..............................alpha=-1, binarize=10; total time=   0.0s\n",
      "[CV] END ..............................alpha=-1, binarize=10; total time=   0.0s\n",
      "[CV] END ..............................alpha=-1, binarize=20; total time=   0.0s\n",
      "[CV] END ..............................alpha=-1, binarize=20; total time=   0.0s\n",
      "[CV] END ..............................alpha=-1, binarize=20; total time=   0.0s\n",
      "[CV] END ..............................alpha=-1, binarize=20; total time=   0.0s\n",
      "[CV] END ..............................alpha=-1, binarize=20; total time=   0.0s\n",
      "[CV] END ...............................alpha=0, binarize=-5; total time=   0.0s\n",
      "[CV] END ...............................alpha=0, binarize=-5; total time=   0.0s\n",
      "[CV] END ...............................alpha=0, binarize=-5; total time=   0.0s\n",
      "[CV] END ...............................alpha=0, binarize=-5; total time=   0.0s\n",
      "[CV] END ...............................alpha=0, binarize=-5; total time=   0.0s\n",
      "[CV] END .............................alpha=0, binarize=None; total time=   0.0s\n",
      "[CV] END .............................alpha=0, binarize=None; total time=   0.0s\n",
      "[CV] END .............................alpha=0, binarize=None; total time=   0.0s\n",
      "[CV] END .............................alpha=0, binarize=None; total time=   0.0s\n",
      "[CV] END .............................alpha=0, binarize=None; total time=   0.0s\n",
      "[CV] END ................................alpha=0, binarize=5; total time=   0.0s\n",
      "[CV] END ................................alpha=0, binarize=5; total time=   0.0s\n",
      "[CV] END ................................alpha=0, binarize=5; total time=   0.0s\n",
      "[CV] END ................................alpha=0, binarize=5; total time=   0.0s\n"
     ]
    },
    {
     "name": "stderr",
     "output_type": "stream",
     "text": [
      "D:\\Anaconda\\lib\\site-packages\\sklearn\\naive_bayes.py:629: FutureWarning: The default value for `force_alpha` will change to `True` in 1.4. To suppress this warning, manually set the value of `force_alpha`.\n",
      "  warnings.warn(\n",
      "D:\\Anaconda\\lib\\site-packages\\sklearn\\naive_bayes.py:635: UserWarning: alpha too small will result in numeric errors, setting alpha = 1.0e-10. Use `force_alpha=True` to keep alpha unchanged.\n",
      "  warnings.warn(\n",
      "D:\\Anaconda\\lib\\site-packages\\sklearn\\naive_bayes.py:1231: RuntimeWarning: invalid value encountered in log\n",
      "  neg_prob = np.log(1 - np.exp(self.feature_log_prob_))\n",
      "D:\\Anaconda\\lib\\site-packages\\sklearn\\naive_bayes.py:629: FutureWarning: The default value for `force_alpha` will change to `True` in 1.4. To suppress this warning, manually set the value of `force_alpha`.\n",
      "  warnings.warn(\n",
      "D:\\Anaconda\\lib\\site-packages\\sklearn\\naive_bayes.py:635: UserWarning: alpha too small will result in numeric errors, setting alpha = 1.0e-10. Use `force_alpha=True` to keep alpha unchanged.\n",
      "  warnings.warn(\n",
      "D:\\Anaconda\\lib\\site-packages\\sklearn\\naive_bayes.py:1231: RuntimeWarning: invalid value encountered in log\n",
      "  neg_prob = np.log(1 - np.exp(self.feature_log_prob_))\n",
      "D:\\Anaconda\\lib\\site-packages\\sklearn\\naive_bayes.py:629: FutureWarning: The default value for `force_alpha` will change to `True` in 1.4. To suppress this warning, manually set the value of `force_alpha`.\n",
      "  warnings.warn(\n",
      "D:\\Anaconda\\lib\\site-packages\\sklearn\\naive_bayes.py:635: UserWarning: alpha too small will result in numeric errors, setting alpha = 1.0e-10. Use `force_alpha=True` to keep alpha unchanged.\n",
      "  warnings.warn(\n",
      "D:\\Anaconda\\lib\\site-packages\\sklearn\\naive_bayes.py:1231: RuntimeWarning: invalid value encountered in log\n",
      "  neg_prob = np.log(1 - np.exp(self.feature_log_prob_))\n",
      "D:\\Anaconda\\lib\\site-packages\\sklearn\\naive_bayes.py:629: FutureWarning: The default value for `force_alpha` will change to `True` in 1.4. To suppress this warning, manually set the value of `force_alpha`.\n",
      "  warnings.warn(\n",
      "D:\\Anaconda\\lib\\site-packages\\sklearn\\naive_bayes.py:635: UserWarning: alpha too small will result in numeric errors, setting alpha = 1.0e-10. Use `force_alpha=True` to keep alpha unchanged.\n",
      "  warnings.warn(\n",
      "D:\\Anaconda\\lib\\site-packages\\sklearn\\naive_bayes.py:1231: RuntimeWarning: invalid value encountered in log\n",
      "  neg_prob = np.log(1 - np.exp(self.feature_log_prob_))\n",
      "D:\\Anaconda\\lib\\site-packages\\sklearn\\naive_bayes.py:629: FutureWarning: The default value for `force_alpha` will change to `True` in 1.4. To suppress this warning, manually set the value of `force_alpha`.\n",
      "  warnings.warn(\n",
      "D:\\Anaconda\\lib\\site-packages\\sklearn\\naive_bayes.py:635: UserWarning: alpha too small will result in numeric errors, setting alpha = 1.0e-10. Use `force_alpha=True` to keep alpha unchanged.\n",
      "  warnings.warn(\n",
      "D:\\Anaconda\\lib\\site-packages\\sklearn\\naive_bayes.py:1231: RuntimeWarning: invalid value encountered in log\n",
      "  neg_prob = np.log(1 - np.exp(self.feature_log_prob_))\n",
      "D:\\Anaconda\\lib\\site-packages\\sklearn\\naive_bayes.py:629: FutureWarning: The default value for `force_alpha` will change to `True` in 1.4. To suppress this warning, manually set the value of `force_alpha`.\n",
      "  warnings.warn(\n",
      "D:\\Anaconda\\lib\\site-packages\\sklearn\\naive_bayes.py:635: UserWarning: alpha too small will result in numeric errors, setting alpha = 1.0e-10. Use `force_alpha=True` to keep alpha unchanged.\n",
      "  warnings.warn(\n",
      "D:\\Anaconda\\lib\\site-packages\\sklearn\\naive_bayes.py:629: FutureWarning: The default value for `force_alpha` will change to `True` in 1.4. To suppress this warning, manually set the value of `force_alpha`.\n",
      "  warnings.warn(\n",
      "D:\\Anaconda\\lib\\site-packages\\sklearn\\naive_bayes.py:635: UserWarning: alpha too small will result in numeric errors, setting alpha = 1.0e-10. Use `force_alpha=True` to keep alpha unchanged.\n",
      "  warnings.warn(\n",
      "D:\\Anaconda\\lib\\site-packages\\sklearn\\naive_bayes.py:629: FutureWarning: The default value for `force_alpha` will change to `True` in 1.4. To suppress this warning, manually set the value of `force_alpha`.\n",
      "  warnings.warn(\n",
      "D:\\Anaconda\\lib\\site-packages\\sklearn\\naive_bayes.py:635: UserWarning: alpha too small will result in numeric errors, setting alpha = 1.0e-10. Use `force_alpha=True` to keep alpha unchanged.\n",
      "  warnings.warn(\n",
      "D:\\Anaconda\\lib\\site-packages\\sklearn\\naive_bayes.py:629: FutureWarning: The default value for `force_alpha` will change to `True` in 1.4. To suppress this warning, manually set the value of `force_alpha`.\n",
      "  warnings.warn(\n",
      "D:\\Anaconda\\lib\\site-packages\\sklearn\\naive_bayes.py:635: UserWarning: alpha too small will result in numeric errors, setting alpha = 1.0e-10. Use `force_alpha=True` to keep alpha unchanged.\n",
      "  warnings.warn(\n",
      "D:\\Anaconda\\lib\\site-packages\\sklearn\\naive_bayes.py:629: FutureWarning: The default value for `force_alpha` will change to `True` in 1.4. To suppress this warning, manually set the value of `force_alpha`.\n",
      "  warnings.warn(\n",
      "D:\\Anaconda\\lib\\site-packages\\sklearn\\naive_bayes.py:635: UserWarning: alpha too small will result in numeric errors, setting alpha = 1.0e-10. Use `force_alpha=True` to keep alpha unchanged.\n",
      "  warnings.warn(\n",
      "D:\\Anaconda\\lib\\site-packages\\sklearn\\naive_bayes.py:629: FutureWarning: The default value for `force_alpha` will change to `True` in 1.4. To suppress this warning, manually set the value of `force_alpha`.\n",
      "  warnings.warn(\n",
      "D:\\Anaconda\\lib\\site-packages\\sklearn\\naive_bayes.py:635: UserWarning: alpha too small will result in numeric errors, setting alpha = 1.0e-10. Use `force_alpha=True` to keep alpha unchanged.\n",
      "  warnings.warn(\n",
      "D:\\Anaconda\\lib\\site-packages\\sklearn\\naive_bayes.py:629: FutureWarning: The default value for `force_alpha` will change to `True` in 1.4. To suppress this warning, manually set the value of `force_alpha`.\n",
      "  warnings.warn(\n",
      "D:\\Anaconda\\lib\\site-packages\\sklearn\\naive_bayes.py:635: UserWarning: alpha too small will result in numeric errors, setting alpha = 1.0e-10. Use `force_alpha=True` to keep alpha unchanged.\n",
      "  warnings.warn(\n",
      "D:\\Anaconda\\lib\\site-packages\\sklearn\\naive_bayes.py:629: FutureWarning: The default value for `force_alpha` will change to `True` in 1.4. To suppress this warning, manually set the value of `force_alpha`.\n",
      "  warnings.warn(\n",
      "D:\\Anaconda\\lib\\site-packages\\sklearn\\naive_bayes.py:635: UserWarning: alpha too small will result in numeric errors, setting alpha = 1.0e-10. Use `force_alpha=True` to keep alpha unchanged.\n",
      "  warnings.warn(\n",
      "D:\\Anaconda\\lib\\site-packages\\sklearn\\naive_bayes.py:629: FutureWarning: The default value for `force_alpha` will change to `True` in 1.4. To suppress this warning, manually set the value of `force_alpha`.\n",
      "  warnings.warn(\n",
      "D:\\Anaconda\\lib\\site-packages\\sklearn\\naive_bayes.py:635: UserWarning: alpha too small will result in numeric errors, setting alpha = 1.0e-10. Use `force_alpha=True` to keep alpha unchanged.\n",
      "  warnings.warn(\n",
      "D:\\Anaconda\\lib\\site-packages\\sklearn\\naive_bayes.py:629: FutureWarning: The default value for `force_alpha` will change to `True` in 1.4. To suppress this warning, manually set the value of `force_alpha`.\n",
      "  warnings.warn(\n",
      "D:\\Anaconda\\lib\\site-packages\\sklearn\\naive_bayes.py:635: UserWarning: alpha too small will result in numeric errors, setting alpha = 1.0e-10. Use `force_alpha=True` to keep alpha unchanged.\n",
      "  warnings.warn(\n",
      "D:\\Anaconda\\lib\\site-packages\\sklearn\\naive_bayes.py:629: FutureWarning: The default value for `force_alpha` will change to `True` in 1.4. To suppress this warning, manually set the value of `force_alpha`.\n",
      "  warnings.warn(\n",
      "D:\\Anaconda\\lib\\site-packages\\sklearn\\naive_bayes.py:635: UserWarning: alpha too small will result in numeric errors, setting alpha = 1.0e-10. Use `force_alpha=True` to keep alpha unchanged.\n",
      "  warnings.warn(\n",
      "D:\\Anaconda\\lib\\site-packages\\sklearn\\naive_bayes.py:629: FutureWarning: The default value for `force_alpha` will change to `True` in 1.4. To suppress this warning, manually set the value of `force_alpha`.\n",
      "  warnings.warn(\n",
      "D:\\Anaconda\\lib\\site-packages\\sklearn\\naive_bayes.py:635: UserWarning: alpha too small will result in numeric errors, setting alpha = 1.0e-10. Use `force_alpha=True` to keep alpha unchanged.\n",
      "  warnings.warn(\n",
      "D:\\Anaconda\\lib\\site-packages\\sklearn\\naive_bayes.py:629: FutureWarning: The default value for `force_alpha` will change to `True` in 1.4. To suppress this warning, manually set the value of `force_alpha`.\n",
      "  warnings.warn(\n",
      "D:\\Anaconda\\lib\\site-packages\\sklearn\\naive_bayes.py:635: UserWarning: alpha too small will result in numeric errors, setting alpha = 1.0e-10. Use `force_alpha=True` to keep alpha unchanged.\n",
      "  warnings.warn(\n",
      "D:\\Anaconda\\lib\\site-packages\\sklearn\\naive_bayes.py:629: FutureWarning: The default value for `force_alpha` will change to `True` in 1.4. To suppress this warning, manually set the value of `force_alpha`.\n",
      "  warnings.warn(\n",
      "D:\\Anaconda\\lib\\site-packages\\sklearn\\naive_bayes.py:635: UserWarning: alpha too small will result in numeric errors, setting alpha = 1.0e-10. Use `force_alpha=True` to keep alpha unchanged.\n",
      "  warnings.warn(\n"
     ]
    },
    {
     "name": "stdout",
     "output_type": "stream",
     "text": [
      "[CV] END ................................alpha=0, binarize=5; total time=   0.0s\n",
      "[CV] END ...............................alpha=0, binarize=10; total time=   0.0s\n",
      "[CV] END ...............................alpha=0, binarize=10; total time=   0.0s\n",
      "[CV] END ...............................alpha=0, binarize=10; total time=   0.0s\n",
      "[CV] END ...............................alpha=0, binarize=10; total time=   0.0s\n",
      "[CV] END ...............................alpha=0, binarize=10; total time=   0.0s\n",
      "[CV] END ...............................alpha=0, binarize=20; total time=   0.0s\n",
      "[CV] END ...............................alpha=0, binarize=20; total time=   0.0s\n",
      "[CV] END ...............................alpha=0, binarize=20; total time=   0.0s\n",
      "[CV] END ...............................alpha=0, binarize=20; total time=   0.0s\n",
      "[CV] END ...............................alpha=0, binarize=20; total time=   0.0s\n",
      "[CV] END .............................alpha=0.5, binarize=-5; total time=   0.0s\n",
      "[CV] END .............................alpha=0.5, binarize=-5; total time=   0.0s\n",
      "[CV] END .............................alpha=0.5, binarize=-5; total time=   0.0s\n",
      "[CV] END .............................alpha=0.5, binarize=-5; total time=   0.0s\n",
      "[CV] END .............................alpha=0.5, binarize=-5; total time=   0.0s\n",
      "[CV] END ...........................alpha=0.5, binarize=None; total time=   0.0s\n",
      "[CV] END ...........................alpha=0.5, binarize=None; total time=   0.0s\n",
      "[CV] END ...........................alpha=0.5, binarize=None; total time=   0.0s\n",
      "[CV] END ...........................alpha=0.5, binarize=None; total time=   0.0s\n",
      "[CV] END ...........................alpha=0.5, binarize=None; total time=   0.0s\n",
      "[CV] END ..............................alpha=0.5, binarize=5; total time=   0.0s\n",
      "[CV] END ..............................alpha=0.5, binarize=5; total time=   0.0s\n",
      "[CV] END ..............................alpha=0.5, binarize=5; total time=   0.0s\n",
      "[CV] END ..............................alpha=0.5, binarize=5; total time=   0.0s\n"
     ]
    },
    {
     "name": "stderr",
     "output_type": "stream",
     "text": [
      "D:\\Anaconda\\lib\\site-packages\\sklearn\\naive_bayes.py:629: FutureWarning: The default value for `force_alpha` will change to `True` in 1.4. To suppress this warning, manually set the value of `force_alpha`.\n",
      "  warnings.warn(\n",
      "D:\\Anaconda\\lib\\site-packages\\sklearn\\naive_bayes.py:635: UserWarning: alpha too small will result in numeric errors, setting alpha = 1.0e-10. Use `force_alpha=True` to keep alpha unchanged.\n",
      "  warnings.warn(\n",
      "D:\\Anaconda\\lib\\site-packages\\sklearn\\naive_bayes.py:1231: RuntimeWarning: invalid value encountered in log\n",
      "  neg_prob = np.log(1 - np.exp(self.feature_log_prob_))\n",
      "D:\\Anaconda\\lib\\site-packages\\sklearn\\naive_bayes.py:1231: RuntimeWarning: invalid value encountered in log\n",
      "  neg_prob = np.log(1 - np.exp(self.feature_log_prob_))\n",
      "D:\\Anaconda\\lib\\site-packages\\sklearn\\naive_bayes.py:1231: RuntimeWarning: invalid value encountered in log\n",
      "  neg_prob = np.log(1 - np.exp(self.feature_log_prob_))\n",
      "D:\\Anaconda\\lib\\site-packages\\sklearn\\naive_bayes.py:1231: RuntimeWarning: invalid value encountered in log\n",
      "  neg_prob = np.log(1 - np.exp(self.feature_log_prob_))\n",
      "D:\\Anaconda\\lib\\site-packages\\sklearn\\naive_bayes.py:1231: RuntimeWarning: invalid value encountered in log\n",
      "  neg_prob = np.log(1 - np.exp(self.feature_log_prob_))\n"
     ]
    },
    {
     "name": "stdout",
     "output_type": "stream",
     "text": [
      "[CV] END ..............................alpha=0.5, binarize=5; total time=   0.0s\n",
      "[CV] END .............................alpha=0.5, binarize=10; total time=   0.0s\n",
      "[CV] END .............................alpha=0.5, binarize=10; total time=   0.0s\n",
      "[CV] END .............................alpha=0.5, binarize=10; total time=   0.0s\n",
      "[CV] END .............................alpha=0.5, binarize=10; total time=   0.0s\n",
      "[CV] END .............................alpha=0.5, binarize=10; total time=   0.0s\n",
      "[CV] END .............................alpha=0.5, binarize=20; total time=   0.0s\n",
      "[CV] END .............................alpha=0.5, binarize=20; total time=   0.0s\n",
      "[CV] END .............................alpha=0.5, binarize=20; total time=   0.0s\n",
      "[CV] END .............................alpha=0.5, binarize=20; total time=   0.0s\n",
      "[CV] END .............................alpha=0.5, binarize=20; total time=   0.0s\n",
      "[CV] END ...............................alpha=1, binarize=-5; total time=   0.0s\n",
      "[CV] END ...............................alpha=1, binarize=-5; total time=   0.0s\n",
      "[CV] END ...............................alpha=1, binarize=-5; total time=   0.0s\n",
      "[CV] END ...............................alpha=1, binarize=-5; total time=   0.0s\n",
      "[CV] END ...............................alpha=1, binarize=-5; total time=   0.0s\n",
      "[CV] END .............................alpha=1, binarize=None; total time=   0.0s\n",
      "[CV] END .............................alpha=1, binarize=None; total time=   0.0s\n",
      "[CV] END .............................alpha=1, binarize=None; total time=   0.0s\n",
      "[CV] END .............................alpha=1, binarize=None; total time=   0.0s\n",
      "[CV] END .............................alpha=1, binarize=None; total time=   0.0s\n",
      "[CV] END ................................alpha=1, binarize=5; total time=   0.0s\n",
      "[CV] END ................................alpha=1, binarize=5; total time=   0.0s\n",
      "[CV] END ................................alpha=1, binarize=5; total time=   0.0s\n",
      "[CV] END ................................alpha=1, binarize=5; total time=   0.0s\n",
      "[CV] END ................................alpha=1, binarize=5; total time=   0.0s\n",
      "[CV] END ...............................alpha=1, binarize=10; total time=   0.0s\n",
      "[CV] END ...............................alpha=1, binarize=10; total time=   0.0s\n",
      "[CV] END ...............................alpha=1, binarize=10; total time=   0.0s\n",
      "[CV] END ...............................alpha=1, binarize=10; total time=   0.0s\n",
      "[CV] END ...............................alpha=1, binarize=10; total time=   0.0s\n",
      "[CV] END ...............................alpha=1, binarize=20; total time=   0.0s\n",
      "[CV] END ...............................alpha=1, binarize=20; total time=   0.0s\n",
      "[CV] END ...............................alpha=1, binarize=20; total time=   0.0s\n",
      "[CV] END ...............................alpha=1, binarize=20; total time=   0.0s\n",
      "[CV] END ...............................alpha=1, binarize=20; total time=   0.0s\n"
     ]
    },
    {
     "name": "stderr",
     "output_type": "stream",
     "text": [
      "D:\\Anaconda\\lib\\site-packages\\sklearn\\naive_bayes.py:1231: RuntimeWarning: invalid value encountered in log\n",
      "  neg_prob = np.log(1 - np.exp(self.feature_log_prob_))\n",
      "D:\\Anaconda\\lib\\site-packages\\sklearn\\naive_bayes.py:1231: RuntimeWarning: invalid value encountered in log\n",
      "  neg_prob = np.log(1 - np.exp(self.feature_log_prob_))\n",
      "D:\\Anaconda\\lib\\site-packages\\sklearn\\naive_bayes.py:1231: RuntimeWarning: invalid value encountered in log\n",
      "  neg_prob = np.log(1 - np.exp(self.feature_log_prob_))\n",
      "D:\\Anaconda\\lib\\site-packages\\sklearn\\naive_bayes.py:1231: RuntimeWarning: invalid value encountered in log\n",
      "  neg_prob = np.log(1 - np.exp(self.feature_log_prob_))\n",
      "D:\\Anaconda\\lib\\site-packages\\sklearn\\naive_bayes.py:1231: RuntimeWarning: invalid value encountered in log\n",
      "  neg_prob = np.log(1 - np.exp(self.feature_log_prob_))\n",
      "D:\\Anaconda\\lib\\site-packages\\sklearn\\model_selection\\_validation.py:378: FitFailedWarning: \n",
      "40 fits failed out of a total of 100.\n",
      "The score on these train-test partitions for these parameters will be set to nan.\n",
      "If these failures are not expected, you can try to debug them by setting error_score='raise'.\n",
      "\n",
      "Below are more details about the failures:\n",
      "--------------------------------------------------------------------------------\n",
      "25 fits failed with the following error:\n",
      "Traceback (most recent call last):\n",
      "  File \"D:\\Anaconda\\lib\\site-packages\\sklearn\\model_selection\\_validation.py\", line 686, in _fit_and_score\n",
      "    estimator.fit(X_train, y_train, **fit_params)\n",
      "  File \"D:\\Anaconda\\lib\\site-packages\\sklearn\\naive_bayes.py\", line 748, in fit\n",
      "    self._validate_params()\n",
      "  File \"D:\\Anaconda\\lib\\site-packages\\sklearn\\base.py\", line 581, in _validate_params\n",
      "    validate_parameter_constraints(\n",
      "  File \"D:\\Anaconda\\lib\\site-packages\\sklearn\\utils\\_param_validation.py\", line 97, in validate_parameter_constraints\n",
      "    raise InvalidParameterError(\n",
      "sklearn.utils._param_validation.InvalidParameterError: The 'alpha' parameter of BernoulliNB must be a float in the range [0, inf) or an array-like. Got -1 instead.\n",
      "\n",
      "--------------------------------------------------------------------------------\n",
      "15 fits failed with the following error:\n",
      "Traceback (most recent call last):\n",
      "  File \"D:\\Anaconda\\lib\\site-packages\\sklearn\\model_selection\\_validation.py\", line 686, in _fit_and_score\n",
      "    estimator.fit(X_train, y_train, **fit_params)\n",
      "  File \"D:\\Anaconda\\lib\\site-packages\\sklearn\\naive_bayes.py\", line 748, in fit\n",
      "    self._validate_params()\n",
      "  File \"D:\\Anaconda\\lib\\site-packages\\sklearn\\base.py\", line 581, in _validate_params\n",
      "    validate_parameter_constraints(\n",
      "  File \"D:\\Anaconda\\lib\\site-packages\\sklearn\\utils\\_param_validation.py\", line 97, in validate_parameter_constraints\n",
      "    raise InvalidParameterError(\n",
      "sklearn.utils._param_validation.InvalidParameterError: The 'binarize' parameter of BernoulliNB must be None or a float in the range [0, inf). Got -5 instead.\n",
      "\n",
      "  warnings.warn(some_fits_failed_message, FitFailedWarning)\n",
      "D:\\Anaconda\\lib\\site-packages\\sklearn\\model_selection\\_search.py:952: UserWarning: One or more of the test scores are non-finite: [       nan        nan        nan        nan        nan        nan\n",
      " 0.77754167 0.79608333 0.77754167 0.77754167        nan 0.77754167\n",
      " 0.79608333 0.77754167 0.77754167        nan 0.77754167 0.79608333\n",
      " 0.77754167 0.77754167]\n",
      "  warnings.warn(\n",
      "D:\\Anaconda\\lib\\site-packages\\sklearn\\naive_bayes.py:629: FutureWarning: The default value for `force_alpha` will change to `True` in 1.4. To suppress this warning, manually set the value of `force_alpha`.\n",
      "  warnings.warn(\n",
      "D:\\Anaconda\\lib\\site-packages\\sklearn\\naive_bayes.py:635: UserWarning: alpha too small will result in numeric errors, setting alpha = 1.0e-10. Use `force_alpha=True` to keep alpha unchanged.\n",
      "  warnings.warn(\n"
     ]
    },
    {
     "data": {
      "text/html": [
       "<style>#sk-container-id-8 {color: black;background-color: white;}#sk-container-id-8 pre{padding: 0;}#sk-container-id-8 div.sk-toggleable {background-color: white;}#sk-container-id-8 label.sk-toggleable__label {cursor: pointer;display: block;width: 100%;margin-bottom: 0;padding: 0.3em;box-sizing: border-box;text-align: center;}#sk-container-id-8 label.sk-toggleable__label-arrow:before {content: \"▸\";float: left;margin-right: 0.25em;color: #696969;}#sk-container-id-8 label.sk-toggleable__label-arrow:hover:before {color: black;}#sk-container-id-8 div.sk-estimator:hover label.sk-toggleable__label-arrow:before {color: black;}#sk-container-id-8 div.sk-toggleable__content {max-height: 0;max-width: 0;overflow: hidden;text-align: left;background-color: #f0f8ff;}#sk-container-id-8 div.sk-toggleable__content pre {margin: 0.2em;color: black;border-radius: 0.25em;background-color: #f0f8ff;}#sk-container-id-8 input.sk-toggleable__control:checked~div.sk-toggleable__content {max-height: 200px;max-width: 100%;overflow: auto;}#sk-container-id-8 input.sk-toggleable__control:checked~label.sk-toggleable__label-arrow:before {content: \"▾\";}#sk-container-id-8 div.sk-estimator input.sk-toggleable__control:checked~label.sk-toggleable__label {background-color: #d4ebff;}#sk-container-id-8 div.sk-label input.sk-toggleable__control:checked~label.sk-toggleable__label {background-color: #d4ebff;}#sk-container-id-8 input.sk-hidden--visually {border: 0;clip: rect(1px 1px 1px 1px);clip: rect(1px, 1px, 1px, 1px);height: 1px;margin: -1px;overflow: hidden;padding: 0;position: absolute;width: 1px;}#sk-container-id-8 div.sk-estimator {font-family: monospace;background-color: #f0f8ff;border: 1px dotted black;border-radius: 0.25em;box-sizing: border-box;margin-bottom: 0.5em;}#sk-container-id-8 div.sk-estimator:hover {background-color: #d4ebff;}#sk-container-id-8 div.sk-parallel-item::after {content: \"\";width: 100%;border-bottom: 1px solid gray;flex-grow: 1;}#sk-container-id-8 div.sk-label:hover label.sk-toggleable__label {background-color: #d4ebff;}#sk-container-id-8 div.sk-serial::before {content: \"\";position: absolute;border-left: 1px solid gray;box-sizing: border-box;top: 0;bottom: 0;left: 50%;z-index: 0;}#sk-container-id-8 div.sk-serial {display: flex;flex-direction: column;align-items: center;background-color: white;padding-right: 0.2em;padding-left: 0.2em;position: relative;}#sk-container-id-8 div.sk-item {position: relative;z-index: 1;}#sk-container-id-8 div.sk-parallel {display: flex;align-items: stretch;justify-content: center;background-color: white;position: relative;}#sk-container-id-8 div.sk-item::before, #sk-container-id-8 div.sk-parallel-item::before {content: \"\";position: absolute;border-left: 1px solid gray;box-sizing: border-box;top: 0;bottom: 0;left: 50%;z-index: -1;}#sk-container-id-8 div.sk-parallel-item {display: flex;flex-direction: column;z-index: 1;position: relative;background-color: white;}#sk-container-id-8 div.sk-parallel-item:first-child::after {align-self: flex-end;width: 50%;}#sk-container-id-8 div.sk-parallel-item:last-child::after {align-self: flex-start;width: 50%;}#sk-container-id-8 div.sk-parallel-item:only-child::after {width: 0;}#sk-container-id-8 div.sk-dashed-wrapped {border: 1px dashed gray;margin: 0 0.4em 0.5em 0.4em;box-sizing: border-box;padding-bottom: 0.4em;background-color: white;}#sk-container-id-8 div.sk-label label {font-family: monospace;font-weight: bold;display: inline-block;line-height: 1.2em;}#sk-container-id-8 div.sk-label-container {text-align: center;}#sk-container-id-8 div.sk-container {/* jupyter's `normalize.less` sets `[hidden] { display: none; }` but bootstrap.min.css set `[hidden] { display: none !important; }` so we also need the `!important` here to be able to override the default hidden behavior on the sphinx rendered scikit-learn.org. See: https://github.com/scikit-learn/scikit-learn/issues/21755 */display: inline-block !important;position: relative;}#sk-container-id-8 div.sk-text-repr-fallback {display: none;}</style><div id=\"sk-container-id-8\" class=\"sk-top-container\"><div class=\"sk-text-repr-fallback\"><pre>GridSearchCV(cv=5, estimator=BernoulliNB(),\n",
       "             param_grid=[{&#x27;alpha&#x27;: [-1, 0, 0.5, 1],\n",
       "                          &#x27;binarize&#x27;: [-5, None, 5, 10, 20]}],\n",
       "             verbose=2)</pre><b>In a Jupyter environment, please rerun this cell to show the HTML representation or trust the notebook. <br />On GitHub, the HTML representation is unable to render, please try loading this page with nbviewer.org.</b></div><div class=\"sk-container\" hidden><div class=\"sk-item sk-dashed-wrapped\"><div class=\"sk-label-container\"><div class=\"sk-label sk-toggleable\"><input class=\"sk-toggleable__control sk-hidden--visually\" id=\"sk-estimator-id-12\" type=\"checkbox\" ><label for=\"sk-estimator-id-12\" class=\"sk-toggleable__label sk-toggleable__label-arrow\">GridSearchCV</label><div class=\"sk-toggleable__content\"><pre>GridSearchCV(cv=5, estimator=BernoulliNB(),\n",
       "             param_grid=[{&#x27;alpha&#x27;: [-1, 0, 0.5, 1],\n",
       "                          &#x27;binarize&#x27;: [-5, None, 5, 10, 20]}],\n",
       "             verbose=2)</pre></div></div></div><div class=\"sk-parallel\"><div class=\"sk-parallel-item\"><div class=\"sk-item\"><div class=\"sk-label-container\"><div class=\"sk-label sk-toggleable\"><input class=\"sk-toggleable__control sk-hidden--visually\" id=\"sk-estimator-id-13\" type=\"checkbox\" ><label for=\"sk-estimator-id-13\" class=\"sk-toggleable__label sk-toggleable__label-arrow\">estimator: BernoulliNB</label><div class=\"sk-toggleable__content\"><pre>BernoulliNB()</pre></div></div></div><div class=\"sk-serial\"><div class=\"sk-item\"><div class=\"sk-estimator sk-toggleable\"><input class=\"sk-toggleable__control sk-hidden--visually\" id=\"sk-estimator-id-14\" type=\"checkbox\" ><label for=\"sk-estimator-id-14\" class=\"sk-toggleable__label sk-toggleable__label-arrow\">BernoulliNB</label><div class=\"sk-toggleable__content\"><pre>BernoulliNB()</pre></div></div></div></div></div></div></div></div></div></div>"
      ],
      "text/plain": [
       "GridSearchCV(cv=5, estimator=BernoulliNB(),\n",
       "             param_grid=[{'alpha': [-1, 0, 0.5, 1],\n",
       "                          'binarize': [-5, None, 5, 10, 20]}],\n",
       "             verbose=2)"
      ]
     },
     "execution_count": 35,
     "metadata": {},
     "output_type": "execute_result"
    }
   ],
   "source": [
    "param_grid = [{\n",
    "    'alpha': [-1, 0, 0.5, 1],\n",
    "    'binarize': [-5, None, 5, 10, 20]}]\n",
    "bernoulli_nb = BernoulliNB()\n",
    "grid_search = GridSearchCV(bernoulli_nb, param_grid, cv=5, verbose=2)\n",
    "grid_search.fit(np.asarray(xs_train_prep.todense()), ys_train)"
   ]
  },
  {
   "cell_type": "markdown",
   "id": "5c57c68d",
   "metadata": {},
   "source": [
    "Find the best hype parameters of BernoulliNB"
   ]
  },
  {
   "cell_type": "code",
   "execution_count": 36,
   "id": "3764dcd1",
   "metadata": {},
   "outputs": [
    {
     "data": {
      "text/html": [
       "<style>#sk-container-id-9 {color: black;background-color: white;}#sk-container-id-9 pre{padding: 0;}#sk-container-id-9 div.sk-toggleable {background-color: white;}#sk-container-id-9 label.sk-toggleable__label {cursor: pointer;display: block;width: 100%;margin-bottom: 0;padding: 0.3em;box-sizing: border-box;text-align: center;}#sk-container-id-9 label.sk-toggleable__label-arrow:before {content: \"▸\";float: left;margin-right: 0.25em;color: #696969;}#sk-container-id-9 label.sk-toggleable__label-arrow:hover:before {color: black;}#sk-container-id-9 div.sk-estimator:hover label.sk-toggleable__label-arrow:before {color: black;}#sk-container-id-9 div.sk-toggleable__content {max-height: 0;max-width: 0;overflow: hidden;text-align: left;background-color: #f0f8ff;}#sk-container-id-9 div.sk-toggleable__content pre {margin: 0.2em;color: black;border-radius: 0.25em;background-color: #f0f8ff;}#sk-container-id-9 input.sk-toggleable__control:checked~div.sk-toggleable__content {max-height: 200px;max-width: 100%;overflow: auto;}#sk-container-id-9 input.sk-toggleable__control:checked~label.sk-toggleable__label-arrow:before {content: \"▾\";}#sk-container-id-9 div.sk-estimator input.sk-toggleable__control:checked~label.sk-toggleable__label {background-color: #d4ebff;}#sk-container-id-9 div.sk-label input.sk-toggleable__control:checked~label.sk-toggleable__label {background-color: #d4ebff;}#sk-container-id-9 input.sk-hidden--visually {border: 0;clip: rect(1px 1px 1px 1px);clip: rect(1px, 1px, 1px, 1px);height: 1px;margin: -1px;overflow: hidden;padding: 0;position: absolute;width: 1px;}#sk-container-id-9 div.sk-estimator {font-family: monospace;background-color: #f0f8ff;border: 1px dotted black;border-radius: 0.25em;box-sizing: border-box;margin-bottom: 0.5em;}#sk-container-id-9 div.sk-estimator:hover {background-color: #d4ebff;}#sk-container-id-9 div.sk-parallel-item::after {content: \"\";width: 100%;border-bottom: 1px solid gray;flex-grow: 1;}#sk-container-id-9 div.sk-label:hover label.sk-toggleable__label {background-color: #d4ebff;}#sk-container-id-9 div.sk-serial::before {content: \"\";position: absolute;border-left: 1px solid gray;box-sizing: border-box;top: 0;bottom: 0;left: 50%;z-index: 0;}#sk-container-id-9 div.sk-serial {display: flex;flex-direction: column;align-items: center;background-color: white;padding-right: 0.2em;padding-left: 0.2em;position: relative;}#sk-container-id-9 div.sk-item {position: relative;z-index: 1;}#sk-container-id-9 div.sk-parallel {display: flex;align-items: stretch;justify-content: center;background-color: white;position: relative;}#sk-container-id-9 div.sk-item::before, #sk-container-id-9 div.sk-parallel-item::before {content: \"\";position: absolute;border-left: 1px solid gray;box-sizing: border-box;top: 0;bottom: 0;left: 50%;z-index: -1;}#sk-container-id-9 div.sk-parallel-item {display: flex;flex-direction: column;z-index: 1;position: relative;background-color: white;}#sk-container-id-9 div.sk-parallel-item:first-child::after {align-self: flex-end;width: 50%;}#sk-container-id-9 div.sk-parallel-item:last-child::after {align-self: flex-start;width: 50%;}#sk-container-id-9 div.sk-parallel-item:only-child::after {width: 0;}#sk-container-id-9 div.sk-dashed-wrapped {border: 1px dashed gray;margin: 0 0.4em 0.5em 0.4em;box-sizing: border-box;padding-bottom: 0.4em;background-color: white;}#sk-container-id-9 div.sk-label label {font-family: monospace;font-weight: bold;display: inline-block;line-height: 1.2em;}#sk-container-id-9 div.sk-label-container {text-align: center;}#sk-container-id-9 div.sk-container {/* jupyter's `normalize.less` sets `[hidden] { display: none; }` but bootstrap.min.css set `[hidden] { display: none !important; }` so we also need the `!important` here to be able to override the default hidden behavior on the sphinx rendered scikit-learn.org. See: https://github.com/scikit-learn/scikit-learn/issues/21755 */display: inline-block !important;position: relative;}#sk-container-id-9 div.sk-text-repr-fallback {display: none;}</style><div id=\"sk-container-id-9\" class=\"sk-top-container\"><div class=\"sk-text-repr-fallback\"><pre>BernoulliNB(alpha=0, binarize=5)</pre><b>In a Jupyter environment, please rerun this cell to show the HTML representation or trust the notebook. <br />On GitHub, the HTML representation is unable to render, please try loading this page with nbviewer.org.</b></div><div class=\"sk-container\" hidden><div class=\"sk-item\"><div class=\"sk-estimator sk-toggleable\"><input class=\"sk-toggleable__control sk-hidden--visually\" id=\"sk-estimator-id-15\" type=\"checkbox\" checked><label for=\"sk-estimator-id-15\" class=\"sk-toggleable__label sk-toggleable__label-arrow\">BernoulliNB</label><div class=\"sk-toggleable__content\"><pre>BernoulliNB(alpha=0, binarize=5)</pre></div></div></div></div></div>"
      ],
      "text/plain": [
       "BernoulliNB(alpha=0, binarize=5)"
      ]
     },
     "execution_count": 36,
     "metadata": {},
     "output_type": "execute_result"
    }
   ],
   "source": [
    "grid_search.best_estimator_"
   ]
  },
  {
   "cell_type": "markdown",
   "id": "15584b0c",
   "metadata": {},
   "source": [
    "Fit the BernoulliNB model where the hype parameter alpha = 0, the binarize is None, and the rest of parameters are the default value"
   ]
  },
  {
   "cell_type": "code",
   "execution_count": 37,
   "id": "4f7b0884",
   "metadata": {
    "scrolled": false
   },
   "outputs": [
    {
     "name": "stderr",
     "output_type": "stream",
     "text": [
      "D:\\Anaconda\\lib\\site-packages\\sklearn\\naive_bayes.py:629: FutureWarning: The default value for `force_alpha` will change to `True` in 1.4. To suppress this warning, manually set the value of `force_alpha`.\n",
      "  warnings.warn(\n",
      "D:\\Anaconda\\lib\\site-packages\\sklearn\\naive_bayes.py:635: UserWarning: alpha too small will result in numeric errors, setting alpha = 1.0e-10. Use `force_alpha=True` to keep alpha unchanged.\n",
      "  warnings.warn(\n"
     ]
    },
    {
     "data": {
      "text/html": [
       "<style>#sk-container-id-10 {color: black;background-color: white;}#sk-container-id-10 pre{padding: 0;}#sk-container-id-10 div.sk-toggleable {background-color: white;}#sk-container-id-10 label.sk-toggleable__label {cursor: pointer;display: block;width: 100%;margin-bottom: 0;padding: 0.3em;box-sizing: border-box;text-align: center;}#sk-container-id-10 label.sk-toggleable__label-arrow:before {content: \"▸\";float: left;margin-right: 0.25em;color: #696969;}#sk-container-id-10 label.sk-toggleable__label-arrow:hover:before {color: black;}#sk-container-id-10 div.sk-estimator:hover label.sk-toggleable__label-arrow:before {color: black;}#sk-container-id-10 div.sk-toggleable__content {max-height: 0;max-width: 0;overflow: hidden;text-align: left;background-color: #f0f8ff;}#sk-container-id-10 div.sk-toggleable__content pre {margin: 0.2em;color: black;border-radius: 0.25em;background-color: #f0f8ff;}#sk-container-id-10 input.sk-toggleable__control:checked~div.sk-toggleable__content {max-height: 200px;max-width: 100%;overflow: auto;}#sk-container-id-10 input.sk-toggleable__control:checked~label.sk-toggleable__label-arrow:before {content: \"▾\";}#sk-container-id-10 div.sk-estimator input.sk-toggleable__control:checked~label.sk-toggleable__label {background-color: #d4ebff;}#sk-container-id-10 div.sk-label input.sk-toggleable__control:checked~label.sk-toggleable__label {background-color: #d4ebff;}#sk-container-id-10 input.sk-hidden--visually {border: 0;clip: rect(1px 1px 1px 1px);clip: rect(1px, 1px, 1px, 1px);height: 1px;margin: -1px;overflow: hidden;padding: 0;position: absolute;width: 1px;}#sk-container-id-10 div.sk-estimator {font-family: monospace;background-color: #f0f8ff;border: 1px dotted black;border-radius: 0.25em;box-sizing: border-box;margin-bottom: 0.5em;}#sk-container-id-10 div.sk-estimator:hover {background-color: #d4ebff;}#sk-container-id-10 div.sk-parallel-item::after {content: \"\";width: 100%;border-bottom: 1px solid gray;flex-grow: 1;}#sk-container-id-10 div.sk-label:hover label.sk-toggleable__label {background-color: #d4ebff;}#sk-container-id-10 div.sk-serial::before {content: \"\";position: absolute;border-left: 1px solid gray;box-sizing: border-box;top: 0;bottom: 0;left: 50%;z-index: 0;}#sk-container-id-10 div.sk-serial {display: flex;flex-direction: column;align-items: center;background-color: white;padding-right: 0.2em;padding-left: 0.2em;position: relative;}#sk-container-id-10 div.sk-item {position: relative;z-index: 1;}#sk-container-id-10 div.sk-parallel {display: flex;align-items: stretch;justify-content: center;background-color: white;position: relative;}#sk-container-id-10 div.sk-item::before, #sk-container-id-10 div.sk-parallel-item::before {content: \"\";position: absolute;border-left: 1px solid gray;box-sizing: border-box;top: 0;bottom: 0;left: 50%;z-index: -1;}#sk-container-id-10 div.sk-parallel-item {display: flex;flex-direction: column;z-index: 1;position: relative;background-color: white;}#sk-container-id-10 div.sk-parallel-item:first-child::after {align-self: flex-end;width: 50%;}#sk-container-id-10 div.sk-parallel-item:last-child::after {align-self: flex-start;width: 50%;}#sk-container-id-10 div.sk-parallel-item:only-child::after {width: 0;}#sk-container-id-10 div.sk-dashed-wrapped {border: 1px dashed gray;margin: 0 0.4em 0.5em 0.4em;box-sizing: border-box;padding-bottom: 0.4em;background-color: white;}#sk-container-id-10 div.sk-label label {font-family: monospace;font-weight: bold;display: inline-block;line-height: 1.2em;}#sk-container-id-10 div.sk-label-container {text-align: center;}#sk-container-id-10 div.sk-container {/* jupyter's `normalize.less` sets `[hidden] { display: none; }` but bootstrap.min.css set `[hidden] { display: none !important; }` so we also need the `!important` here to be able to override the default hidden behavior on the sphinx rendered scikit-learn.org. See: https://github.com/scikit-learn/scikit-learn/issues/21755 */display: inline-block !important;position: relative;}#sk-container-id-10 div.sk-text-repr-fallback {display: none;}</style><div id=\"sk-container-id-10\" class=\"sk-top-container\"><div class=\"sk-text-repr-fallback\"><pre>BernoulliNB(alpha=0, binarize=5)</pre><b>In a Jupyter environment, please rerun this cell to show the HTML representation or trust the notebook. <br />On GitHub, the HTML representation is unable to render, please try loading this page with nbviewer.org.</b></div><div class=\"sk-container\" hidden><div class=\"sk-item\"><div class=\"sk-estimator sk-toggleable\"><input class=\"sk-toggleable__control sk-hidden--visually\" id=\"sk-estimator-id-16\" type=\"checkbox\" checked><label for=\"sk-estimator-id-16\" class=\"sk-toggleable__label sk-toggleable__label-arrow\">BernoulliNB</label><div class=\"sk-toggleable__content\"><pre>BernoulliNB(alpha=0, binarize=5)</pre></div></div></div></div></div>"
      ],
      "text/plain": [
       "BernoulliNB(alpha=0, binarize=5)"
      ]
     },
     "execution_count": 37,
     "metadata": {},
     "output_type": "execute_result"
    }
   ],
   "source": [
    "bernoulli_nb = BernoulliNB(alpha=0, binarize=5)\n",
    "bernoulli_nb.fit(np.asarray(xs_train_prep.todense()), ys_train)"
   ]
  },
  {
   "cell_type": "markdown",
   "id": "c1f7cf74",
   "metadata": {},
   "source": [
    "Predict the result and show the accuracy"
   ]
  },
  {
   "cell_type": "code",
   "execution_count": 38,
   "id": "52f62994",
   "metadata": {},
   "outputs": [
    {
     "name": "stdout",
     "output_type": "stream",
     "text": [
      "Training accuracy: 0.790125\n",
      "BernoulliNB accuracy (after GridSearchCV): 0.8005\n",
      "              precision    recall  f1-score   support\n",
      "\n",
      "           0       0.81      0.98      0.89      4703\n",
      "           1       0.69      0.14      0.23      1297\n",
      "\n",
      "    accuracy                           0.80      6000\n",
      "   macro avg       0.75      0.56      0.56      6000\n",
      "weighted avg       0.78      0.80      0.74      6000\n",
      "\n"
     ]
    }
   ],
   "source": [
    "ys_train_pred = multinomial_nb.predict(np.asarray(xs_train_prep.todense()))\n",
    "accuracy_train = accuracy_score(ys_train, ys_train_pred)\n",
    "print('Training accuracy:', accuracy_train)\n",
    "ys_test_pred = bernoulli_nb.predict(np.asarray(xs_test_prep.todense()))\n",
    "accuracy = accuracy_score(ys_test, ys_test_pred)\n",
    "print(f\"BernoulliNB accuracy (after GridSearchCV): {accuracy:.4f}\")\n",
    "print(classification_report(ys_test, ys_test_pred))"
   ]
  },
  {
   "cell_type": "markdown",
   "id": "7cab829e",
   "metadata": {},
   "source": [
    "It is noted that the accuracy does not improve further"
   ]
  },
  {
   "cell_type": "markdown",
   "id": "c5ca592f",
   "metadata": {},
   "source": [
    "### Now plot the performance of different models to directly show the comparison"
   ]
  },
  {
   "cell_type": "code",
   "execution_count": 39,
   "id": "bd74009f",
   "metadata": {},
   "outputs": [
    {
     "data": {
      "image/png": "[encoded data removed]",
      "text/plain": [
       "<Figure size 432x288 with 1 Axes>"
      ]
     },
     "metadata": {
      "needs_background": "light"
     },
     "output_type": "display_data"
    }
   ],
   "source": [
    "models = np.array(['MultinomialNB(alpha=0, fit_prior=False)',\n",
    "                   'MultinomialNB(alpha=4, fit_prior=True)',\n",
    "                   'GaussianNB(priors=None, var_smoothing=0.7)',\n",
    "                   'BernoulliNB(alpha=0, binarize=5)'])\n",
    "accuracy = np.array([0.7763,0.7962, 0.8085, 0.8005])\n",
    "colors = ['b', 'b', 'r', 'b']\n",
    "plt.bar(models, accuracy, color=colors)\n",
    "plt.xticks(np.arange(len(models)), models,rotation=90)\n",
    "plt.ylim(0.75, 0.86)\n",
    "plt.xlabel('Model')\n",
    "plt.ylabel('Accuracy')\n",
    "for i, v in enumerate(accuracy):\n",
    "    plt.text(i, v+0.001, str(v), ha='center', fontsize=10)\n",
    "plt.show()"
   ]
  },
  {
   "cell_type": "markdown",
   "id": "70d474e5",
   "metadata": {},
   "source": [
    "## Overall, GaussianNB(priors=None, var_smoothing=0.7) has the best performance"
   ]
  },
  {
   "cell_type": "markdown",
   "id": "9b000aef",
   "metadata": {},
   "source": [
    "Save the GaussianNB model for future use (Referenced from: https://machinelearningmastery.com/save-load-machine-learning-models-python-scikit-learn/)"
   ]
  },
  {
   "cell_type": "code",
   "execution_count": 40,
   "id": "162cf2f9",
   "metadata": {},
   "outputs": [
    {
     "data": {
      "text/plain": [
       "\"\\nuse code below to reload the model\\n\\nloaded_model = pickle.load(open('gaussion_nb.sav', 'rb'))\\n\""
      ]
     },
     "execution_count": 40,
     "metadata": {},
     "output_type": "execute_result"
    }
   ],
   "source": [
    "import pickle\n",
    "pickle.dump(gaussion_nb, open('gaussion_nb.sav', 'wb'))\n",
    "\n",
    "\"\"\"\n",
    "use code below to reload the model\n",
    "\n",
    "loaded_model = pickle.load(open('gaussion_nb.sav', 'rb'))\n",
    "\"\"\""
   ]
  },
  {
   "cell_type": "markdown",
   "id": "b502cf5c",
   "metadata": {},
   "source": [
    "Now evaluate this GaussianNB classifier by plotting its confusion matrix to see the performance of this model on the test set and if this classifier could be further imporved in the future"
   ]
  },
  {
   "cell_type": "code",
   "execution_count": 41,
   "id": "4bd3bf1f",
   "metadata": {},
   "outputs": [
    {
     "data": {
      "image/png": "[encoded data removed]",
      "text/plain": [
       "<Figure size 720x720 with 1 Axes>"
      ]
     },
     "metadata": {
      "needs_background": "light"
     },
     "output_type": "display_data"
    },
    {
     "name": "stdout",
     "output_type": "stream",
     "text": [
      "              precision    recall  f1-score   support\n",
      "\n",
      "           0       0.83      0.95      0.89      4703\n",
      "           1       0.63      0.28      0.39      1297\n",
      "\n",
      "    accuracy                           0.81      6000\n",
      "   macro avg       0.73      0.62      0.64      6000\n",
      "weighted avg       0.78      0.81      0.78      6000\n",
      "\n"
     ]
    }
   ],
   "source": [
    "gaussion_nb = GaussianNB(priors=None, var_smoothing=0.7)\n",
    "gaussion_nb.fit(np.asarray(xs_train_prep.todense()), ys_train) # refit the model to get ys_test_pred of GaussianNB\n",
    "ys_test_pred = gaussion_nb.predict(np.asarray(xs_test_prep.todense())) # get ys_test_pred of GaussianNB\n",
    "classes = {\"not default\": (len(ys_test)+len(ys_train))-(sum(ys_test)+sum(ys_train)), \"default\":sum(ys_test)+sum(ys_train),}\n",
    "mat = confusion_matrix(ys_test, ys_test_pred)\n",
    "fig, ax = plt.subplots(figsize=(10, 10))\n",
    "sns.heatmap(mat.T, square=True, annot=True, fmt='d', cbar=False,\n",
    "            xticklabels=classes, yticklabels=classes, ax=ax)\n",
    "plt.xlabel('true label')\n",
    "plt.ylabel('predicted label')\n",
    "plt.show()\n",
    "print(classification_report(ys_test, ys_test_pred))"
   ]
  },
  {
   "cell_type": "markdown",
   "id": "eb7d3b24",
   "metadata": {},
   "source": [
    "As you can see here, most of the non-default predictions are very accurate. However, accuracy of default case is a bit low. The reason is that some attributes are not helpful for classification. For example, columns 12 to 23 show the same pattern regardless of whether the classification is 0 or 1 (e.g. next month's payment amount is less than the previous month's bill amount), which significantly affects the accuracy of 1 classification, as there is more data in the dataset with a 0 classification, and the model then determines that most predictions in the testing set as 0.\n",
    "\n",
    "I have tried to analyse columns 12 to 23 with other feature engineering methods such as normalisation and binning, or without these columns. However, it does not help to improve the accuracy or even reduce it.\n",
    "\n",
    "In the future, taking advantage of more knowledge, the accuracy would be effectively improved."
   ]
  }
 ],
 "metadata": {
  "kernelspec": {
   "display_name": "Python 3 (ipykernel)",
   "language": "python",
   "name": "python3"
  },
  "language_info": {
   "codemirror_mode": {
    "name": "ipython",
    "version": 3
   },
   "file_extension": ".py",
   "mimetype": "text/x-python",
   "name": "python",
   "nbconvert_exporter": "python",
   "pygments_lexer": "ipython3",
   "version": "3.9.12"
  }
 },
 "nbformat": 4,
 "nbformat_minor": 5
}
