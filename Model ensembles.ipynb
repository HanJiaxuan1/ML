{
 "cells": [
  {
   "cell_type": "markdown",
   "id": "984f1308",
   "metadata": {},
   "source": [
    "# CEGE0004: Assignment 1\n",
    "\n",
    "# Model Ensembles\n",
    "\n",
    "In this notebook ensembles models is implemented by scikit-learn.\n",
    "\n",
    "## The Dataset\n",
    "\n",
    "The [Default of credit card clients Data Set](https://archive.ics.uci.edu/ml/datasets/default+of+credit+card+clients) we work with is from UCI repositry.\n",
    "\n",
    "## Methodology\n",
    "\n",
    "Supervised learning tasks are performed on the dataset using Python, specifically for classification with a model ensemble that combines decision trees, instance-based learning, Bayesian learning, and neural networks. The performance are also compare of three different ensemble methods: bagging, boosting, and stacking. "
   ]
  },
  {
   "cell_type": "code",
   "execution_count": 1,
   "id": "b6899a85",
   "metadata": {},
   "outputs": [
    {
     "name": "stderr",
     "output_type": "stream",
     "text": [
      "C:\\Users\\HAN\\anaconda3\\lib\\site-packages\\scipy\\__init__.py:146: UserWarning: A NumPy version >=1.16.5 and <1.23.0 is required for this version of SciPy (detected version 1.24.2\n",
      "  warnings.warn(f\"A NumPy version >={np_minversion} and <{np_maxversion}\"\n"
     ]
    }
   ],
   "source": [
    "#Import required libraries\n",
    "import numpy as np\n",
    "import pandas as pd\n",
    "from sklearn.model_selection import train_test_split, GridSearchCV\n",
    "from sklearn.metrics import accuracy_score, classification_report\n",
    "from sklearn.ensemble import BaggingClassifier, AdaBoostClassifier, VotingClassifier, StackingClassifier\n",
    "from sklearn.tree import DecisionTreeClassifier\n",
    "from sklearn.neighbors import KNeighborsClassifier\n",
    "from sklearn.naive_bayes import GaussianNB\n",
    "from sklearn.neural_network import MLPClassifier\n",
    "import pickle\n",
    "from sklearn.linear_model import LogisticRegression"
   ]
  },
  {
   "cell_type": "code",
   "execution_count": 2,
   "id": "1f89dec7",
   "metadata": {},
   "outputs": [],
   "source": [
    "# Load data \n",
    "X_train = pd.read_csv(\"x_train.csv\")\n",
    "X_test = pd.read_csv(\"x_test.csv\")\n",
    "y_train = pd.read_csv(\"y_train.csv\")\n",
    "y_test = pd.read_csv(\"y_test.csv\")\n"
   ]
  },
  {
   "cell_type": "code",
   "execution_count": 3,
   "id": "786ddc24",
   "metadata": {
    "scrolled": false
   },
   "outputs": [],
   "source": [
    "# Processing data\n",
    "X_train = X_train.replace({'EDUCATION':{0:4, 5:4, 6:4}})\n",
    "X_train = X_train.replace({'PAY_0':{-2:-1, 0:-1}})\n",
    "X_train = X_train.replace({'PAY_2':{-2:-1, 0:-1}})\n",
    "X_train = X_train.replace({'PAY_3':{-2:-1, 0:-1}})\n",
    "X_train = X_train.replace({'PAY_4':{-2:-1, 0:-1}})\n",
    "X_train = X_train.replace({'PAY_5':{-2:-1, 0:-1}})\n",
    "X_train = X_train.replace({'PAY_6':{-2:-1, 0:-1}})\n",
    "\n",
    "X_test = X_test.replace({'EDUCATION':{0:4, 5:4, 6:4}})\n",
    "X_test = X_test.replace({'PAY_0':{-2:-1, 0:-1}})\n",
    "X_test = X_test.replace({'PAY_2':{-2:-1, 0:-1}})\n",
    "X_test = X_test.replace({'PAY_3':{-2:-1, 0:-1}})\n",
    "X_test = X_test.replace({'PAY_4':{-2:-1, 0:-1}})\n",
    "X_test = X_test.replace({'PAY_5':{-2:-1, 0:-1}})\n",
    "X_test = X_test.replace({'PAY_6':{-2:-1, 0:-1}})\n",
    "\n",
    "# Dummy variables\n",
    "X_train = pd.get_dummies(X_train, columns=['SEX', 'EDUCATION'])\n",
    "X_test = pd.get_dummies(X_test, columns=['SEX', 'EDUCATION'])\n",
    "\n",
    "y_train = np.ravel(y_train)\n",
    "y_test = np.ravel(y_test)\n",
    "\n",
    "\n",
    "# def add_suffix(col_name, suffix):\n",
    "#     return col_name + '_' + str(suffix)\n",
    "\n",
    "# data.columns = data.columns.to_series().apply(lambda x: add_suffix(x.split('_')[0], x.split('_')[1]))\n",
    "# print(data.head())"
   ]
  },
  {
   "cell_type": "markdown",
   "id": "1ba62cfa",
   "metadata": {},
   "source": [
    "## Load models\n",
    "Now, we will use pickle to load the model that you have already written in other Jupyter files."
   ]
  },
  {
   "cell_type": "code",
   "execution_count": 4,
   "id": "1b864744",
   "metadata": {},
   "outputs": [],
   "source": [
    "# Load saved models:\n",
    "with open(\"DecisionTree.sav\", \"rb\") as f:\n",
    "    decision_tree = pickle.load(f)\n",
    "\n",
    "with open(\"Instance_based.sav\", \"rb\") as f:\n",
    "    instance_based_learning  = pickle.load(f)\n",
    "\n",
    "with open(\"gaussion_nb.sav\", \"rb\") as f:\n",
    "    bayesian_learning  = pickle.load(f)\n",
    "\n",
    "# neural_network = torch.load('neural_network.pth',map_location=torch.device('cpu'))\n",
    "\n",
    "with open(\"MLP_sklearn.sav\", \"rb\") as f:\n",
    "    neural_network  = pickle.load(f)"
   ]
  },
  {
   "cell_type": "markdown",
   "id": "097e6d96",
   "metadata": {},
   "source": [
    "## Bagging \n",
    "Next, we will implement Bagging integration method and show the accuracy."
   ]
  },
  {
   "cell_type": "code",
   "execution_count": 5,
   "id": "7780475a",
   "metadata": {},
   "outputs": [
    {
     "name": "stdout",
     "output_type": "stream",
     "text": [
      "Bagging accuracy: 0.7838\n"
     ]
    }
   ],
   "source": [
    "# Create the Bagging ensemble\n",
    "bagging_classifier = BaggingClassifier(\n",
    "    estimator=decision_tree,\n",
    "    max_samples=2, \n",
    "    max_features=1.0\n",
    ")\n",
    "\n",
    "bagging_classifier.fit(X_train, y_train)\n",
    "\n",
    "bagging_y_pred = bagging_classifier.predict(X_test)\n",
    "bagging_accuracy = accuracy_score(y_test, bagging_y_pred)\n",
    "print(f'Bagging accuracy: {bagging_accuracy:.4f}')"
   ]
  },
  {
   "cell_type": "markdown",
   "id": "4a65a826",
   "metadata": {},
   "source": [
    "## AdaBoosting \n",
    "Next, we will implement AdaBoosting integration method and show the accuracy."
   ]
  },
  {
   "cell_type": "code",
   "execution_count": 6,
   "id": "34d88b6b",
   "metadata": {},
   "outputs": [
    {
     "name": "stdout",
     "output_type": "stream",
     "text": [
      "AdaBoost accuracy: 0.8058\n"
     ]
    }
   ],
   "source": [
    "# Create the Boosting ensemble\n",
    "adaboost_classifier = AdaBoostClassifier(\n",
    "    estimator=decision_tree,\n",
    "    n_estimators=100\n",
    ")\n",
    "\n",
    "adaboost_classifier.fit(X_train, y_train)\n",
    "adaboost_y_pred = adaboost_classifier.predict(X_test)\n",
    "adaboost_accuracy = accuracy_score(y_test, adaboost_y_pred)\n",
    "print(f'AdaBoost accuracy: {adaboost_accuracy:.4f}')"
   ]
  },
  {
   "cell_type": "markdown",
   "id": "e1353647",
   "metadata": {},
   "source": [
    "## Stacking\n",
    "Next, we will implement AdaBoosting integration method, define the voting mechanism by using the VotingClassifier of scikit-learn and show the accuracy."
   ]
  },
  {
   "cell_type": "code",
   "execution_count": 7,
   "id": "d1aef148",
   "metadata": {
    "scrolled": false
   },
   "outputs": [
    {
     "name": "stdout",
     "output_type": "stream",
     "text": [
      "Stacking Classifier accuracy (before GridSearchCV): 0.7838\n"
     ]
    }
   ],
   "source": [
    "# Create the Stacking ensemble\n",
    "voting_classifier = VotingClassifier(\n",
    "    estimators=[\n",
    "        ('decision_tree', decision_tree),\n",
    "        ('instance_based_learning', instance_based_learning),\n",
    "        ('bayesian_learning', bayesian_learning),\n",
    "        ('neural_network', neural_network)\n",
    "    ],\n",
    "    voting='hard'\n",
    ")\n",
    "\n",
    "voting_classifier.fit(X_train, y_train)\n",
    "\n",
    "y_pred = voting_classifier.predict(X_test)\n",
    "accuracy = accuracy_score(y_test, y_pred)\n",
    "print(f\"Stacking Classifier accuracy (before GridSearchCV): {accuracy:.4f}\")"
   ]
  },
  {
   "cell_type": "markdown",
   "id": "bdb83ac9",
   "metadata": {},
   "source": [
    "## Optimizing Hyperparameters Using GridSearchCV\n",
    "Now, we will use GridSearchCV to optimize the hyperparameters of our integration models."
   ]
  },
  {
   "cell_type": "code",
   "execution_count": 8,
   "id": "535de458",
   "metadata": {},
   "outputs": [
    {
     "name": "stdout",
     "output_type": "stream",
     "text": [
      "Best Bagging accuracy: 0.8283\n"
     ]
    }
   ],
   "source": [
    "# Bagging\n",
    "bagging_params = {\n",
    "    'n_estimators': [10, 50, 100, 200],\n",
    "    'max_samples': [0.5, 1.0, 2],\n",
    "    'max_features': [0.7, 0.9, 2]\n",
    "}\n",
    "\n",
    "bagging_grid = GridSearchCV(bagging_classifier, bagging_params, cv=5, n_jobs=-1)\n",
    "bagging_grid.fit(X_train, y_train)\n",
    "best_bagging = bagging_grid.best_estimator_\n",
    "\n",
    "best_bagging_accuracy = accuracy_score(y_test, best_bagging.predict(X_test))\n",
    "print(f'Best Bagging accuracy: {best_bagging_accuracy:.4f}')"
   ]
  },
  {
   "cell_type": "code",
   "execution_count": 9,
   "id": "13aa224c",
   "metadata": {},
   "outputs": [
    {
     "name": "stdout",
     "output_type": "stream",
     "text": [
      "Best AdaBoost accuracy: 0.8263\n"
     ]
    }
   ],
   "source": [
    "# AdaBoost\n",
    "adaboost_params = {\n",
    "    'n_estimators': [2, 10, 20],\n",
    "    'learning_rate': [0.001, 0.005, 0.01, 0.1, 0.5, 0.8, 1.0]\n",
    "}\n",
    "\n",
    "adaboost_grid = GridSearchCV(adaboost_classifier, adaboost_params, cv=5, n_jobs=-1)\n",
    "adaboost_grid.fit(X_train, y_train)\n",
    "best_adaboost = adaboost_grid.best_estimator_\n",
    "\n",
    "best_adaboost_accuracy = accuracy_score(y_test, best_adaboost.predict(X_test))\n",
    "print(f'Best AdaBoost accuracy: {best_adaboost_accuracy:.4f}')"
   ]
  },
  {
   "cell_type": "code",
   "execution_count": 10,
   "id": "9df0faa3",
   "metadata": {},
   "outputs": [
    {
     "name": "stdout",
     "output_type": "stream",
     "text": [
      "Best Stacking accuracy: 0.7920\n"
     ]
    }
   ],
   "source": [
    "# Stacking\n",
    "voting_params = {\n",
    "    'voting': ['hard', 'soft']\n",
    "}\n",
    "\n",
    "voting_grid = GridSearchCV(voting_classifier, voting_params, cv=5, n_jobs=-1)\n",
    "voting_grid.fit(X_train, y_train)\n",
    "best_voting = voting_grid.best_estimator_\n",
    "best_votingg_accuracy = accuracy_score(y_test, best_voting.predict(X_test))\n",
    "\n",
    "print(f'Best Stacking accuracy: {best_votingg_accuracy:.4f}')\n"
   ]
  },
  {
   "cell_type": "code",
   "execution_count": 11,
   "id": "5ec965bc",
   "metadata": {},
   "outputs": [
    {
     "name": "stdout",
     "output_type": "stream",
     "text": [
      "Best Bagging Classifier Hyperparameters:\n",
      "{'max_features': 0.9, 'max_samples': 1.0, 'n_estimators': 50}\n",
      "Best AdaBoost Classifier Hyperparameters:\n",
      "{'learning_rate': 0.005, 'n_estimators': 10}\n",
      "Best Voting Classifier Hyperparameters:\n",
      "{'voting': 'soft'}\n"
     ]
    }
   ],
   "source": [
    "print(\"Best Bagging Classifier Hyperparameters:\")\n",
    "print(bagging_grid.best_params_)\n",
    "\n",
    "print(\"Best AdaBoost Classifier Hyperparameters:\")\n",
    "print(adaboost_grid.best_params_)\n",
    "\n",
    "print(\"Best Voting Classifier Hyperparameters:\")\n",
    "print(voting_grid.best_params_)"
   ]
  },
  {
   "cell_type": "markdown",
   "id": "5dcbf17f",
   "metadata": {},
   "source": [
    "According to the output parameters, it can be determined that no parameters are at the boundary value, so the output parameters are reliable."
   ]
  },
  {
   "cell_type": "markdown",
   "id": "ad41f4fc",
   "metadata": {},
   "source": [
    "## Validation\n",
    "In the above code, we have completed cross validation using GridSearchCV (K fold, cv=5). GridSearchCV is fitted through different combinations of hyperparameters, and cross validation is performed internally. We show the best of GridSearchCV by best_score_ Attribute to obtain the average validation score under the best parameters for each model."
   ]
  },
  {
   "cell_type": "code",
   "execution_count": 12,
   "id": "1ee40d31",
   "metadata": {},
   "outputs": [
    {
     "name": "stdout",
     "output_type": "stream",
     "text": [
      "Best Bagging Classifier:\n",
      "Validation score (mean of 5-fold CV): 0.8199583333333333\n",
      "Accuracy: 0.8283333333333334\n",
      "              precision    recall  f1-score   support\n",
      "\n",
      "           0       0.85      0.96      0.90      4703\n",
      "           1       0.70      0.36      0.48      1297\n",
      "\n",
      "    accuracy                           0.83      6000\n",
      "   macro avg       0.77      0.66      0.69      6000\n",
      "weighted avg       0.81      0.83      0.81      6000\n",
      "\n",
      "Best AdaBoost Classifier:\n",
      "Validation score (mean of 5-fold CV): 0.8195\n",
      "Accuracy: 0.8263333333333334\n",
      "              precision    recall  f1-score   support\n",
      "\n",
      "           0       0.84      0.95      0.90      4703\n",
      "           1       0.69      0.36      0.47      1297\n",
      "\n",
      "    accuracy                           0.83      6000\n",
      "   macro avg       0.77      0.66      0.68      6000\n",
      "weighted avg       0.81      0.83      0.80      6000\n",
      "\n",
      "Best Voting Classifier:\n",
      "Validation score (mean of 5-fold CV): 0.7844583333333334\n",
      "Accuracy: 0.792\n",
      "              precision    recall  f1-score   support\n",
      "\n",
      "           0       0.79      1.00      0.88      4703\n",
      "           1       0.82      0.05      0.09      1297\n",
      "\n",
      "    accuracy                           0.79      6000\n",
      "   macro avg       0.80      0.52      0.49      6000\n",
      "weighted avg       0.80      0.79      0.71      6000\n",
      "\n"
     ]
    }
   ],
   "source": [
    "#Output cross validation scores\n",
    "def evaluate_model(model, X_test, y_test):\n",
    "    y_pred = model.predict(X_test)\n",
    "    accuracy = accuracy_score(y_test, y_pred)\n",
    "    print(\"Accuracy:\", accuracy)\n",
    "    print(classification_report(y_test, y_pred))\n",
    "    \n",
    "def print_validation_score(grid_search):\n",
    "    print(\"Validation score (mean of 5-fold CV):\", grid_search.best_score_)\n",
    "    \n",
    "print(\"Best Bagging Classifier:\")\n",
    "print_validation_score(bagging_grid)\n",
    "evaluate_model(best_bagging, X_test, y_test)\n",
    "\n",
    "print(\"Best AdaBoost Classifier:\")\n",
    "print_validation_score(adaboost_grid)\n",
    "evaluate_model(best_adaboost, X_test, y_test)\n",
    "\n",
    "print(\"Best Voting Classifier:\")\n",
    "print_validation_score(voting_grid)\n",
    "evaluate_model(best_voting, X_test, y_test)"
   ]
  },
  {
   "cell_type": "markdown",
   "id": "95e92def",
   "metadata": {},
   "source": [
    "## Performance Evaluation\n",
    "Based on the above results, we can observe the performance of three integration methods (Bagging, AdaBoost, and Voting) on the test set. \n",
    "From an accuracy perspective, Bagging and AdaBoost performed fairly closely, while Voting performed slightly worse. However, accuracy does not fully reflect the performance of the model, especially when categories are unbalanced. Therefore, we need to look at other evaluation indicators, such as precision, recall, and F1-score.\n",
    "Observing the results of precision, recall, and F1-score, we can find that Bagging and AdaBoost perform similarly in prediction category 0 (non-default), while AdaBoost has slightly higher precision than Bagging in prediction category 1 (default), but recall is lower. Overall, Bagging and AdaBoost have performed fairly well in the F1 core.\n",
    "At the same time, Voting's performance in predicting category 1 is poor, especially in the area of recall, indicating its limited ability to identify defaulting customers. This may be due to the impact of the poor performance of some base learners on the Voting method.\n",
    "After comprehensive consideration of various evaluation indicators, we can conclude that Bagging and AdaBoost performed fairly well in this task, both of which are better than the Voting method. Although there is no significant difference between Bagging and AdaBoost in terms of accuracy and F1-score, since Bagging's verification score (the average of 5-fold cross-validation) is slightly higher than AdaBoost, we can consider that the Bagging method performs best in this task. "
   ]
  },
  {
   "cell_type": "markdown",
   "id": "c5a5661b",
   "metadata": {},
   "source": [
    "### Plot the performance of different models to directly show the comparison"
   ]
  },
  {
   "cell_type": "code",
   "execution_count": 13,
   "id": "c092dc4f",
   "metadata": {},
   "outputs": [
    {
     "data": {
      "image/png": "[encoded data removed]",
      "text/plain": [
       "<Figure size 432x288 with 1 Axes>"
      ]
     },
     "metadata": {
      "needs_background": "light"
     },
     "output_type": "display_data"
    }
   ],
   "source": [
    "import matplotlib.pyplot as plt\n",
    "models = np.array(['BaggingClassifier(max_samples=2,max_features=1.0)',\n",
    "                   'AdaBoostClassifier(n_estimators=100)',\n",
    "                   'VotingClassifier(voting=\\'hard\\')',\n",
    "                   'BaggingClassifier(max_samples=1.0,max_features=0.9,n_estimators=50)',\n",
    "                   'AdaBoostClassifier(learning_rate=0.005,n_estimators=10)'])\n",
    "accuracy = np.array([0.7838,0.8058,0.7838, 0.8283, 0.8263])\n",
    "colors = ['b', 'b', 'b', 'r', 'b']\n",
    "plt.bar(models, accuracy, color=colors)\n",
    "plt.xticks(np.arange(len(models)), models,rotation=90)\n",
    "plt.ylim(0.6, 0.9)\n",
    "plt.xlabel('Model')\n",
    "plt.ylabel('Accuracy')\n",
    "for i, v in enumerate(accuracy):\n",
    "    plt.text(i, v+0.001, str(v), ha='center', fontsize=10)\n",
    "plt.show()"
   ]
  },
  {
   "cell_type": "markdown",
   "id": "b3e1656c",
   "metadata": {},
   "source": [
    "## Output pickle saved model"
   ]
  },
  {
   "cell_type": "code",
   "execution_count": 14,
   "id": "22b191e0",
   "metadata": {},
   "outputs": [],
   "source": [
    "pickle.dump(best_bagging, open('ensemble.sav', 'wb'))"
   ]
  },
  {
   "cell_type": "markdown",
   "id": "b03623fc",
   "metadata": {},
   "source": [
    "\n"
   ]
  }
 ],
 "metadata": {
  "kernelspec": {
   "display_name": "Python 3 (ipykernel)",
   "language": "python",
   "name": "python3"
  },
  "language_info": {
   "codemirror_mode": {
    "name": "ipython",
    "version": 3
   },
   "file_extension": ".py",
   "mimetype": "text/x-python",
   "name": "python",
   "nbconvert_exporter": "python",
   "pygments_lexer": "ipython3",
   "version": "3.9.12"
  }
 },
 "nbformat": 4,
 "nbformat_minor": 5
}
